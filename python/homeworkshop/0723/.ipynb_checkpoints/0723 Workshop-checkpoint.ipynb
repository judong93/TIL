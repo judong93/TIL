{
 "cells": [
  {
   "cell_type": "code",
   "execution_count": 14,
   "metadata": {},
   "outputs": [
    {
     "data": {
      "text/plain": [
       "'SsAfY'"
      ]
     },
     "execution_count": 14,
     "metadata": {},
     "output_type": "execute_result"
    }
   ],
   "source": [
    "'''\n",
    "def get_secret_word(numbers):\n",
    "    for number in numbers:\n",
    "        return chr(number)\n",
    "\n",
    "get_secret_word([83, 115, 65, 102, 89])\n",
    "'''\n",
    "\n",
    "def get_secret_word(numbers):\n",
    "    result = ''\n",
    "    for number in numbers:\n",
    "        result += chr(number)\n",
    "    return result\n",
    "\n",
    "get_secret_word([83, 115, 65, 102, 89])"
   ]
  },
  {
   "cell_type": "code",
   "execution_count": 16,
   "metadata": {},
   "outputs": [
    {
     "data": {
      "text/plain": [
       "336"
      ]
     },
     "execution_count": 16,
     "metadata": {},
     "output_type": "execute_result"
    }
   ],
   "source": [
    "def get_secret_number(word):\n",
    "    result = 0\n",
    "    for char in word:\n",
    "        result += ord(char)\n",
    "    return result\n",
    "\n",
    "get_secret_number('tom')"
   ]
  },
  {
   "cell_type": "code",
   "execution_count": 17,
   "metadata": {},
   "outputs": [
    {
     "data": {
      "text/plain": [
       "'wooyong님이 짱짱 세네요!'"
      ]
     },
     "execution_count": 17,
     "metadata": {},
     "output_type": "execute_result"
    }
   ],
   "source": [
    "def get_strong_word(word1, word2):\n",
    "    word1_total = 0\n",
    "    word2_total = 0\n",
    "\n",
    "    for char in word1:\n",
    "        word1_total += ord(char)\n",
    "        \n",
    "    for char in word2:\n",
    "        word2_total += ord(char)\n",
    "    \n",
    "    if word1_total > word2_total:\n",
    "        return f'{word1}님이 짱짱 세네요!'\n",
    "    else:\n",
    "        return f'{word2}님이 제일 쎄여'\n",
    "    \n",
    "get_strong_word('wooyong', 'jinpyo')"
   ]
  }
 ],
 "metadata": {
  "kernelspec": {
   "display_name": "Python 3",
   "language": "python",
   "name": "python3"
  },
  "language_info": {
   "codemirror_mode": {
    "name": "ipython",
    "version": 3
   },
   "file_extension": ".py",
   "mimetype": "text/x-python",
   "name": "python",
   "nbconvert_exporter": "python",
   "pygments_lexer": "ipython3",
   "version": "3.7.7"
  }
 },
 "nbformat": 4,
 "nbformat_minor": 4
}
