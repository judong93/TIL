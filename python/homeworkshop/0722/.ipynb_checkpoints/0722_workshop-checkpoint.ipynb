{
 "cells": [
  {
   "cell_type": "code",
   "execution_count": 12,
   "metadata": {
    "colab": {
     "base_uri": "https://localhost:8080/",
     "height": 327
    },
    "colab_type": "code",
    "id": "hA2VgnFSN04O",
    "outputId": "316ba109-1c09-4997-e79d-34ba5bab1d07"
   },
   "outputs": [
    {
     "name": "stdout",
     "output_type": "stream",
     "text": [
      "5.0\n"
     ]
    }
   ],
   "source": [
    "'''def list_sum(a):\n",
    "    cnt = 0\n",
    "    for i in a:\n",
    "        cnt += i\n",
    "    return cnt\n",
    "\n",
    "list_sum([1, 2, 3, 4, 5])\n",
    "'''\n",
    "# list_sum 함수를 정의하고, numbers라는 이름의 '매개변수(parameter)'를 받는다.\n",
    "def list_sum(numbers):  #사탕 기계.\n",
    "    #1. 결과값 변수 초기화\n",
    "    total = 0\n",
    "    \n",
    "    #2. 숫자 리스트 순회\n",
    "    for num in numbers:\n",
    "        #3. 겨ㅑㄹ과값에 더한다.\n",
    "        total += num\n",
    "    #4. 함수의 결과값을 바깥으로 보내기 위해 '반환(Return)'한다. \n",
    "    #print(total) # '사탕 받아라'고 기계가 외치는 느낌.\n",
    "    return total # 사탕 하나를 밖으로 보낸다.\n",
    "\n",
    "\n",
    "#list_sum 함수를 호출하고, [1,2,3,4,5]라는 '인자(argument)'를 전달한다.\n",
    "my_sum = list_sum([1, 2, 3, 4, 5])\n",
    "print(my_sum / 3)\n",
    "# 이런식으로 함수의값을 바깥에서 적용 시키려면 return을 써야함. print를 쓰면 그 값을 출력하고 뒤의 로직은 적용안됨."
   ]
  },
  {
   "cell_type": "code",
   "execution_count": 37,
   "metadata": {
    "colab": {
     "base_uri": "https://localhost:8080/",
     "height": 34
    },
    "colab_type": "code",
    "id": "olYq2ckWO_ym",
    "outputId": "9478263c-fa80-45c9-ae74-fa26ca642d68"
   },
   "outputs": [
    {
     "data": {
      "text/plain": [
       "55"
      ]
     },
     "execution_count": 37,
     "metadata": {},
     "output_type": "execute_result"
    }
   ],
   "source": [
    "#3.\n",
    "#\n",
    "#def all_list_sum(a):\n",
    "    #cnt = 0\n",
    "    #for i in a:\n",
    "   #     for j in i:\n",
    "  #          len(j)\n",
    "        \n",
    "  #      cnt += \n",
    " #   return cnt\n",
    "\n",
    "#all_list_sum([1], [2, 3], [4, 5, 6], [7, 8, 9, 10])\n",
    "\n",
    "def all_list_sum(numbers_list):\n",
    "    #1. 결과값 변수 초기화\n",
    "    total = 0\n",
    "    #2. 첫번째 숫자 리스트를 순회하며,\n",
    "    for numbers in numbers_list:\n",
    "        #3. 두번째 숫자 리스트를 순회하며,\n",
    "        for number in numbers:\n",
    "            #4. 꺼낸 숫자를 결과값에 더한다.\n",
    "            total += number\n",
    "    #5. 결과값을 반환(return)한다.\n",
    "    return total\n",
    "\n",
    "all_list_sum([[1],\n",
    "             [2, 3],\n",
    "             [4, 5, 6],\n",
    "             [7, 8, 9, 10]\n",
    "])\n"
   ]
  },
  {
   "cell_type": "code",
   "execution_count": 35,
   "metadata": {},
   "outputs": [
    {
     "data": {
      "text/plain": [
       "19"
      ]
     },
     "execution_count": 35,
     "metadata": {},
     "output_type": "execute_result"
    }
   ],
   "source": [
    "#2.dictionary 합 구하기\n",
    "'''def dic_list_sum(a):\n",
    "    summ = 0\n",
    "    for i in a:\n",
    "        summ += i['age']\n",
    "    return summ\n",
    "\n",
    "dic_list_sum([{'name': 'kim', 'age': 12}, \n",
    "              {'name': 'lee', 'age': 4}])\n",
    "'''\n",
    "\n",
    "def dict_list_sum(persons):\n",
    "    #1. 변수 초기화\n",
    "    total = 0\n",
    "    \n",
    "    #2. 딕셔너리가 담긴 리스트를 순회하며, \n",
    "    for person in persons:\n",
    "    #3. 'age'라는 key의 value를 뽑아서 결과값에 더한다.\n",
    "        total += person['age']\n",
    "    return total\n",
    "\n",
    "dic_list_sum([{'name': 'kim', 'age': 15}, \n",
    "              {'name': 'lee', 'age': 4}])"
   ]
  }
 ],
 "metadata": {
  "colab": {
   "name": "0722 workshop",
   "provenance": []
  },
  "kernelspec": {
   "display_name": "Python 3",
   "language": "python",
   "name": "python3"
  },
  "language_info": {
   "codemirror_mode": {
    "name": "ipython",
    "version": 3
   },
   "file_extension": ".py",
   "mimetype": "text/x-python",
   "name": "python",
   "nbconvert_exporter": "python",
   "pygments_lexer": "ipython3",
   "version": "3.7.7"
  }
 },
 "nbformat": 4,
 "nbformat_minor": 1
}
