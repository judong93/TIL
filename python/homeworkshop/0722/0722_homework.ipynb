{
  "nbformat": 4,
  "nbformat_minor": 0,
  "metadata": {
    "colab": {
      "name": "0722 homework",
      "provenance": []
    },
    "kernelspec": {
      "name": "python3",
      "display_name": "Python 3"
    }
  },
  "cells": [
    {
      "cell_type": "code",
      "metadata": {
        "id": "mO1yVDWvDJUk",
        "colab_type": "code",
        "colab": {}
      },
      "source": [
        "# 1. built in 함수 5가지\n",
        "# set, int, id, print, sum, type"
      ],
      "execution_count": null,
      "outputs": []
    },
    {
      "cell_type": "code",
      "metadata": {
        "id": "qeKTvhACDZNo",
        "colab_type": "code",
        "colab": {}
      },
      "source": [
        "def get_middle_char(name):\n",
        "    center_index = len(list(name)) // 2\n",
        "\n",
        "    if len(list(name)) % 2 == 0:\n",
        "        return name[center_index], name[int(center_index) - 1]\n",
        "    else:\n",
        "        return name[center_index]  #질문 : 결과를 em으로는 어떻게 출력하나요?"
      ],
      "execution_count": 15,
      "outputs": []
    },
    {
      "cell_type": "code",
      "metadata": {
        "id": "gNFShDs1IDEN",
        "colab_type": "code",
        "colab": {
          "base_uri": "https://localhost:8080/",
          "height": 34
        },
        "outputId": "c8f78d58-376b-474c-cb2e-5bef452721bf"
      },
      "source": [
        "get_middle_char('jamese')\n"
      ],
      "execution_count": 17,
      "outputs": [
        {
          "output_type": "stream",
          "text": [
            "('e', 'm')\n"
          ],
          "name": "stdout"
        }
      ]
    },
    {
      "cell_type": "code",
      "metadata": {
        "id": "2NrOhoXfJTVJ",
        "colab_type": "code",
        "colab": {
          "base_uri": "https://localhost:8080/",
          "height": 134
        },
        "outputId": "8a092219-2f63-4bca-8a15-6c04ba93b6c4"
      },
      "source": [
        "3. #4!"
      ],
      "execution_count": 21,
      "outputs": [
        {
          "output_type": "error",
          "ename": "SyntaxError",
          "evalue": "ignored",
          "traceback": [
            "\u001b[0;36m  File \u001b[0;32m\"<ipython-input-21-27191628717a>\"\u001b[0;36m, line \u001b[0;32m4\u001b[0m\n\u001b[0;31m    ssafy(name='길동', '구미')\u001b[0m\n\u001b[0m                        ^\u001b[0m\n\u001b[0;31mSyntaxError\u001b[0m\u001b[0;31m:\u001b[0m positional argument follows keyword argument\n"
          ]
        }
      ]
    },
    {
      "cell_type": "code",
      "metadata": {
        "id": "AOQqE4ieK5Yh",
        "colab_type": "code",
        "colab": {
          "base_uri": "https://localhost:8080/",
          "height": 134
        },
        "outputId": "836b06fe-1493-495c-f212-227942f6b594"
      },
      "source": [
        "def my func(a, b):\n",
        "    c= a + b\n",
        "    print(c)\n",
        "  \n",
        "  \n",
        "result = my func(3, 7)\n",
        "\n",
        "4. 이해가 안됩니다..ㅠ"
      ],
      "execution_count": 22,
      "outputs": [
        {
          "output_type": "error",
          "ename": "SyntaxError",
          "evalue": "ignored",
          "traceback": [
            "\u001b[0;36m  File \u001b[0;32m\"<ipython-input-22-e901a7e8f8ed>\"\u001b[0;36m, line \u001b[0;32m1\u001b[0m\n\u001b[0;31m    def my func(a, b):\u001b[0m\n\u001b[0m              ^\u001b[0m\n\u001b[0;31mSyntaxError\u001b[0m\u001b[0;31m:\u001b[0m invalid syntax\n"
          ]
        }
      ]
    },
    {
      "cell_type": "code",
      "metadata": {
        "id": "-5M-rke7LmCJ",
        "colab_type": "code",
        "colab": {
          "base_uri": "https://localhost:8080/",
          "height": 34
        },
        "outputId": "9fd63b9c-2f51-495b-ef81-01fce19b99e7"
      },
      "source": [
        "def my_avg(*args):\n",
        "    cnt = 0\n",
        "    for i in args:\n",
        "        cnt += i\n",
        "    print(cnt / len(args))\n",
        "\n",
        "my_avg(77, 83, 95, 80, 70)"
      ],
      "execution_count": 26,
      "outputs": [
        {
          "output_type": "stream",
          "text": [
            "81.0\n"
          ],
          "name": "stdout"
        }
      ]
    }
  ]
}