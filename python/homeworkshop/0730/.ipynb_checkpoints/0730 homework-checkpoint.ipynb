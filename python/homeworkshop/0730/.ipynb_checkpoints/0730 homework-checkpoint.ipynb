{
 "cells": [
  {
   "cell_type": "code",
   "execution_count": 1,
   "metadata": {},
   "outputs": [],
   "source": [
    "class Circle:\n",
    "    pi = 3.14\n",
    "    x = 0\n",
    "    y = 0\n",
    "    r = 0\n",
    "    \n",
    "    def __init__(self, r, x, y):\n",
    "        self.r = r\n",
    "        self.x = x\n",
    "        self.y = y\n",
    "        \n",
    "    def area(self):\n",
    "        return self.pi * self.r * self.r\n",
    "    \n",
    "    def circumference(self):\n",
    "        return 2 * self.pi * self.r\n",
    "    \n",
    "    def center(self):\n",
    "        return (self.x, self.y)"
   ]
  },
  {
   "cell_type": "code",
   "execution_count": 6,
   "metadata": {},
   "outputs": [
    {
     "name": "stdout",
     "output_type": "stream",
     "text": [
      "28.259999999999998\n",
      "18.84\n"
     ]
    }
   ],
   "source": [
    "new_circle = Circle(3, 2, 4)\n",
    "print(new_circle.area())\n",
    "print(new_circle.circumference())"
   ]
  },
  {
   "cell_type": "code",
   "execution_count": 18,
   "metadata": {},
   "outputs": [],
   "source": [
    "class Animal:\n",
    "    def __init__(self, name):\n",
    "        self.name = name\n",
    "    \n",
    "    def walk(self):\n",
    "        print({f'{self.name}! 걷는다!'})\n",
    "        \n",
    "    def eat(self):\n",
    "        print({f'{self.name}! 먹는다!'})\n",
    "        \n",
    "class Dog(Animal):\n",
    "    def walk(self):\n",
    "        print({f'{self.name}! 달린다!'})\n",
    "        \n",
    "    def bark(self):\n",
    "        print({f'{self.name}! 짖는다!'})\n",
    "        \n",
    "class Bird(Animal):\n",
    "    def fly(self):\n",
    "        print({f'{self.name}! 푸드덕!'})"
   ]
  },
  {
   "cell_type": "code",
   "execution_count": 17,
   "metadata": {},
   "outputs": [
    {
     "name": "stdout",
     "output_type": "stream",
     "text": [
      "{'멍멍이! 달린다!'}\n",
      "{'멍멍이! 짖는다!'}\n"
     ]
    }
   ],
   "source": [
    "dog = Dog('멍멍이')\n",
    "dog.walk()\n",
    "dog.bark()"
   ]
  },
  {
   "cell_type": "code",
   "execution_count": 19,
   "metadata": {},
   "outputs": [
    {
     "name": "stdout",
     "output_type": "stream",
     "text": [
      "{'구구! 걷는다!'}\n",
      "{'구구! 먹는다!'}\n",
      "{'구구! 푸드덕!'}\n"
     ]
    }
   ],
   "source": [
    "bird = Bird('구구')\n",
    "bird.walk()\n",
    "bird.eat()\n",
    "bird.fly()"
   ]
  },
  {
   "cell_type": "code",
   "execution_count": null,
   "metadata": {},
   "outputs": [],
   "source": [
    "ZeroDivisionError -> 0으로 나눴을 때\n",
    "NameError -> 정의되지 않은 변수를 호출 하였을 경우\n",
    "TypeError -> 자료형에 대한 타입 자체가 잘못 되었을 경우\n",
    "IndexError -> 존재하지 않는 Index를 조회할 때\n",
    "KeyError -> 딕셔너리에 Key가 존재하지 않을 때\n",
    "ModuleNotFoundError -> 모듈을 찾을 수 없는 경우\n",
    "ImportError -> 모듈을 찾았으나 클래스나 메서드가 없는 경우"
   ]
  }
 ],
 "metadata": {
  "kernelspec": {
   "display_name": "Python 3",
   "language": "python",
   "name": "python3"
  },
  "language_info": {
   "codemirror_mode": {
    "name": "ipython",
    "version": 3
   },
   "file_extension": ".py",
   "mimetype": "text/x-python",
   "name": "python",
   "nbconvert_exporter": "python",
   "pygments_lexer": "ipython3",
   "version": "3.7.7"
  }
 },
 "nbformat": 4,
 "nbformat_minor": 4
}
