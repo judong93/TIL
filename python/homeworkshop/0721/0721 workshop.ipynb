{
  "nbformat": 4,
  "nbformat_minor": 0,
  "metadata": {
    "colab": {
      "name": "Untitled0.ipynb",
      "provenance": []
    },
    "kernelspec": {
      "name": "python3",
      "display_name": "Python 3"
    }
  },
  "cells": [
    {
      "cell_type": "code",
      "metadata": {
        "id": "ZbNZILn2wb6N",
        "colab_type": "code",
        "colab": {
          "base_uri": "https://localhost:8080/",
          "height": 34
        },
        "outputId": "accef72e-dc85-4af0-db97-dd7d308b5c42"
      },
      "source": [
        "#1 약수 구하기\n",
        "N= 10\n",
        "\n",
        "for i in range(1, N+1):\n",
        "    if N % i == 0:\n",
        "        print(i, end = ' ')\n"
      ],
      "execution_count": 1,
      "outputs": [
        {
          "output_type": "stream",
          "text": [
            "1 2 5 10 "
          ],
          "name": "stdout"
        }
      ]
    },
    {
      "cell_type": "code",
      "metadata": {
        "id": "x3X3qmj4wlp7",
        "colab_type": "code",
        "colab": {
          "base_uri": "https://localhost:8080/",
          "height": 34
        },
        "outputId": "2188393d-e8f4-4e28-a8e1-e30ab23cdd4e"
      },
      "source": [
        "#2. 중간값 찾기\n",
        "\n",
        "numbers = [2, 5, 1, 3, 4]\n",
        "\n",
        "#홀수개\n",
        "# 값 : 1,2,3\n",
        "# 인덱스: 0,1,2\n",
        "#반: 1.5 ->1\n",
        "\n",
        "#1. 리스트의 크기를 찾아서 중간 인덱스 값을 찾는다.\n",
        "#cnt = 0\n",
        "#for _ in numbers: #변수를 사용하지 않았기에 언더바로 생략가능!\n",
        "#    cnt += 1\n",
        "#print(cnt)\n",
        "\n",
        "center_index = len(numbers) // 2\n",
        "#print(center_index)\n",
        "#print(numbers[center_index])\n",
        "\n",
        "#2. 리스트를 정렬해서 새로운 변수에 담는다.\n",
        "sorted_numbers = sorted(numbers)\n",
        "print(sorted_numbers[center_index])"
      ],
      "execution_count": 9,
      "outputs": [
        {
          "output_type": "stream",
          "text": [
            "3\n"
          ],
          "name": "stdout"
        }
      ]
    },
    {
      "cell_type": "code",
      "metadata": {
        "id": "AUDpJF3exI8C",
        "colab_type": "code",
        "colab": {
          "base_uri": "https://localhost:8080/",
          "height": 158
        },
        "outputId": "079bdcf9-22ba-48a3-dcdb-55515a9012c6"
      },
      "source": [
        "\n",
        "#3. 계단 만들기\n",
        "\n",
        "number = 4\n",
        "\n",
        "for i in range(1, number+1):\n",
        "    print(f'[{i}를 뽑았을 때]')\n",
        "\n",
        "    for j in range(1, i+1):\n",
        "        print(j, end=' ')\n",
        "    print() #줄바꿈!!"
      ],
      "execution_count": 16,
      "outputs": [
        {
          "output_type": "stream",
          "text": [
            "[1를 뽑았을 때]\n",
            "1 \n",
            "[2를 뽑았을 때]\n",
            "1 2 \n",
            "[3를 뽑았을 때]\n",
            "1 2 3 \n",
            "[4를 뽑았을 때]\n",
            "1 2 3 4 \n"
          ],
          "name": "stdout"
        }
      ]
    },
    {
      "cell_type": "code",
      "metadata": {
        "id": "5ODglXBc0SYj",
        "colab_type": "code",
        "colab": {
          "base_uri": "https://localhost:8080/",
          "height": 1000
        },
        "outputId": "4ebb3690-0201-4e59-bf31-6f587bd6ca89"
      },
      "source": [
        "#4. 구구단 만들기.\n",
        "\n",
        "# 2단부터 9단까지 순회\n",
        "for i in range(2,10):\n",
        "    print(f'------[{i}단]------')\n",
        "\n",
        "    # 1부터 9까지 순회(곱하기 위해)\n",
        "    for j in range(1,10):\n",
        "      print(f'{i} X {j} = {i*j}')\n",
        "      \n",
        "    print() #단 사이 1줄 비우기.(첫 포문에 걸리게!)"
      ],
      "execution_count": 30,
      "outputs": [
        {
          "output_type": "stream",
          "text": [
            "------[2단]------\n",
            "2 X 1 = 2\n",
            "2 X 2 = 4\n",
            "2 X 3 = 6\n",
            "2 X 4 = 8\n",
            "2 X 5 = 10\n",
            "2 X 6 = 12\n",
            "2 X 7 = 14\n",
            "2 X 8 = 16\n",
            "2 X 9 = 18\n",
            "\n",
            "------[3단]------\n",
            "3 X 1 = 3\n",
            "3 X 2 = 6\n",
            "3 X 3 = 9\n",
            "3 X 4 = 12\n",
            "3 X 5 = 15\n",
            "3 X 6 = 18\n",
            "3 X 7 = 21\n",
            "3 X 8 = 24\n",
            "3 X 9 = 27\n",
            "\n",
            "------[4단]------\n",
            "4 X 1 = 4\n",
            "4 X 2 = 8\n",
            "4 X 3 = 12\n",
            "4 X 4 = 16\n",
            "4 X 5 = 20\n",
            "4 X 6 = 24\n",
            "4 X 7 = 28\n",
            "4 X 8 = 32\n",
            "4 X 9 = 36\n",
            "\n",
            "------[5단]------\n",
            "5 X 1 = 5\n",
            "5 X 2 = 10\n",
            "5 X 3 = 15\n",
            "5 X 4 = 20\n",
            "5 X 5 = 25\n",
            "5 X 6 = 30\n",
            "5 X 7 = 35\n",
            "5 X 8 = 40\n",
            "5 X 9 = 45\n",
            "\n",
            "------[6단]------\n",
            "6 X 1 = 6\n",
            "6 X 2 = 12\n",
            "6 X 3 = 18\n",
            "6 X 4 = 24\n",
            "6 X 5 = 30\n",
            "6 X 6 = 36\n",
            "6 X 7 = 42\n",
            "6 X 8 = 48\n",
            "6 X 9 = 54\n",
            "\n",
            "------[7단]------\n",
            "7 X 1 = 7\n",
            "7 X 2 = 14\n",
            "7 X 3 = 21\n",
            "7 X 4 = 28\n",
            "7 X 5 = 35\n",
            "7 X 6 = 42\n",
            "7 X 7 = 49\n",
            "7 X 8 = 56\n",
            "7 X 9 = 63\n",
            "\n",
            "------[8단]------\n",
            "8 X 1 = 8\n",
            "8 X 2 = 16\n",
            "8 X 3 = 24\n",
            "8 X 4 = 32\n",
            "8 X 5 = 40\n",
            "8 X 6 = 48\n",
            "8 X 7 = 56\n",
            "8 X 8 = 64\n",
            "8 X 9 = 72\n",
            "\n",
            "------[9단]------\n",
            "9 X 1 = 9\n",
            "9 X 2 = 18\n",
            "9 X 3 = 27\n",
            "9 X 4 = 36\n",
            "9 X 5 = 45\n",
            "9 X 6 = 54\n",
            "9 X 7 = 63\n",
            "9 X 8 = 72\n",
            "9 X 9 = 81\n",
            "\n"
          ],
          "name": "stdout"
        }
      ]
    },
    {
      "cell_type": "code",
      "metadata": {
        "id": "LatLnzYR0SJm",
        "colab_type": "code",
        "colab": {}
      },
      "source": [
        ""
      ],
      "execution_count": null,
      "outputs": []
    }
  ]
}