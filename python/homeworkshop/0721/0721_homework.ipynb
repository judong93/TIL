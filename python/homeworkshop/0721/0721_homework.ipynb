{
  "nbformat": 4,
  "nbformat_minor": 0,
  "metadata": {
    "colab": {
      "name": "0721 homework",
      "provenance": []
    },
    "kernelspec": {
      "name": "python3",
      "display_name": "Python 3"
    }
  },
  "cells": [
    {
      "cell_type": "code",
      "metadata": {
        "id": "4KwmOjjuV77i",
        "colab_type": "code",
        "colab": {}
      },
      "source": [
        "Mutable\n",
        "dictionary, set, list\n",
        "Immutable\n",
        "string, tuple, range"
      ],
      "execution_count": null,
      "outputs": []
    },
    {
      "cell_type": "code",
      "metadata": {
        "id": "T1bQgtTtWRqO",
        "colab_type": "code",
        "colab": {}
      },
      "source": [
        "for i in range(1,51):\n",
        "    if i % 2 == 0:\n",
        "        pass\n",
        "    else:\n",
        "        i =?..\n",
        "        #slicing을 쓰라는데, 배운 적이 없는 것 같습니다..\n"
      ],
      "execution_count": null,
      "outputs": []
    },
    {
      "cell_type": "code",
      "metadata": {
        "id": "P8JOUjcDXSeS",
        "colab_type": "code",
        "colab": {}
      },
      "source": [
        "{강석민:26, 강채원:25, 김대중:26}"
      ],
      "execution_count": null,
      "outputs": []
    },
    {
      "cell_type": "code",
      "metadata": {
        "id": "FJBQ5RDBY-ec",
        "colab_type": "code",
        "colab": {
          "base_uri": "https://localhost:8080/",
          "height": 105
        },
        "outputId": "9277e380-692c-4357-cc74-9c1591a0a2e6"
      },
      "source": [
        "for i in range(5):\n",
        "  for j in range(5):\n",
        "      print('*', end='')\n",
        "  print('')"
      ],
      "execution_count": 16,
      "outputs": [
        {
          "output_type": "stream",
          "text": [
            "*****\n",
            "*****\n",
            "*****\n",
            "*****\n",
            "*****\n"
          ],
          "name": "stdout"
        }
      ]
    },
    {
      "cell_type": "code",
      "metadata": {
        "id": "azvZRxHfbxKh",
        "colab_type": "code",
        "colab": {
          "base_uri": "https://localhost:8080/",
          "height": 34
        },
        "outputId": "452c08fc-207a-4e9b-cdcd-7eb0997598bd"
      },
      "source": [
        "temp = 36.5\n",
        "print('입실 불가') if temp >= 37.5 else print('입실 가능')"
      ],
      "execution_count": 19,
      "outputs": [
        {
          "output_type": "stream",
          "text": [
            "입실 가능\n"
          ],
          "name": "stdout"
        }
      ]
    },
    {
      "cell_type": "code",
      "metadata": {
        "id": "UcYMaoECcTNe",
        "colab_type": "code",
        "colab": {
          "base_uri": "https://localhost:8080/",
          "height": 34
        },
        "outputId": "29f66314-e7a8-499d-9af5-d2debf5706a8"
      },
      "source": [
        "scores = [80, 89, 99, 83]\n",
        "print(sum(scores) / len(scores))"
      ],
      "execution_count": 20,
      "outputs": [
        {
          "output_type": "stream",
          "text": [
            "87.75\n"
          ],
          "name": "stdout"
        }
      ]
    }
  ]
}