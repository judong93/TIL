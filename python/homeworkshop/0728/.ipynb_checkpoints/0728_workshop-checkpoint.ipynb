{
 "cells": [
  {
   "cell_type": "code",
   "execution_count": 7,
   "metadata": {},
   "outputs": [
    {
     "name": "stdout",
     "output_type": "stream",
     "text": [
      "['p']\n",
      "['a', 'n']\n"
     ]
    }
   ],
   "source": [
    "''' 내가 풀어본 방식(잘돌아감)\n",
    "def duplicated_letters(name):\n",
    "    char_list = []\n",
    "    result = []\n",
    "    for char in name:\n",
    "        if (char_list.count(char) == 1) and (char not in result):\n",
    "            result.append(char)\n",
    "        else:\n",
    "            char_list.append(char)\n",
    "    return result\n",
    "        \n",
    "print(duplicated_letters('apple'))\n",
    "print(duplicated_letters('banana'))\n",
    "'''\n",
    "\n",
    "def duplicated_letters(word):\n",
    "#    result = []\n",
    "#    for char in word:\n",
    "#        if word.count(char) >= 2 and char not in result: #문자가 두개 이상이고, 결과값에 들어가지 않은 경우.\n",
    "#            result.append(char)\n",
    "    result = list({char for char in word if word.count(char) >= 2})\n",
    "    \n",
    "    return result\n",
    "    \n",
    "    \n",
    "print(duplicated_letters('apple'))\n",
    "print(duplicated_letters('banana'))\n"
   ]
  },
  {
   "cell_type": "code",
   "execution_count": 9,
   "metadata": {},
   "outputs": [
    {
     "name": "stdout",
     "output_type": "stream",
     "text": [
      "aPpLe\n"
     ]
    }
   ],
   "source": [
    "''' 내가 푼 것 잘돌아감.,\n",
    "def low_and_up(name):\n",
    "    list_a = []\n",
    "    for char in name:\n",
    "        list_a.append(char)\n",
    "    for i in range(1, len(list_a), 2):\n",
    "        list_a[i] = list_a[i].upper()\n",
    "    return ''.join(list_a)\n",
    "        \n",
    "    \n",
    "print(low_and_up('apple'))\n",
    "print(low_and_up('banana'))\n",
    "'''\n",
    "\n",
    "def low_and_up(word):\n",
    "    new_word = ''\n",
    "    for idx, char in enumerate(word):\n",
    "        if idx % 2:\n",
    "            new_word += char.upper()\n",
    "        else:\n",
    "            new_word += char.lower()\n",
    "    return new_word\n",
    "    \n",
    "    \n",
    "print(low_and_up('apple'))"
   ]
  },
  {
   "cell_type": "code",
   "execution_count": 10,
   "metadata": {},
   "outputs": [
    {
     "name": "stdout",
     "output_type": "stream",
     "text": [
      "[1, 3, 0, 1]\n"
     ]
    }
   ],
   "source": [
    "'''\n",
    "def lonely(list_a):\n",
    "    for num in range(len(list_a)-1, 0, -1):\n",
    "        if list_a[num] == list_a[num - 1]:\n",
    "            list_a.pop(num)\n",
    "    return list_a\n",
    "    \n",
    "print(lonely([1, 1, 3, 3, 0, 1, 1]))\n",
    "print(lonely([4, 4, 4, 3, 3]))\n",
    "'''\n",
    "\n",
    "def lonely(numbers):\n",
    "    result = []\n",
    "    for idx, num in enumerate(numbers):\n",
    "        if idx == 0: # 첫번째 숫자는 바로 추가\n",
    "            result.append(num)\n",
    "        if result[-1] != num: #최근에 넣은 숫자와 지금 순회하는 숫자 비교 후 같지 않으면 \n",
    "            result.append(num) # 추가\n",
    "    return result\n",
    "    \n",
    "print(lonely([1, 1, 3, 3, 0, 1, 1]))"
   ]
  }
 ],
 "metadata": {
  "kernelspec": {
   "display_name": "Python 3",
   "language": "python",
   "name": "python3"
  },
  "language_info": {
   "codemirror_mode": {
    "name": "ipython",
    "version": 3
   },
   "file_extension": ".py",
   "mimetype": "text/x-python",
   "name": "python",
   "nbconvert_exporter": "python",
   "pygments_lexer": "ipython3",
   "version": "3.7.7"
  }
 },
 "nbformat": 4,
 "nbformat_minor": 4
}
