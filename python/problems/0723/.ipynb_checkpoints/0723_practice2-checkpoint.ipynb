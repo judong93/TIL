{
 "cells": [
  {
   "cell_type": "markdown",
   "metadata": {},
   "source": [
    "# Practice 2\n",
    "\n",
    "> 함수"
   ]
  },
  {
   "cell_type": "markdown",
   "metadata": {},
   "source": [
    "## 불쌍한 달팽이\n",
    "\n",
    "> 달팽이는 낮 시간 동안에 기둥을 올라간다. 하지만 밤에는 잠을 자면서 어느 정도의 거리만큼 미끄러진다. (낮 시간 동안 올라간 거리보다는 적게 미끄러진다.)\n",
    "> \n",
    "> 달팽이가 기둥의 꼭대기에 도달하는 날까지 걸리는 시간을 반환하는 함수 `snail()`을 작성하시오.\n",
    "\n",
    "> 함수의 인자는 다음과 같다.\n",
    "1. 기둥의 높이(미터)\n",
    "2. 낮 시간 동안 달팽이가 올라가는 거리(미터)\n",
    "3. 달팽이가 야간에 잠을 자는 동안 미끄러지는 거리(미터)\n",
    "\n",
    "---\n",
    "\n",
    "예시)\n",
    "\n",
    "```python\n",
    "snail(100, 5, 2) #=> 33\n",
    "```"
   ]
  },
  {
   "cell_type": "code",
   "execution_count": 2,
   "metadata": {},
   "outputs": [
    {
     "ename": "SyntaxError",
     "evalue": "'return' outside function (<ipython-input-2-449b3f4cf9ef>, line 24)",
     "output_type": "error",
     "traceback": [
      "\u001b[1;36m  File \u001b[1;32m\"<ipython-input-2-449b3f4cf9ef>\"\u001b[1;36m, line \u001b[1;32m24\u001b[0m\n\u001b[1;33m    return day_count\u001b[0m\n\u001b[1;37m    ^\u001b[0m\n\u001b[1;31mSyntaxError\u001b[0m\u001b[1;31m:\u001b[0m 'return' outside function\n"
     ]
    }
   ],
   "source": [
    "'''\n",
    "import sys\n",
    "\n",
    "def snail(height, day, night):\n",
    "    for x in range(1, sys.maxsize):\n",
    "        if x * (day - night) == height:\n",
    "            return x\n",
    "        elif x * (day - night) + day >= height:\n",
    "            return x + 1\n",
    "            '''\n",
    "#변수초기화\n",
    "day_count = 0\n",
    "\n",
    "#반복!!! for => 하나씩 꺼낼 수 있는 것을 건네주면, 전부다 꺼낼때까지 순회한다.\n",
    "# while -> 종료조건에 부합할 때까지 계쏙해서 순회한다.\n",
    "while True:\n",
    "    # 새로운 아침이 밝았어요. day_count가 하나 증가합니다.\n",
    "    day_count += 1\n",
    "    # 낮 시간 동안 열심히 기둥을 올라갑니다.\n",
    "    height -= day\n",
    "    \n",
    "    # 기둥에 도착을 하면, 며칠 걸렸는지 날짜를 반환한다.\n",
    "    if height <= 0:\n",
    "        return day_count\n",
    "    \n",
    "    # 기둥에 도착을 하지 못하고, 밤이 되면, 기둥에서 미끄러집니다.\n",
    "    height += night\n",
    "            "
   ]
  },
  {
   "cell_type": "code",
   "execution_count": null,
   "metadata": {},
   "outputs": [],
   "source": [
    "def snail():\n",
    "    "
   ]
  },
  {
   "cell_type": "code",
   "execution_count": 44,
   "metadata": {},
   "outputs": [
    {
     "name": "stdout",
     "output_type": "stream",
     "text": [
      "33\n"
     ]
    }
   ],
   "source": [
    "# 해당 코드를 통해 올바른 결과가 나오는지 확인하시오.\n",
    "print(snail(100, 5, 2))"
   ]
  },
  {
   "cell_type": "markdown",
   "metadata": {},
   "source": [
    "## 자릿수 더하기 (SWEA #2058)\n",
    "\n",
    "> 자연수 number를 입력 받아, 각 자릿수의 합을 계산하여 출력하시오.\n",
    "\n",
    "---\n",
    "\n",
    "예시)\n",
    "\n",
    "```python\n",
    "sum_of_digit(1234) #=> 10\n",
    "sum_of_digit(4321) #=> 10\n",
    "```"
   ]
  },
  {
   "cell_type": "code",
   "execution_count": 30,
   "metadata": {},
   "outputs": [],
   "source": [
    "\n",
    "'''def sum_of_digit(number):\n",
    "    total = 0\n",
    "    for num in str(number)):\n",
    "        total += int(num)\n",
    "    return total\n",
    "   '''\n",
    "def sum_of_digit(number):\n",
    "    #변수 초기화\n",
    "    result = 0\n",
    "    \n",
    "    #자릿수 다 구할 떄까지 순회\n",
    "    while number:\n",
    "        # 나머지 (-> 자릿수)\n",
    "        reminder = number % 10 \n",
    "        #자릿수 결과값에 더하기\n",
    "        result += reminder\n",
    "        # 몫을 다음 나눌 숫자로 교체햐기\n",
    "        number = number // 10\n",
    "    #결과값 반환\n",
    "    return result"
   ]
  },
  {
   "cell_type": "code",
   "execution_count": 31,
   "metadata": {},
   "outputs": [
    {
     "name": "stdout",
     "output_type": "stream",
     "text": [
      "10\n",
      "10\n"
     ]
    }
   ],
   "source": [
    "# 해당 코드를 통해 올바른 결과가 나오는지 확인하시오.\n",
    "print(sum_of_digit(1234))\n",
    "print(sum_of_digit(4321))"
   ]
  }
 ],
 "metadata": {
  "kernelspec": {
   "display_name": "Python 3",
   "language": "python",
   "name": "python3"
  },
  "language_info": {
   "codemirror_mode": {
    "name": "ipython",
    "version": 3
   },
   "file_extension": ".py",
   "mimetype": "text/x-python",
   "name": "python",
   "nbconvert_exporter": "python",
   "pygments_lexer": "ipython3",
   "version": "3.7.7"
  },
  "toc": {
   "base_numbering": 1,
   "nav_menu": {},
   "number_sections": true,
   "sideBar": true,
   "skip_h1_title": false,
   "title_cell": "Table of Contents",
   "title_sidebar": "Contents",
   "toc_cell": false,
   "toc_position": {},
   "toc_section_display": true,
   "toc_window_display": false
  }
 },
 "nbformat": 4,
 "nbformat_minor": 4
}
