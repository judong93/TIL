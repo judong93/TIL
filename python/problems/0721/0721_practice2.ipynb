{
  "nbformat": 4,
  "nbformat_minor": 0,
  "metadata": {
    "kernelspec": {
      "display_name": "Python 3",
      "language": "python",
      "name": "python3"
    },
    "language_info": {
      "codemirror_mode": {
        "name": "ipython",
        "version": 3
      },
      "file_extension": ".py",
      "mimetype": "text/x-python",
      "name": "python",
      "nbconvert_exporter": "python",
      "pygments_lexer": "ipython3",
      "version": "3.7.7"
    },
    "toc": {
      "base_numbering": 1,
      "nav_menu": {},
      "number_sections": true,
      "sideBar": true,
      "skip_h1_title": false,
      "title_cell": "Table of Contents",
      "title_sidebar": "Contents",
      "toc_cell": false,
      "toc_position": {},
      "toc_section_display": true,
      "toc_window_display": false
    },
    "colab": {
      "name": "0721_practice2.ipynb",
      "provenance": [],
      "collapsed_sections": []
    }
  },
  "cells": [
    {
      "cell_type": "markdown",
      "metadata": {
        "id": "dTCebiZVm3-m",
        "colab_type": "text"
      },
      "source": [
        "# Practice 2\n",
        "\n",
        "> 데이터 & 제어문"
      ]
    },
    {
      "cell_type": "markdown",
      "metadata": {
        "id": "GGEJyNBom3_F",
        "colab_type": "text"
      },
      "source": [
        "## 더블더블 (SWEA #2019 변형)\n",
        "\n",
        "> 자연수 number를 입력 받아, 1부터 주어진 자연수 number까지 홀수는 2, 짝수는 3을 곱한 값(들)을 출력하시오.\n",
        "\n",
        "---\n",
        "```\n",
        "[제약 사항] \n",
        "주어질 숫자는 30을 넘지 않는다.\n",
        "\n",
        "[입력 예시]\n",
        "5\n",
        "\n",
        "[출력 예시]\n",
        "36\n",
        "```"
      ]
    },
    {
      "cell_type": "code",
      "metadata": {
        "scrolled": true,
        "id": "QHG9rAERm3_m",
        "colab_type": "code",
        "colab": {
          "base_uri": "https://localhost:8080/",
          "height": 52
        },
        "outputId": "3f188276-4ff7-40eb-93b3-699ffceaca9c"
      },
      "source": [
        "number = int(input())\n",
        "\n",
        "# 아래에 코드를 작성하시오.\n",
        "\n",
        "#number < 31\n",
        "#sum = 0\n",
        "\n",
        "#for num in range(1, number+1):\n",
        "#    if num % 2 == 0:\n",
        "#        num = num * 3\n",
        "#        sum += num\n",
        "#    else:\n",
        "#        num = num * 2\n",
        "#        sum += num\n",
        "\n",
        "#print(sum)\n",
        "#위는 내꺼\n",
        "\n",
        "#1. 결과값 담을 변수 초기화.\n",
        "result = 0\n",
        "\n",
        "#2. 숫자 리스트를 순회하며,\n",
        "for num in range(1, number+1):\n",
        "\n",
        "#3. 꺼낸 숫자가 홀수이면,\n",
        "    if num % 2:   # == 1 -> True와 같음.그래서 '== 1'을 없애도 됨.\n",
        "      #3.1 2를 곱한 숫자를 더한다.\n",
        "        result += (num * 2) \n",
        "    else:\n",
        "      #4. 꺼낸 숫자가 짝수이면\n",
        "      #4.1 3을 곱한 숫자를 더한다\n",
        "        result += (num * 3)\n",
        "\n",
        "print(result)"
      ],
      "execution_count": null,
      "outputs": [
        {
          "output_type": "stream",
          "text": [
            "5\n",
            "36\n"
          ],
          "name": "stdout"
        }
      ]
    },
    {
      "cell_type": "markdown",
      "metadata": {
        "id": "tv2IvgyBm4A-",
        "colab_type": "text"
      },
      "source": [
        "\n",
        "## 간단한 소수 판별 1\n",
        "\n",
        "> 입력으로 1개의 정수 number가 주어진다. 정수 number가 소수인지 아닌지 판별하여 출력하시오.\n",
        "\n",
        "---\n",
        "```\n",
        "[제약사항]\n",
        "number는 2이상 1,000이하의 정수이다. (2 ≤ number ≤ 1,000)\n",
        "\n",
        "[입력]\n",
        "입력으로 정수 number가 주어진다.\n",
        "\n",
        "[출력]\n",
        "정수 number가 소수이면 'Y', 소수가 아니면 'N'을 출력한다.\n",
        "```"
      ]
    },
    {
      "cell_type": "code",
      "metadata": {
        "id": "wxW9ckORm4BG",
        "colab_type": "code",
        "colab": {
          "base_uri": "https://localhost:8080/",
          "height": 52
        },
        "outputId": "48fafe82-8454-41bf-a9a3-5bdd9e5285e3"
      },
      "source": [
        "number = int(input())\n",
        "# 아래에 코드를 작성하시오.\n",
        "\n",
        "#for i in range(2,number):\n",
        " #   if number % i == 0:\n",
        "  #      print('N')\n",
        "   #     break\n",
        "    #elif i == number-1: \n",
        "    #    print(\"Y\")\n",
        "#1. 변수초기화(소수가 맞다고 가정)\n",
        "is_prime = 'Y'\n",
        "\n",
        "#2. 일정한 숫자 리스트를 순회한다(자신과 1을 제외한 숫자리스트)\n",
        "for num in range(2,number):\n",
        "    #3. 나누어 떨어지면,\n",
        "    if number % num == 0:#소수가 아니다.\n",
        "        is_prime = 'N'\n",
        "        break #반복문을 빠져나간다. 다음수는 나누어보지 않는다.\n",
        "\n",
        "print(is_prime)\n"
      ],
      "execution_count": null,
      "outputs": [
        {
          "output_type": "stream",
          "text": [
            "5\n",
            "Y\n"
          ],
          "name": "stdout"
        }
      ]
    },
    {
      "cell_type": "markdown",
      "metadata": {
        "id": "5etkU4KJm4CJ",
        "colab_type": "text"
      },
      "source": [
        "## 간단한 소수 판별 2\n",
        "\n",
        "> 조건, 반복문을 응용하여 numbers 리스트의 요소들이 소수인지 아닌지 판단하는 코드를 작성하시오.\n",
        "\n",
        "---\n",
        "```\n",
        "[출력 예시]\n",
        "26은(는) 소수가 아닙니다. 2은(는) 26의 인수입니다.\n",
        "39은(는) 소수가 아닙니다. 3은(는) 39의 인수입니다.\n",
        "51은(는) 소수가 아닙니다. 3은(는) 51의 인수입니다.\n",
        "53은(는) 소수입니다.\n",
        "57은(는) 소수가 아닙니다. 3은(는) 57의 인수입니다.\n",
        "79은(는) 소수입니다.\n",
        "85은(는) 소수가 아닙니다. 5은(는) 85의 인수입니다.\n",
        "```"
      ]
    },
    {
      "cell_type": "code",
      "metadata": {
        "id": "tKQOz7aym4Cd",
        "colab_type": "code",
        "colab": {
          "base_uri": "https://localhost:8080/",
          "height": 1000
        },
        "outputId": "3b811c80-596a-475a-df80-55682a6a2c05"
      },
      "source": [
        "numbers = [26, 39, 51, 53, 57, 79, 85]\n",
        "\n",
        "# 아래에 코드를 작성하시오.\n",
        "#for number in numbers:\n",
        " #   for i in range(2,number):\n",
        "  #      if number % i == 0:\n",
        "   #         print(f'{number}은(는) 소수가 아닙니다. {i}은(는) {number}의 인수입니다.')\n",
        "    #        break\n",
        "     #   elif i == number-1: \n",
        "      #      print(f'{number}은(는) 소수입니다.')\n",
        "\n",
        "for number in numbers:\n",
        "    for i in range(2,number):\n",
        "        if number % i == 0:\n",
        "            print(f'{number}은(는) 소수가 아닙니다. {i}은(는) {number}의 인수입니다.')\n",
        "            break\n",
        "        else: #전부 나눴는데 나누어 떨어지지 않은 경우(2부터 52까지_)\n",
        "            print(f'{number}은(는) 소수입니다.')"
      ],
      "execution_count": null,
      "outputs": [
        {
          "output_type": "stream",
          "text": [
            "26은(는) 소수가 아닙니다. 2은(는) 26의 인수입니다.\n",
            "39은(는) 소수입니다.\n",
            "39은(는) 소수가 아닙니다. 3은(는) 39의 인수입니다.\n",
            "51은(는) 소수입니다.\n",
            "51은(는) 소수가 아닙니다. 3은(는) 51의 인수입니다.\n",
            "53은(는) 소수입니다.\n",
            "53은(는) 소수입니다.\n",
            "53은(는) 소수입니다.\n",
            "53은(는) 소수입니다.\n",
            "53은(는) 소수입니다.\n",
            "53은(는) 소수입니다.\n",
            "53은(는) 소수입니다.\n",
            "53은(는) 소수입니다.\n",
            "53은(는) 소수입니다.\n",
            "53은(는) 소수입니다.\n",
            "53은(는) 소수입니다.\n",
            "53은(는) 소수입니다.\n",
            "53은(는) 소수입니다.\n",
            "53은(는) 소수입니다.\n",
            "53은(는) 소수입니다.\n",
            "53은(는) 소수입니다.\n",
            "53은(는) 소수입니다.\n",
            "53은(는) 소수입니다.\n",
            "53은(는) 소수입니다.\n",
            "53은(는) 소수입니다.\n",
            "53은(는) 소수입니다.\n",
            "53은(는) 소수입니다.\n",
            "53은(는) 소수입니다.\n",
            "53은(는) 소수입니다.\n",
            "53은(는) 소수입니다.\n",
            "53은(는) 소수입니다.\n",
            "53은(는) 소수입니다.\n",
            "53은(는) 소수입니다.\n",
            "53은(는) 소수입니다.\n",
            "53은(는) 소수입니다.\n",
            "53은(는) 소수입니다.\n",
            "53은(는) 소수입니다.\n",
            "53은(는) 소수입니다.\n",
            "53은(는) 소수입니다.\n",
            "53은(는) 소수입니다.\n",
            "53은(는) 소수입니다.\n",
            "53은(는) 소수입니다.\n",
            "53은(는) 소수입니다.\n",
            "53은(는) 소수입니다.\n",
            "53은(는) 소수입니다.\n",
            "53은(는) 소수입니다.\n",
            "53은(는) 소수입니다.\n",
            "53은(는) 소수입니다.\n",
            "53은(는) 소수입니다.\n",
            "53은(는) 소수입니다.\n",
            "53은(는) 소수입니다.\n",
            "53은(는) 소수입니다.\n",
            "53은(는) 소수입니다.\n",
            "53은(는) 소수입니다.\n",
            "53은(는) 소수입니다.\n",
            "53은(는) 소수입니다.\n",
            "57은(는) 소수입니다.\n",
            "57은(는) 소수가 아닙니다. 3은(는) 57의 인수입니다.\n",
            "79은(는) 소수입니다.\n",
            "79은(는) 소수입니다.\n",
            "79은(는) 소수입니다.\n",
            "79은(는) 소수입니다.\n",
            "79은(는) 소수입니다.\n",
            "79은(는) 소수입니다.\n",
            "79은(는) 소수입니다.\n",
            "79은(는) 소수입니다.\n",
            "79은(는) 소수입니다.\n",
            "79은(는) 소수입니다.\n",
            "79은(는) 소수입니다.\n",
            "79은(는) 소수입니다.\n",
            "79은(는) 소수입니다.\n",
            "79은(는) 소수입니다.\n",
            "79은(는) 소수입니다.\n",
            "79은(는) 소수입니다.\n",
            "79은(는) 소수입니다.\n",
            "79은(는) 소수입니다.\n",
            "79은(는) 소수입니다.\n",
            "79은(는) 소수입니다.\n",
            "79은(는) 소수입니다.\n",
            "79은(는) 소수입니다.\n",
            "79은(는) 소수입니다.\n",
            "79은(는) 소수입니다.\n",
            "79은(는) 소수입니다.\n",
            "79은(는) 소수입니다.\n",
            "79은(는) 소수입니다.\n",
            "79은(는) 소수입니다.\n",
            "79은(는) 소수입니다.\n",
            "79은(는) 소수입니다.\n",
            "79은(는) 소수입니다.\n",
            "79은(는) 소수입니다.\n",
            "79은(는) 소수입니다.\n",
            "79은(는) 소수입니다.\n",
            "79은(는) 소수입니다.\n",
            "79은(는) 소수입니다.\n",
            "79은(는) 소수입니다.\n",
            "79은(는) 소수입니다.\n",
            "79은(는) 소수입니다.\n",
            "79은(는) 소수입니다.\n",
            "79은(는) 소수입니다.\n",
            "79은(는) 소수입니다.\n",
            "79은(는) 소수입니다.\n",
            "79은(는) 소수입니다.\n",
            "79은(는) 소수입니다.\n",
            "79은(는) 소수입니다.\n",
            "79은(는) 소수입니다.\n",
            "79은(는) 소수입니다.\n",
            "79은(는) 소수입니다.\n",
            "79은(는) 소수입니다.\n",
            "79은(는) 소수입니다.\n",
            "79은(는) 소수입니다.\n",
            "79은(는) 소수입니다.\n",
            "79은(는) 소수입니다.\n",
            "79은(는) 소수입니다.\n",
            "79은(는) 소수입니다.\n",
            "79은(는) 소수입니다.\n",
            "79은(는) 소수입니다.\n",
            "79은(는) 소수입니다.\n",
            "79은(는) 소수입니다.\n",
            "79은(는) 소수입니다.\n",
            "79은(는) 소수입니다.\n",
            "79은(는) 소수입니다.\n",
            "79은(는) 소수입니다.\n",
            "79은(는) 소수입니다.\n",
            "79은(는) 소수입니다.\n",
            "79은(는) 소수입니다.\n",
            "79은(는) 소수입니다.\n",
            "79은(는) 소수입니다.\n",
            "79은(는) 소수입니다.\n",
            "79은(는) 소수입니다.\n",
            "79은(는) 소수입니다.\n",
            "79은(는) 소수입니다.\n",
            "79은(는) 소수입니다.\n",
            "79은(는) 소수입니다.\n",
            "79은(는) 소수입니다.\n",
            "79은(는) 소수입니다.\n",
            "85은(는) 소수입니다.\n",
            "85은(는) 소수입니다.\n",
            "85은(는) 소수입니다.\n",
            "85은(는) 소수가 아닙니다. 5은(는) 85의 인수입니다.\n"
          ],
          "name": "stdout"
        }
      ]
    },
    {
      "cell_type": "code",
      "metadata": {
        "id": "-eQXzaWDm4E1",
        "colab_type": "code",
        "colab": {}
      },
      "source": [
        ""
      ],
      "execution_count": null,
      "outputs": []
    }
  ]
}