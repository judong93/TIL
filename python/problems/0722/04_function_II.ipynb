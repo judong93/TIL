{
  "nbformat": 4,
  "nbformat_minor": 0,
  "metadata": {
    "kernelspec": {
      "display_name": "Python 3",
      "language": "python",
      "name": "python3"
    },
    "language_info": {
      "codemirror_mode": {
        "name": "ipython",
        "version": 3
      },
      "file_extension": ".py",
      "mimetype": "text/x-python",
      "name": "python",
      "nbconvert_exporter": "python",
      "pygments_lexer": "ipython3",
      "version": "3.6.7"
    },
    "toc": {
      "base_numbering": 1,
      "nav_menu": {},
      "number_sections": true,
      "sideBar": true,
      "skip_h1_title": false,
      "title_cell": "Table of Contents",
      "title_sidebar": "Contents",
      "toc_cell": false,
      "toc_position": {},
      "toc_section_display": true,
      "toc_window_display": false
    },
    "colab": {
      "name": "04_function_II.ipynb",
      "provenance": [],
      "collapsed_sections": []
    }
  },
  "cells": [
    {
      "cell_type": "markdown",
      "metadata": {
        "id": "oQLpRt-nDWPq",
        "colab_type": "text"
      },
      "source": [
        "# 함수(function) II\n",
        "- 함수와 스코프\n",
        "- 재귀 함수\n"
      ]
    },
    {
      "cell_type": "markdown",
      "metadata": {
        "id": "7IUR4rngDWP7",
        "colab_type": "text"
      },
      "source": [
        "# 함수와 스코프(scope)\n",
        "\n",
        "함수는 코드 내부에 공간(scope)를 생성합니다. 함수로 생성된 공간은 `지역 스코프(local scope)`라고 불리며, 그 외의 공간인 `전역 스코프(global scope)`와 구분됩니다.\n",
        "\n",
        "* **전역 스코프(`global scope`)**: 코드 어디에서든 참조할 수 있는 공간\n",
        "* **지역 스코프(`local scope`)**: 함수가 만든 스코프로 함수 내부에서만 참조할 수 있는 공간\n",
        "\n",
        "\n",
        "* **전역 변수(`global variable`)**: 전역 스코프에 정의된 변수\n",
        "* **지역 변수(`local variable`)**: 로컬 스코프에 정의된 변수\n"
      ]
    },
    {
      "cell_type": "code",
      "metadata": {
        "id": "U38X_6rEDWQJ",
        "colab_type": "code",
        "colab": {}
      },
      "source": [
        "# 전역 스코프(global scope)\n",
        "a = 10 # 전역 변수(global)\n",
        "\n",
        "def func(b):\n",
        "    # 지역 스코프(local scope)\n",
        "    c = 20 # 지역 변수(local variable)\n",
        "    a = 30 # 바깥에 있는것보다 그냥 내 방에 있는거 쓴다.! 즉, a=10말고 이걸 적용한다.\n",
        "    print(a)\n",
        "    print(b)\n",
        "\n",
        "\n",
        "# 변수 c는 접근 불가합니다. 글로벌에서 로컬 못봄!\n",
        "#print(c)"
      ],
      "execution_count": null,
      "outputs": []
    },
    {
      "cell_type": "code",
      "metadata": {
        "id": "MijKM5ojDWQt",
        "colab_type": "code",
        "colab": {
          "base_uri": "https://localhost:8080/",
          "height": 52
        },
        "outputId": "e380f411-bd17-4818-f502-7efb3ae328f8"
      },
      "source": [
        "# 50을 인자로 전달하여 출력할 수 있습니다.\n",
        "func(50)"
      ],
      "execution_count": null,
      "outputs": [
        {
          "output_type": "stream",
          "text": [
            "30\n",
            "50\n"
          ],
          "name": "stdout"
        }
      ]
    },
    {
      "cell_type": "code",
      "metadata": {
        "id": "6TxczH-qEy6m",
        "colab_type": "code",
        "colab": {
          "base_uri": "https://localhost:8080/",
          "height": 169
        },
        "outputId": "9196e157-0af1-4521-b613-d696c2420f82"
      },
      "source": [
        "print(c)"
      ],
      "execution_count": null,
      "outputs": [
        {
          "output_type": "error",
          "ename": "NameError",
          "evalue": "ignored",
          "traceback": [
            "\u001b[0;31m---------------------------------------------------------------------------\u001b[0m",
            "\u001b[0;31mNameError\u001b[0m                                 Traceback (most recent call last)",
            "\u001b[0;32m<ipython-input-3-1dd5973cae19>\u001b[0m in \u001b[0;36m<module>\u001b[0;34m()\u001b[0m\n\u001b[0;32m----> 1\u001b[0;31m \u001b[0mprint\u001b[0m\u001b[0;34m(\u001b[0m\u001b[0mc\u001b[0m\u001b[0;34m)\u001b[0m\u001b[0;34m\u001b[0m\u001b[0;34m\u001b[0m\u001b[0m\n\u001b[0m",
            "\u001b[0;31mNameError\u001b[0m: name 'c' is not defined"
          ]
        }
      ]
    },
    {
      "cell_type": "markdown",
      "metadata": {
        "id": "2VhWqVt9DWRH",
        "colab_type": "text"
      },
      "source": [
        "> `func()` 함수에 a 변수를 추가하면 어떻게 될까요?"
      ]
    },
    {
      "cell_type": "markdown",
      "metadata": {
        "id": "oJMHUl8NDWRN",
        "colab_type": "text"
      },
      "source": [
        "## 이름 검색(resolution) 규칙\n",
        "\n",
        "파이썬에서 사용되는 이름(식별자)들은 이름공간(namespace)에 저장되어 있습니다.\n",
        "\n",
        "이것을, `LEGB Rule` 이라고 부르며, 아래와 같은 순서로 이름을 찾아나갑니다.\n",
        "\n",
        "* `L`ocal scope: 정의된 함수\n",
        "\n",
        "\n",
        "* `E`nclosed scope: 상위 함수 \n",
        "\n",
        "\n",
        "* `G`lobal scope: 함수 밖의 변수 혹은 import된 모듈\n",
        "\n",
        "\n",
        "* `B`uilt-in scope: 파이썬안에 내장되어 있는 함수 또는 속성"
      ]
    },
    {
      "cell_type": "code",
      "metadata": {
        "id": "1e2p5C3aDWRe",
        "colab_type": "code",
        "colab": {}
      },
      "source": [
        "# 이것을 통해 첫시간에 내장함수의 식별자를 사용할 수 없었던 예제에서 오류가 생기는 이유를 확인할 수 있습니다."
      ],
      "execution_count": null,
      "outputs": []
    },
    {
      "cell_type": "code",
      "metadata": {
        "id": "JyHcCPMkDWST",
        "colab_type": "code",
        "colab": {
          "base_uri": "https://localhost:8080/",
          "height": 204
        },
        "outputId": "93572bb5-bc21-4dd4-fa31-14fc54f0b0f2"
      },
      "source": [
        "#\n",
        "print = 'ssafy'\n",
        "print(3)"
      ],
      "execution_count": null,
      "outputs": [
        {
          "output_type": "error",
          "ename": "TypeError",
          "evalue": "ignored",
          "traceback": [
            "\u001b[0;31m---------------------------------------------------------------------------\u001b[0m",
            "\u001b[0;31mTypeError\u001b[0m                                 Traceback (most recent call last)",
            "\u001b[0;32m<ipython-input-7-2cb6b91e6926>\u001b[0m in \u001b[0;36m<module>\u001b[0;34m()\u001b[0m\n\u001b[1;32m      1\u001b[0m \u001b[0;31m#\u001b[0m\u001b[0;34m\u001b[0m\u001b[0;34m\u001b[0m\u001b[0;34m\u001b[0m\u001b[0m\n\u001b[1;32m      2\u001b[0m \u001b[0mprint\u001b[0m \u001b[0;34m=\u001b[0m \u001b[0;34m'ssafy'\u001b[0m\u001b[0;34m\u001b[0m\u001b[0;34m\u001b[0m\u001b[0m\n\u001b[0;32m----> 3\u001b[0;31m \u001b[0mprint\u001b[0m\u001b[0;34m(\u001b[0m\u001b[0;36m3\u001b[0m\u001b[0;34m)\u001b[0m\u001b[0;34m\u001b[0m\u001b[0;34m\u001b[0m\u001b[0m\n\u001b[0m",
            "\u001b[0;31mTypeError\u001b[0m: 'str' object is not callable"
          ]
        }
      ]
    },
    {
      "cell_type": "code",
      "metadata": {
        "id": "L3lI5NNXDWS-",
        "colab_type": "code",
        "colab": {}
      },
      "source": [
        "#\n",
        "del print #지우는 범위는 글로벌스코프! print는 빌트인!"
      ],
      "execution_count": null,
      "outputs": []
    },
    {
      "cell_type": "code",
      "metadata": {
        "id": "uhPleY5dKt1B",
        "colab_type": "code",
        "colab": {
          "base_uri": "https://localhost:8080/",
          "height": 34
        },
        "outputId": "533e4fab-26c5-4fda-ec69-66eb80d24404"
      },
      "source": [
        "print('ssafy') #글로벌에서 다지워졌으나, 빌트인에서 찾아와서 사용하는것!"
      ],
      "execution_count": null,
      "outputs": [
        {
          "output_type": "stream",
          "text": [
            "ssafy\n"
          ],
          "name": "stdout"
        }
      ]
    },
    {
      "cell_type": "markdown",
      "metadata": {
        "id": "qwsq1agSDWTh",
        "colab_type": "text"
      },
      "source": [
        "1. `print()` 코드가 실행되면\n",
        "\n",
        "\n",
        "2. 함수에서 실행된 코드가 아니기 때문에 `L`, `E` 를 건너 뛰고,\n",
        "\n",
        "\n",
        "3. `print`라는 식별자를 Global scope에서 찾아서 `print = 'ssafy'`를 가져오고, \n",
        "\n",
        "\n",
        "4. 이는 함수가 아니라 문자열이기 때문에 `not callable`하다라는 오류를 내뱉게 됩니다.\n",
        "\n",
        "\n",
        "5. 우리가 원하는 `print()`은 Built-in scope에 있기 때문입니다."
      ]
    },
    {
      "cell_type": "code",
      "metadata": {
        "id": "K1YkmGZGDWTk",
        "colab_type": "code",
        "colab": {}
      },
      "source": [
        "a = 10  # 전역 변수\n",
        "b = 20  # 전역 변수\n",
        "\n",
        "def enclosed():\n",
        "    a = 30  # enclosed함수의 지역 변수\n",
        "    \n",
        "    def local():\n",
        "        c = 40 # local함수의 지역 변수\n",
        "        print(a, b, c)\n",
        "    \n",
        "    local()\n",
        "    \n",
        "    a = 50  # enclosed함수의 지역 변수이며, local함수에서는 Enclosed Scope"
      ],
      "execution_count": null,
      "outputs": []
    },
    {
      "cell_type": "code",
      "metadata": {
        "id": "1gFy3OYXDWUd",
        "colab_type": "code",
        "colab": {}
      },
      "source": [
        "# 전역에서 local() 함수의 호출이 가능할까요?"
      ],
      "execution_count": null,
      "outputs": []
    },
    {
      "cell_type": "code",
      "metadata": {
        "id": "tGlos812DWWK",
        "colab_type": "code",
        "colab": {
          "base_uri": "https://localhost:8080/",
          "height": 316
        },
        "outputId": "b915a618-6fe0-49e9-a912-c92da441a809"
      },
      "source": [
        "enclosed()"
      ],
      "execution_count": null,
      "outputs": [
        {
          "output_type": "error",
          "ename": "TypeError",
          "evalue": "ignored",
          "traceback": [
            "\u001b[0;31m---------------------------------------------------------------------------\u001b[0m",
            "\u001b[0;31mTypeError\u001b[0m                                 Traceback (most recent call last)",
            "\u001b[0;32m<ipython-input-15-20447f5d6eb3>\u001b[0m in \u001b[0;36m<module>\u001b[0;34m()\u001b[0m\n\u001b[0;32m----> 1\u001b[0;31m \u001b[0menclosed\u001b[0m\u001b[0;34m(\u001b[0m\u001b[0;34m)\u001b[0m\u001b[0;34m\u001b[0m\u001b[0;34m\u001b[0m\u001b[0m\n\u001b[0m",
            "\u001b[0;32m<ipython-input-14-60065ae10fd5>\u001b[0m in \u001b[0;36menclosed\u001b[0;34m()\u001b[0m\n\u001b[1;32m      9\u001b[0m         \u001b[0mprint\u001b[0m\u001b[0;34m(\u001b[0m\u001b[0ma\u001b[0m\u001b[0;34m,\u001b[0m \u001b[0mb\u001b[0m\u001b[0;34m,\u001b[0m \u001b[0mc\u001b[0m\u001b[0;34m)\u001b[0m\u001b[0;34m\u001b[0m\u001b[0;34m\u001b[0m\u001b[0m\n\u001b[1;32m     10\u001b[0m \u001b[0;34m\u001b[0m\u001b[0m\n\u001b[0;32m---> 11\u001b[0;31m     \u001b[0mlocal\u001b[0m\u001b[0;34m(\u001b[0m\u001b[0;34m)\u001b[0m\u001b[0;34m\u001b[0m\u001b[0;34m\u001b[0m\u001b[0m\n\u001b[0m\u001b[1;32m     12\u001b[0m \u001b[0;34m\u001b[0m\u001b[0m\n\u001b[1;32m     13\u001b[0m     \u001b[0ma\u001b[0m \u001b[0;34m=\u001b[0m \u001b[0;36m50\u001b[0m  \u001b[0;31m# enclosed함수의 지역 변수이며, local함수에서는 Enclosed Scope\u001b[0m\u001b[0;34m\u001b[0m\u001b[0;34m\u001b[0m\u001b[0m\n",
            "\u001b[0;32m<ipython-input-14-60065ae10fd5>\u001b[0m in \u001b[0;36mlocal\u001b[0;34m()\u001b[0m\n\u001b[1;32m      7\u001b[0m     \u001b[0;32mdef\u001b[0m \u001b[0mlocal\u001b[0m\u001b[0;34m(\u001b[0m\u001b[0;34m)\u001b[0m\u001b[0;34m:\u001b[0m\u001b[0;34m\u001b[0m\u001b[0;34m\u001b[0m\u001b[0m\n\u001b[1;32m      8\u001b[0m         \u001b[0mc\u001b[0m \u001b[0;34m=\u001b[0m \u001b[0;36m40\u001b[0m \u001b[0;31m# local함수의 지역 변수\u001b[0m\u001b[0;34m\u001b[0m\u001b[0;34m\u001b[0m\u001b[0m\n\u001b[0;32m----> 9\u001b[0;31m         \u001b[0mprint\u001b[0m\u001b[0;34m(\u001b[0m\u001b[0ma\u001b[0m\u001b[0;34m,\u001b[0m \u001b[0mb\u001b[0m\u001b[0;34m,\u001b[0m \u001b[0mc\u001b[0m\u001b[0;34m)\u001b[0m\u001b[0;34m\u001b[0m\u001b[0;34m\u001b[0m\u001b[0m\n\u001b[0m\u001b[1;32m     10\u001b[0m \u001b[0;34m\u001b[0m\u001b[0m\n\u001b[1;32m     11\u001b[0m     \u001b[0mlocal\u001b[0m\u001b[0;34m(\u001b[0m\u001b[0;34m)\u001b[0m\u001b[0;34m\u001b[0m\u001b[0;34m\u001b[0m\u001b[0m\n",
            "\u001b[0;31mTypeError\u001b[0m: 'str' object is not callable"
          ]
        }
      ]
    },
    {
      "cell_type": "code",
      "metadata": {
        "id": "4dtu8VbKDWWq",
        "colab_type": "code",
        "colab": {}
      },
      "source": [
        "# 전역 변수를 바꿀 수 있을까요?"
      ],
      "execution_count": null,
      "outputs": []
    },
    {
      "cell_type": "code",
      "metadata": {
        "id": "1ECTr8UrDWW6",
        "colab_type": "code",
        "colab": {}
      },
      "source": [
        "#\n",
        "global_num = 3\n",
        "def local_scope():\n",
        "    global_num = 5\n",
        "    return f'global_num이 {global_num}으로 설정되었습니다.'\n",
        "\n",
        "print(local_scope())\n",
        "print('global_num:', global_num)"
      ],
      "execution_count": null,
      "outputs": []
    },
    {
      "cell_type": "code",
      "metadata": {
        "id": "LBE5BnoUDWXg",
        "colab_type": "code",
        "colab": {}
      },
      "source": [
        "# 굳이 전역에 있는 변수를 바꾸고 싶다면, 아래와 같이 선언할 수 있습니다."
      ],
      "execution_count": null,
      "outputs": []
    },
    {
      "cell_type": "code",
      "metadata": {
        "id": "haVqyepiDWYB",
        "colab_type": "code",
        "colab": {
          "base_uri": "https://localhost:8080/",
          "height": 222
        },
        "outputId": "d9b25dfb-509f-49e3-b6b8-bf0df535521b"
      },
      "source": [
        "\n",
        "global_num = 3\n",
        "def local_scope():\n",
        "    global global_num\n",
        "    global_num = 5\n",
        "    return f'global_num이 {global_num}으로 설정되었습니다.'\n",
        "\n",
        "print(local_scope())\n",
        "print('global_num:', global_num)\n"
      ],
      "execution_count": null,
      "outputs": [
        {
          "output_type": "error",
          "ename": "TypeError",
          "evalue": "ignored",
          "traceback": [
            "\u001b[0;31m---------------------------------------------------------------------------\u001b[0m",
            "\u001b[0;31mTypeError\u001b[0m                                 Traceback (most recent call last)",
            "\u001b[0;32m<ipython-input-23-b77a6541d316>\u001b[0m in \u001b[0;36m<module>\u001b[0;34m()\u001b[0m\n\u001b[1;32m      6\u001b[0m     \u001b[0;32mreturn\u001b[0m \u001b[0;34mf'global_num이 {global_num}으로 설정되었습니다.'\u001b[0m\u001b[0;34m\u001b[0m\u001b[0;34m\u001b[0m\u001b[0m\n\u001b[1;32m      7\u001b[0m \u001b[0;34m\u001b[0m\u001b[0m\n\u001b[0;32m----> 8\u001b[0;31m \u001b[0mprint\u001b[0m\u001b[0;34m(\u001b[0m\u001b[0mlocal_scope\u001b[0m\u001b[0;34m(\u001b[0m\u001b[0;34m)\u001b[0m\u001b[0;34m)\u001b[0m\u001b[0;34m\u001b[0m\u001b[0;34m\u001b[0m\u001b[0m\n\u001b[0m\u001b[1;32m      9\u001b[0m \u001b[0mprint\u001b[0m\u001b[0;34m(\u001b[0m\u001b[0;34m'global_num:'\u001b[0m\u001b[0;34m,\u001b[0m \u001b[0mglobal_num\u001b[0m\u001b[0;34m)\u001b[0m\u001b[0;34m\u001b[0m\u001b[0;34m\u001b[0m\u001b[0m\n",
            "\u001b[0;31mTypeError\u001b[0m: 'str' object is not callable"
          ]
        }
      ]
    },
    {
      "cell_type": "markdown",
      "metadata": {
        "id": "-B0BNyC_DWYz",
        "colab_type": "text"
      },
      "source": [
        "### 변수의 수명주기(lifecycle)\n",
        "\n",
        "변수의 이름은 각자의 `수명주기(lifecycle)`가 있습니다.\n",
        "\n",
        "* **빌트인 스코프`(built-in scope)`**: 파이썬이 실행된 이후부터 영원히 유지\n",
        "\n",
        "\n",
        "* **전역 스코프`(global scope)`**: 모듈이 호출된 시점 이후 혹은 이름 선언된 이후부터 인터프리터가 끝날때 까지 유지\n",
        "\n",
        "\n",
        "* **지역(함수) 스코프`(local scope)`**: 함수가 호출될 때 생성되고, 함수가 가 종료될 때까지 유지 (함수 내에서 처리되지 않는 예외를 일으킬 때 삭제됨)"
      ]
    },
    {
      "cell_type": "markdown",
      "metadata": {
        "id": "2hMX13ClDWY9",
        "colab_type": "text"
      },
      "source": [
        "# 재귀 함수(recursive function)\n",
        "\n",
        "재귀 함수는 함수 내부에서 자기 자신을 호출 하는 함수를 뜻합니다.\n",
        "\n",
        "알고리즘을 설계 및 구현에서 유용하게 활용됩니다."
      ]
    },
    {
      "cell_type": "markdown",
      "metadata": {
        "id": "EtHAJzTlDWZA",
        "colab_type": "text"
      },
      "source": [
        "## 팩토리얼 계산\n",
        "> 팩토리얼은 1부터 n 까지 양의 정수를 차례대로 곱한 값이며 `!` 기호로 표기합니다. 예를 들어 3!은 3 * 2 * 1이며 결과는 6 입니다.\n",
        ">\n",
        "> `팩토리얼(factorial)`을 계산하는 함수 `fact(n)`를 작성하세요. \n",
        ">\n",
        "> n은 1보다 큰 정수라고 가정하고, 팩토리얼을 계산한 값을 반환합니다.\n",
        "\n",
        "$$\n",
        "\\displaystyle n! = \\prod_{ k = 1 }^{ n }{ k }\n",
        "$$\n",
        "\n",
        "$$\n",
        "\\displaystyle n! = 1*2*3*...*(n-1)*n\n",
        "$$\n",
        "\n",
        "---\n",
        "```\n",
        "예시 출력)\n",
        "120\n",
        "```"
      ]
    },
    {
      "cell_type": "markdown",
      "metadata": {
        "id": "wtXvOT5iDWZD",
        "colab_type": "text"
      },
      "source": [
        "### 반복문을 이용한 팩토리얼 계산"
      ]
    },
    {
      "cell_type": "code",
      "metadata": {
        "id": "sABRbP0MDWZL",
        "colab_type": "code",
        "colab": {}
      },
      "source": [
        "# 아래에 코드를 작성해주세요."
      ],
      "execution_count": null,
      "outputs": []
    },
    {
      "cell_type": "code",
      "metadata": {
        "id": "AWcjn796DWZj",
        "colab_type": "code",
        "colab": {}
      },
      "source": [
        "def fact(n):\n",
        "    result = 1\n",
        "    for i in range(1, n+1):\n",
        "        result *= i\n",
        "    return result\n"
      ],
      "execution_count": null,
      "outputs": []
    },
    {
      "cell_type": "code",
      "metadata": {
        "id": "LuGpK4-oDWZ-",
        "colab_type": "code",
        "colab": {
          "base_uri": "https://localhost:8080/",
          "height": 34
        },
        "outputId": "38012dd0-172b-4037-ce7d-2a061b711301"
      },
      "source": [
        "# 해당 코드를 통해 올바른 결과가 나오는지 확인하세요.\n",
        "fact(5)"
      ],
      "execution_count": null,
      "outputs": [
        {
          "output_type": "execute_result",
          "data": {
            "text/plain": [
              "120"
            ]
          },
          "metadata": {
            "tags": []
          },
          "execution_count": 25
        }
      ]
    },
    {
      "cell_type": "markdown",
      "metadata": {
        "id": "N9tY1NjZDWaP",
        "colab_type": "text"
      },
      "source": [
        "### 재귀를 이용한 팩토리얼 계산\n",
        "\n",
        "재귀를 이용하여 팩토리얼을 계산하여 return하는 `factorial()` 함수를 작성하세요.\n",
        "\n",
        "```\n",
        "1! = 1\n",
        "2! = 1 * 2 = 1! * 2 \n",
        "3! = 1 * 2 * 3 = 2! * 3\n",
        "```"
      ]
    },
    {
      "cell_type": "code",
      "metadata": {
        "id": "cvzfINgVDWaU",
        "colab_type": "code",
        "colab": {}
      },
      "source": [
        "# 아래에 코드를 작성해주세요."
      ],
      "execution_count": null,
      "outputs": []
    },
    {
      "cell_type": "code",
      "metadata": {
        "id": "9OOJIGBhDWan",
        "colab_type": "code",
        "colab": {}
      },
      "source": [
        "\n",
        "def factorial(n):\n",
        "    if n == 1:\n",
        "        return 1\n",
        "    return n * factorial(n-1)\n"
      ],
      "execution_count": null,
      "outputs": []
    },
    {
      "cell_type": "code",
      "metadata": {
        "id": "XvJzBj_nDWa7",
        "colab_type": "code",
        "colab": {
          "base_uri": "https://localhost:8080/",
          "height": 34
        },
        "outputId": "0cdf39ba-14b6-4ff3-9521-4bbebd4fd616"
      },
      "source": [
        "# 해당 코드를 통해 올바른 결과가 나오는지 확인하세요.\n",
        "factorial(5)"
      ],
      "execution_count": null,
      "outputs": [
        {
          "output_type": "execute_result",
          "data": {
            "text/plain": [
              "120"
            ]
          },
          "metadata": {
            "tags": []
          },
          "execution_count": 27
        }
      ]
    },
    {
      "cell_type": "markdown",
      "metadata": {
        "id": "WWMfZWO3DWbU",
        "colab_type": "text"
      },
      "source": [
        "## 반복문과 재귀함수\n",
        "```python\n",
        "factorial(3)\n",
        "3 * factorail(2)\n",
        "3 * 2 * factorial(1)\n",
        "3 * 2 * 1\n",
        "3 * 2\n",
        "6\n",
        "```\n",
        "\n",
        "* 두 코드 모두 원리는 같다! \n",
        "\n",
        "\n",
        "1. 반복문 코드\n",
        "    - n이 1보다 큰 경우 반복문을 돌며, n은 1씩 감소한다. \n",
        "    - 마지막에 n이 1이면 더 이상 반복문을 돌지 않는다.\n",
        "  \n",
        "  \n",
        "2. 재귀 함수 코드\n",
        "    - 재귀 함수를 호출하며, n은 1씩 감소한다. \n",
        "    - 마지막에 n이 1이면 더 이상 추가 함수를 호출하지 않는다.\n"
      ]
    },
    {
      "cell_type": "markdown",
      "metadata": {
        "id": "juZqt38aDWbV",
        "colab_type": "text"
      },
      "source": [
        "* 재귀함수는 기본적으로 같은 문제이지만 점점 범위가 줄어드는 문제를 풀게 된다.\n",
        "\n",
        "* 재귀함수를 작성시에는 반드시, `base case`가 존재 하여야 한다. \n",
        "\n",
        "* `base case`는 점점 범위가 줄어들어 반복되지 않는 최종적으로 도달하는 곳이다. \n",
        "\n",
        "* 재귀를 이용한 팩토리얼 계산에서의 base case는 **n이 1일때, 함수가 아닌 정수 반환하는 것**이다."
      ]
    },
    {
      "cell_type": "markdown",
      "metadata": {
        "id": "JKjByH0UDWbX",
        "colab_type": "text"
      },
      "source": [
        "* 자기 자신을 호출하는 재귀함수는 알고리즘 구현시 많이 사용된다.\n",
        "* 코드가 더 직관적이고 이해하기 쉬운 경우가 있다. \n",
        "* 팩토리얼 재귀함수를 [Python Tutor](https://goo.gl/k1hQYz)에서 확인해보면, 함수가 호출될 때마다 메모리 공간에 쌓이는 것을 볼 수 있다.\n",
        "* 이 경우, 메모리 스택이 넘치거나(Stack overflow) 프로그램 실행 속도가 늘어지는 단점이 생긴다.\n",
        "* 파이썬에서는 이를 방지하기 위해 1,000번이 넘어가게 되면 더이상 함수를 호출하지 않고, 종료된다. (최대 재귀 깊이)"
      ]
    },
    {
      "cell_type": "markdown",
      "metadata": {
        "id": "KaRf7Bl1DWbY",
        "colab_type": "text"
      },
      "source": [
        "### 최대 재귀 깊이\n",
        "\n",
        "```python\n",
        "def ssafy():\n",
        "    print('Hello, ssafy!')\n",
        "    ssafy()\n",
        " \n",
        "ssafy()\n",
        "```\n",
        "---\n",
        "\n",
        "`ssafy()`를 호출하면 아래와 같이 문자열이 계속 출력되다가 RecursionError가 발생합니다.\n",
        "\n",
        "파이썬에서는 최대 재귀 깊이(maximum recursion depth)가 1,000으로 정해져 있기 때문입니다.\n",
        "\n",
        "---\n",
        "\n",
        "```bash\n",
        "Hello, world!\n",
        "Hello, world!\n",
        "...\n",
        "Hello, world!\n",
        "---------------------------------------------------------------------------\n",
        "RecursionError                            Traceback (most recent call last)\n",
        "\n",
        "...\n",
        "\n",
        "<ipython-input-11-2bbb40950c86> in hello()\n",
        "      1 def hello():\n",
        "      2     print('Hello, world!')\n",
        "----> 3     hello()\n",
        "      4 \n",
        "      5 hello()\n",
        "\n",
        "RecursionError: maximum recursion depth exceeded while calling a Python object\n",
        "```"
      ]
    },
    {
      "cell_type": "code",
      "metadata": {
        "id": "0W5lxbxvDWba",
        "colab_type": "code",
        "colab": {}
      },
      "source": [
        "# 직접 오류를 확인하세요."
      ],
      "execution_count": null,
      "outputs": []
    },
    {
      "cell_type": "code",
      "metadata": {
        "id": "HgbvNtVdDWb4",
        "colab_type": "code",
        "colab": {}
      },
      "source": [
        "def ssafy():\n",
        "    print('Hello, ssafy!', end=\" \")\n",
        "    ssafy()\n",
        "\n",
        "ssafy()"
      ],
      "execution_count": null,
      "outputs": []
    },
    {
      "cell_type": "markdown",
      "metadata": {
        "id": "Iqf0tWYDDWcL",
        "colab_type": "text"
      },
      "source": [
        "## 피보나치 수열\n",
        "\n",
        "첫째 및 둘째 항이 1이며 그 뒤의 모든 항은 바로 앞 두 항의 합인 수열입니다. \n",
        "\n",
        "(0), 1, 1, 2, 3, 5, 8\n",
        "\n",
        "> 피보나치 수열은 다음과 같은 점화식이 있습니다. \n",
        ">\n",
        "> 피보나치 값을 리턴하는 두가지 방식의 코드를 모두 작성해주세요.\n",
        ">\n",
        "\n",
        "$$\n",
        "\\displaystyle F_0 = F_1 = 1\n",
        "$$\n",
        "\n",
        "$$\n",
        "F_n=F_{n-1}+F_{n-2}\\qquad(n\\in\\{2,3,4,\\dots\\})\n",
        "$$\n",
        "\n",
        "1) `fib(n)` : 재귀함수\n",
        "\n",
        "2) `fib_loop(n)` : 반복문 활용한 함수\n",
        "\n",
        "---\n",
        "```\n",
        "예시 입력)\n",
        "fib(10)\n",
        "\n",
        "예시 호출)\n",
        "55\n",
        "```"
      ]
    },
    {
      "cell_type": "code",
      "metadata": {
        "id": "gIkWk6eRDWcU",
        "colab_type": "code",
        "colab": {}
      },
      "source": [
        "# 재귀를 이용한 코드 fib() 를 작성하세요."
      ],
      "execution_count": null,
      "outputs": []
    },
    {
      "cell_type": "code",
      "metadata": {
        "id": "Kqfoc3jdDWcs",
        "colab_type": "code",
        "colab": {}
      },
      "source": [
        "def fib(n):\n",
        "    if n <= 2:\n",
        "        return 1\n",
        "    return fib(n-1) + fib(n-2)\n"
      ],
      "execution_count": 11,
      "outputs": []
    },
    {
      "cell_type": "code",
      "metadata": {
        "id": "R379-l-wDWc7",
        "colab_type": "code",
        "colab": {
          "base_uri": "https://localhost:8080/",
          "height": 34
        },
        "outputId": "fa6bbe82-0918-41fc-9208-48e9e97456c9"
      },
      "source": [
        "# 해당 코드를 통해 올바른 결과가 나오는지 확인하세요.\n",
        "fib(10)"
      ],
      "execution_count": 12,
      "outputs": [
        {
          "output_type": "execute_result",
          "data": {
            "text/plain": [
              "55"
            ]
          },
          "metadata": {
            "tags": []
          },
          "execution_count": 12
        }
      ]
    },
    {
      "cell_type": "code",
      "metadata": {
        "id": "Rr_Vma5YDWdM",
        "colab_type": "code",
        "colab": {}
      },
      "source": [
        "# 반복문을 이용한 코드 fib_loop() 를 작성하세요."
      ],
      "execution_count": null,
      "outputs": []
    },
    {
      "cell_type": "code",
      "metadata": {
        "id": "p4ElmTYGDWde",
        "colab_type": "code",
        "colab": {}
      },
      "source": [
        "def fib_loop(n):\n",
        "    if n <= 2:\n",
        "        return 1\n",
        "    for i in range(3,n+1):\n",
        "      return \n"
      ],
      "execution_count": null,
      "outputs": []
    },
    {
      "cell_type": "code",
      "metadata": {
        "id": "W_ElS0f9DWdr",
        "colab_type": "code",
        "colab": {}
      },
      "source": [
        "# 해당 코드를 통해 올바른 결과가 나오는지 확인하세요.\n",
        "fib_loop(10)"
      ],
      "execution_count": null,
      "outputs": []
    },
    {
      "cell_type": "markdown",
      "metadata": {
        "id": "M54x2Fx7DWd5",
        "colab_type": "text"
      },
      "source": [
        "## 반복문과 재귀 함수의 차이\n",
        "\n",
        "* 알고리즘 자체가 재귀적인 표현이 자연스러운 경우 재귀함수를 사용한다.\n",
        "* 재귀 호출은 `변수 사용` 을 줄여줄 수 있다."
      ]
    },
    {
      "cell_type": "code",
      "metadata": {
        "id": "DDhK_BliDWd9",
        "colab_type": "code",
        "colab": {}
      },
      "source": [
        "# 큰 숫자를 재귀로 짜여진 fib() 함수의 인자로 넘겨보세요."
      ],
      "execution_count": null,
      "outputs": []
    },
    {
      "cell_type": "code",
      "metadata": {
        "id": "UAOkXLcBDWeM",
        "colab_type": "code",
        "colab": {}
      },
      "source": [
        ""
      ],
      "execution_count": null,
      "outputs": []
    },
    {
      "cell_type": "code",
      "metadata": {
        "id": "XNFuBYj_DWei",
        "colab_type": "code",
        "colab": {}
      },
      "source": [
        "# 100배 되는 숫자를 반복문으로 짜여진 fib_loop() 인자로 넘겨보세요."
      ],
      "execution_count": null,
      "outputs": []
    },
    {
      "cell_type": "code",
      "metadata": {
        "id": "nOhaumLqDWey",
        "colab_type": "code",
        "colab": {}
      },
      "source": [
        ""
      ],
      "execution_count": null,
      "outputs": []
    }
  ]
}