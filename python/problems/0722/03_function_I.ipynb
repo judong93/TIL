{
 "cells": [
  {
   "cell_type": "markdown",
   "metadata": {
    "colab_type": "text",
    "id": "hppCj9QWAvaM"
   },
   "source": [
    "# 함수(function) I\n",
    "- 함수(function)?\n",
    "- 함수의 Output\n",
    "- 함수의 Input"
   ]
  },
  {
   "cell_type": "markdown",
   "metadata": {
    "colab_type": "text",
    "id": "5iVl-8DgAvab"
   },
   "source": [
    "## 들어가기전에\n",
    "\n",
    "다음의 코드를 봅시다. 무엇을 하는 코드일까요?"
   ]
  },
  {
   "cell_type": "code",
   "execution_count": null,
   "metadata": {
    "colab": {
     "base_uri": "https://localhost:8080/",
     "height": 34
    },
    "colab_type": "code",
    "id": "CNcaL564Avaf",
    "outputId": "f7a94d05-26d4-4713-86ee-b30c020af51b"
   },
   "outputs": [
    {
     "name": "stdout",
     "output_type": "stream",
     "text": [
      "14.499760534421096\n"
     ]
    }
   ],
   "source": [
    "values = [100, 75, 85, 90, 65, 95, 90, 60, 85, 50, 90, 80]\n",
    "\n",
    "total = 0\n",
    "cnt = 0\n",
    "\n",
    "for value in values:\n",
    "    total += value\n",
    "    cnt += 1\n",
    "\n",
    "mean = total / cnt\n",
    "\n",
    "total_var = 0\n",
    "\n",
    "for value in values:\n",
    "    total_var += (value - mean) ** 2\n",
    "\n",
    "sum_var = total_var / cnt\n",
    "\n",
    "target = sum_var\n",
    "  \n",
    "count = 0 \n",
    "\n",
    "while True : \n",
    "    count += 1 \n",
    "    root = 0.5 * (target + (sum_var / target))  \n",
    "    if (abs(root - target) < 0.0000000000000001) : \n",
    "        break \n",
    "    target = root\n",
    "\n",
    "std_dev = target\n",
    "print(std_dev)"
   ]
  },
  {
   "cell_type": "markdown",
   "metadata": {
    "colab_type": "text",
    "id": "ryoSuo30Ava_"
   },
   "source": [
    "- 이해하기 쉬운가요? 그리고 만약 다른 곳에서 동일한 작업을 다시해야할 경우 어떻게 할까요?\n",
    "- 아래의 코드와 비교해 봅시다"
   ]
  },
  {
   "cell_type": "code",
   "execution_count": null,
   "metadata": {
    "colab": {
     "base_uri": "https://localhost:8080/",
     "height": 34
    },
    "colab_type": "code",
    "id": "gdmg_fn5AvbJ",
    "outputId": "485cdf0d-b8f0-40c3-fb98-16a875a2be47"
   },
   "outputs": [
    {
     "name": "stdout",
     "output_type": "stream",
     "text": [
      "14.499760534421096\n"
     ]
    }
   ],
   "source": [
    "import math\n",
    "\n",
    "cnt = len(values)\n",
    "\n",
    "mean = sum(values) / cnt\n",
    "\n",
    "sum_var = sum(pow(value - mean, 2) for value in values) / cnt\n",
    "\n",
    "std_dev = math.sqrt(sum_var)\n",
    "\n",
    "print(std_dev)"
   ]
  },
  {
   "cell_type": "markdown",
   "metadata": {
    "colab_type": "text",
    "id": "NWaAX6qQAvba"
   },
   "source": [
    "- 더 간단하게 만들 수도 있을까요?"
   ]
  },
  {
   "cell_type": "code",
   "execution_count": null,
   "metadata": {
    "colab": {
     "base_uri": "https://localhost:8080/",
     "height": 34
    },
    "colab_type": "code",
    "id": "lxUw1m1IAvbb",
    "outputId": "4313c803-662d-49c5-943f-9adf4cdc78f2"
   },
   "outputs": [
    {
     "data": {
      "text/plain": [
       "14.499760534421096"
      ]
     },
     "execution_count": 6,
     "metadata": {
      "tags": []
     },
     "output_type": "execute_result"
    }
   ],
   "source": [
    "from statistics import pstdev\n",
    "pstdev(values)"
   ]
  },
  {
   "cell_type": "markdown",
   "metadata": {
    "colab_type": "text",
    "id": "Ef9Nvi9JAvbu"
   },
   "source": [
    "# 함수(function)\n",
    "특정한 기능(function)을 하는 코드의 묶음\n",
    "\n",
    "<center>\n",
    "    <img src=\"https://user-images.githubusercontent.com/18046097/61181746-2a1d9400-a665-11e9-804e-e92940d4fc82.png\", alt=\"func.png\">\n",
    "</center>\n",
    "\n",
    "## 함수를 쓰는 이유\n",
    "- 가독성\n",
    "- 재사용성\n",
    "- 유지보수"
   ]
  },
  {
   "cell_type": "markdown",
   "metadata": {
    "colab_type": "text",
    "id": "-66LS7UzAvbx"
   },
   "source": [
    "<center>\n",
    "    <img src=\"https://user-images.githubusercontent.com/18046097/61181741-2984fd80-a665-11e9-93b8-578c56689d0e.png\", alt=\"programming principle\">\n",
    "</center>"
   ]
  },
  {
   "cell_type": "markdown",
   "metadata": {
    "colab_type": "text",
    "id": "QcB714B3Avb9"
   },
   "source": [
    "## 함수의 선언과 호출\n",
    "\n",
    "* 함수 선언은 `def`로 시작하여 `:`으로 끝나고, 다음은 `4spaces 들여쓰기`로 코드 블록을 만든다.\n",
    "\n",
    "\n",
    "* 함수는 `매개변수(parameter)`를 넘겨줄 수도 있다.\n",
    "\n",
    "\n",
    "* 함수는 동작후에 `return`을 통해 결과값을 전달 할 수도 있다. (`return` 값이 없으면, `None`을 반환한다.)\n",
    "\n",
    "\n",
    "* 함수는 호출을 `func()` / `func(val1, val2)`와 같이 한다.\n",
    "\n",
    "---\n",
    "\n",
    "#### 활용법\n",
    "\n",
    "```python\n",
    "def <함수이름>(parameter1, parameter2):\n",
    "    <코드 블럭>\n",
    "    return value\n",
    "```"
   ]
  },
  {
   "cell_type": "markdown",
   "metadata": {
    "colab_type": "text",
    "id": "-ua5xCQ8AvcA"
   },
   "source": [
    "### [연습] 세제곱 함수 \n",
    "> 입력 받은 수를 세제곱하여 반환(return)하는 함수 `cube()`을 작성해보세요.\n",
    "\n",
    "---\n",
    "\n",
    "**[입력 예시]**\n",
    "\n",
    "```py\n",
    "cube(2)\n",
    "```\n",
    "\n",
    "**[출력 예시]**\n",
    "\n",
    "8"
   ]
  },
  {
   "cell_type": "code",
   "execution_count": null,
   "metadata": {
    "colab": {},
    "colab_type": "code",
    "id": "DtKbyy70AvcB"
   },
   "outputs": [],
   "source": [
    "# 아래에 코드를 작성하세요."
   ]
  },
  {
   "cell_type": "code",
   "execution_count": 1,
   "metadata": {
    "colab": {},
    "colab_type": "code",
    "id": "BMm_Xbh8Avcg"
   },
   "outputs": [],
   "source": [
    "def cube(num):\n",
    "    # num이라는 이름으로 쓰겠다\n",
    "    cubed = num ** 3\n",
    "    return cubed #return 뒤에는 값 또는 표현식이 올 수 있다. ex) num ** 3\n",
    "    return 10 #return은 2개가 들어갈 수 없다.(먼저 정의된 거에서 결과값 나오면 끝!->output은 하나.)\n",
    "    #그러나 이것을 값이 하나라고 정의할 수는 없음. 여러개의 값을 가지는 것을 하나만 리턴해도 됨."
   ]
  },
  {
   "cell_type": "code",
   "execution_count": 2,
   "metadata": {
    "colab": {
     "base_uri": "https://localhost:8080/",
     "height": 34
    },
    "colab_type": "code",
    "id": "N4WJXErfAvct",
    "outputId": "4e015981-9e72-4a2d-a83d-e459e6e8bac2"
   },
   "outputs": [
    {
     "data": {
      "text/plain": [
       "8"
      ]
     },
     "execution_count": 2,
     "metadata": {},
     "output_type": "execute_result"
    }
   ],
   "source": [
    "cube(2)"
   ]
  },
  {
   "cell_type": "markdown",
   "metadata": {
    "colab_type": "text",
    "id": "wX9knQRhAvdA"
   },
   "source": [
    "### [실습] 사각형의 넓이와 둘레를 구하는 함수\n",
    "> 밑변(width)과 높이(height)를 입력받아 사각형의 넓이와 둘레를 반환(return)하는 함수 `rectangle()`을 작성해보세요.\n",
    "\n",
    "---\n",
    "\n",
    "**[입력 예시]**\n",
    "\n",
    "```py\n",
    "rectangle(30, 20)\n",
    "```\n",
    "\n",
    "**[출력 예시]**\n",
    "\n",
    "(600, 100)"
   ]
  },
  {
   "cell_type": "code",
   "execution_count": null,
   "metadata": {
    "colab": {},
    "colab_type": "code",
    "id": "j8W5jXm5AvdC"
   },
   "outputs": [],
   "source": [
    "# 아래에 코드를 작성하세요."
   ]
  },
  {
   "cell_type": "code",
   "execution_count": null,
   "metadata": {
    "colab": {},
    "colab_type": "code",
    "id": "QV5GY5ojAvdX"
   },
   "outputs": [],
   "source": [
    "def rectangle(width, height): # width 와 height가 parameter(매개변수)인 듯\n",
    "    area = width * height     # 렉텡글에 넣는 값, 즉 30, 20은 argument(전달인자)인 듯\n",
    "    perimeter = (width + height) * 2\n",
    "    return (area, perimeter)"
   ]
  },
  {
   "cell_type": "code",
   "execution_count": null,
   "metadata": {
    "colab": {
     "base_uri": "https://localhost:8080/",
     "height": 52
    },
    "colab_type": "code",
    "id": "xquP1M2jAvdm",
    "outputId": "da586f5c-044e-4192-c9bb-327ce2ffdec4"
   },
   "outputs": [
    {
     "name": "stdout",
     "output_type": "stream",
     "text": [
      "(600, 100)\n",
      "(3500, 240)\n"
     ]
    }
   ],
   "source": [
    "print(rectangle(30, 20))\n",
    "print(rectangle(50, 70))"
   ]
  },
  {
   "cell_type": "markdown",
   "metadata": {
    "colab_type": "text",
    "id": "J7w8sH-BAvdy"
   },
   "source": [
    "<center>\n",
    "    <img src=\"https://user-images.githubusercontent.com/18046097/61181742-2984fd80-a665-11e9-9d5c-c90e8c64953e.png\", alt=\"function descrpition\">\n",
    "</center>"
   ]
  },
  {
   "cell_type": "markdown",
   "metadata": {
    "colab_type": "text",
    "id": "Yt_SnkBRAvd1"
   },
   "source": [
    "<center>\n",
    "    <img src=\"https://dl.dropbox.com/s/o6v9c0vxpdww1lm/function-argument.png\", alt=\"function_example\">\n",
    "</center>"
   ]
  },
  {
   "cell_type": "code",
   "execution_count": 3,
   "metadata": {
    "colab": {
     "base_uri": "https://localhost:8080/",
     "height": 70
    },
    "colab_type": "code",
    "id": "QLYvK9LtAvd3",
    "outputId": "d4931796-0ff5-4e49-95d3-9e74dcb8b189"
   },
   "outputs": [
    {
     "name": "stdout",
     "output_type": "stream",
     "text": [
      "hi\n",
      "None\n"
     ]
    },
    {
     "data": {
      "text/plain": [
       "NoneType"
      ]
     },
     "execution_count": 3,
     "metadata": {},
     "output_type": "execute_result"
    }
   ],
   "source": [
    "# 우리가 활용하는 print문도 파이썬에 지정된 함수입니다. \n",
    "# 아래에서 'hi'는 argument이고 출력을 하게 됩니다.\n",
    "result = print('hi')\n",
    "print(result)\n",
    "type(result)\n",
    "# 매우 중요한 부분임! -> print라는 것은 무언가를 리턴한다"
   ]
  },
  {
   "cell_type": "code",
   "execution_count": null,
   "metadata": {
    "colab": {},
    "colab_type": "code",
    "id": "-Xkq38LoM5Ff"
   },
   "outputs": [],
   "source": [
    "def print():\n",
    "    #print에는 return 문이 존재하지 않음!\n",
    "    #왜냐하면 프린트를 리설트에 넣어봤더니 아무것도 없음..\n",
    "    #타입도 논타입임."
   ]
  },
  {
   "cell_type": "code",
   "execution_count": 4,
   "metadata": {
    "colab": {
     "base_uri": "https://localhost:8080/",
     "height": 34
    },
    "colab_type": "code",
    "id": "i2odcoaUNexD",
    "outputId": "d3c29b75-e3a8-4e14-ac53-cde551025bca"
   },
   "outputs": [
    {
     "name": "stdout",
     "output_type": "stream",
     "text": [
      "None\n"
     ]
    }
   ],
   "source": [
    "sorted_list = [5, 2, 3, 4, 1].sort()\n",
    "print(sorted_list)\n",
    "#sort는 리턴이 아닌 순서를 바꾸는것! 그래서 return이 없다"
   ]
  },
  {
   "cell_type": "markdown",
   "metadata": {
    "colab_type": "text",
    "id": "u1fUZ6UPAveO"
   },
   "source": [
    "<center>\n",
    "    <img src=\"https://user-images.githubusercontent.com/18046097/61181739-2984fd80-a665-11e9-991b-f2f058397a69.png\", alt=\"built_in\">\n",
    "</center>\n",
    "\n",
    "[출처: python 공식문서](https://docs.python.org/ko/3/library/functions.html)"
   ]
  },
  {
   "cell_type": "code",
   "execution_count": null,
   "metadata": {
    "colab": {},
    "colab_type": "code",
    "id": "hYSkt1ZuAveQ"
   },
   "outputs": [],
   "source": [
    "# 내장함수 목록을 직접 볼 수도 있습니다."
   ]
  },
  {
   "cell_type": "code",
   "execution_count": null,
   "metadata": {
    "colab": {
     "base_uri": "https://localhost:8080/",
     "height": 1000
    },
    "colab_type": "code",
    "id": "2i2bMAHSAvei",
    "outputId": "811d0b5f-1e1e-4450-fdea-b8b6ded0b162"
   },
   "outputs": [
    {
     "data": {
      "text/plain": [
       "['ArithmeticError',\n",
       " 'AssertionError',\n",
       " 'AttributeError',\n",
       " 'BaseException',\n",
       " 'BlockingIOError',\n",
       " 'BrokenPipeError',\n",
       " 'BufferError',\n",
       " 'BytesWarning',\n",
       " 'ChildProcessError',\n",
       " 'ConnectionAbortedError',\n",
       " 'ConnectionError',\n",
       " 'ConnectionRefusedError',\n",
       " 'ConnectionResetError',\n",
       " 'DeprecationWarning',\n",
       " 'EOFError',\n",
       " 'Ellipsis',\n",
       " 'EnvironmentError',\n",
       " 'Exception',\n",
       " 'False',\n",
       " 'FileExistsError',\n",
       " 'FileNotFoundError',\n",
       " 'FloatingPointError',\n",
       " 'FutureWarning',\n",
       " 'GeneratorExit',\n",
       " 'IOError',\n",
       " 'ImportError',\n",
       " 'ImportWarning',\n",
       " 'IndentationError',\n",
       " 'IndexError',\n",
       " 'InterruptedError',\n",
       " 'IsADirectoryError',\n",
       " 'KeyError',\n",
       " 'KeyboardInterrupt',\n",
       " 'LookupError',\n",
       " 'MemoryError',\n",
       " 'ModuleNotFoundError',\n",
       " 'NameError',\n",
       " 'None',\n",
       " 'NotADirectoryError',\n",
       " 'NotImplemented',\n",
       " 'NotImplementedError',\n",
       " 'OSError',\n",
       " 'OverflowError',\n",
       " 'PendingDeprecationWarning',\n",
       " 'PermissionError',\n",
       " 'ProcessLookupError',\n",
       " 'RecursionError',\n",
       " 'ReferenceError',\n",
       " 'ResourceWarning',\n",
       " 'RuntimeError',\n",
       " 'RuntimeWarning',\n",
       " 'StopAsyncIteration',\n",
       " 'StopIteration',\n",
       " 'SyntaxError',\n",
       " 'SyntaxWarning',\n",
       " 'SystemError',\n",
       " 'SystemExit',\n",
       " 'TabError',\n",
       " 'TimeoutError',\n",
       " 'True',\n",
       " 'TypeError',\n",
       " 'UnboundLocalError',\n",
       " 'UnicodeDecodeError',\n",
       " 'UnicodeEncodeError',\n",
       " 'UnicodeError',\n",
       " 'UnicodeTranslateError',\n",
       " 'UnicodeWarning',\n",
       " 'UserWarning',\n",
       " 'ValueError',\n",
       " 'Warning',\n",
       " 'ZeroDivisionError',\n",
       " '__IPYTHON__',\n",
       " '__build_class__',\n",
       " '__debug__',\n",
       " '__doc__',\n",
       " '__import__',\n",
       " '__loader__',\n",
       " '__name__',\n",
       " '__package__',\n",
       " '__spec__',\n",
       " 'abs',\n",
       " 'all',\n",
       " 'any',\n",
       " 'ascii',\n",
       " 'bin',\n",
       " 'bool',\n",
       " 'bytearray',\n",
       " 'bytes',\n",
       " 'callable',\n",
       " 'chr',\n",
       " 'classmethod',\n",
       " 'compile',\n",
       " 'complex',\n",
       " 'copyright',\n",
       " 'credits',\n",
       " 'delattr',\n",
       " 'dict',\n",
       " 'dir',\n",
       " 'display',\n",
       " 'divmod',\n",
       " 'dreload',\n",
       " 'enumerate',\n",
       " 'eval',\n",
       " 'exec',\n",
       " 'filter',\n",
       " 'float',\n",
       " 'format',\n",
       " 'frozenset',\n",
       " 'get_ipython',\n",
       " 'getattr',\n",
       " 'globals',\n",
       " 'hasattr',\n",
       " 'hash',\n",
       " 'help',\n",
       " 'hex',\n",
       " 'id',\n",
       " 'input',\n",
       " 'int',\n",
       " 'isinstance',\n",
       " 'issubclass',\n",
       " 'iter',\n",
       " 'len',\n",
       " 'license',\n",
       " 'list',\n",
       " 'locals',\n",
       " 'map',\n",
       " 'max',\n",
       " 'memoryview',\n",
       " 'min',\n",
       " 'next',\n",
       " 'object',\n",
       " 'oct',\n",
       " 'open',\n",
       " 'ord',\n",
       " 'pow',\n",
       " 'print',\n",
       " 'property',\n",
       " 'range',\n",
       " 'repr',\n",
       " 'reversed',\n",
       " 'round',\n",
       " 'set',\n",
       " 'setattr',\n",
       " 'slice',\n",
       " 'sorted',\n",
       " 'staticmethod',\n",
       " 'str',\n",
       " 'sum',\n",
       " 'super',\n",
       " 'tuple',\n",
       " 'type',\n",
       " 'vars',\n",
       " 'zip']"
      ]
     },
     "execution_count": 22,
     "metadata": {
      "tags": []
     },
     "output_type": "execute_result"
    }
   ],
   "source": [
    "dir(__builtins__) #dir은 directory"
   ]
  },
  {
   "cell_type": "markdown",
   "metadata": {
    "colab_type": "text",
    "id": "8sKYARz7Aveo"
   },
   "source": [
    "### [연습] 함수를 만들기\n",
    "\n",
    "> 아래의 코드와 동일한 `my_max` 함수를 만들어주세요.\n",
    ">\n",
    "> 정수를 두개 받아서, 큰 값을 출력합니다. \n",
    "\n",
    "```python\n",
    "my_max(1, 5)\n",
    "```\n",
    "---\n",
    "```\n",
    "예시 출력)\n",
    "5가 더 큽니다\n",
    "```\n"
   ]
  },
  {
   "cell_type": "code",
   "execution_count": null,
   "metadata": {
    "colab": {},
    "colab_type": "code",
    "id": "X2nmy_npAvep"
   },
   "outputs": [],
   "source": [
    "# 내장함수 max()를 확인해봅시다."
   ]
  },
  {
   "cell_type": "code",
   "execution_count": 5,
   "metadata": {
    "colab": {},
    "colab_type": "code",
    "id": "RkNA6e9LAve7"
   },
   "outputs": [
    {
     "data": {
      "text/plain": [
       "5"
      ]
     },
     "execution_count": 5,
     "metadata": {},
     "output_type": "execute_result"
    }
   ],
   "source": [
    "max(1, 5)"
   ]
  },
  {
   "cell_type": "code",
   "execution_count": null,
   "metadata": {
    "colab": {},
    "colab_type": "code",
    "id": "UX3l_srQAvfJ"
   },
   "outputs": [],
   "source": [
    "# 아래에 my_max 함수를 작성하고 호출하세요."
   ]
  },
  {
   "cell_type": "code",
   "execution_count": 6,
   "metadata": {
    "colab": {},
    "colab_type": "code",
    "id": "XIUMV3pnAvfY"
   },
   "outputs": [],
   "source": [
    "def my_max(a, b):\n",
    "    if a >= b:\n",
    "        return f'{a}가 더 큽니다'\n",
    "    else:\n",
    "        return f'{b}가 더 큽니다'"
   ]
  },
  {
   "cell_type": "code",
   "execution_count": 7,
   "metadata": {
    "colab": {
     "base_uri": "https://localhost:8080/",
     "height": 35
    },
    "colab_type": "code",
    "id": "ZE_QAcSVAvfl",
    "outputId": "e67ba523-33b7-4156-cf3c-ee3e466b4b27"
   },
   "outputs": [
    {
     "data": {
      "text/plain": [
       "'5가 더 큽니다'"
      ]
     },
     "execution_count": 7,
     "metadata": {},
     "output_type": "execute_result"
    }
   ],
   "source": [
    "# 해당 코드를 통해 올바른 결과가 나오는지 확인하세요.\n",
    "my_max(1, 5)"
   ]
  },
  {
   "cell_type": "code",
   "execution_count": null,
   "metadata": {
    "colab": {},
    "colab_type": "code",
    "id": "eYRnS85MOdFv"
   },
   "outputs": [],
   "source": []
  },
  {
   "cell_type": "markdown",
   "metadata": {
    "colab_type": "text",
    "id": "BKIMrig8Avfq"
   },
   "source": [
    "# 함수의 Output"
   ]
  },
  {
   "cell_type": "markdown",
   "metadata": {
    "colab_type": "text",
    "id": "jsOaI1ugAvfq"
   },
   "source": [
    "## 함수의 `return`\n",
    "\n",
    "앞서 설명한 것과 마찬가지로 함수는 반환되는 값이 있으며, 이는 어떠한 종류(~~의 객체~~)라도 상관없습니다. \n",
    " \n",
    "단, **오직 한 개의 객체**만 반환됩니다.\n",
    "\n",
    "함수가 return 되거나 종료되면, 함수를 호출한 곳으로 돌아갑니다."
   ]
  },
  {
   "cell_type": "markdown",
   "metadata": {
    "colab_type": "text",
    "id": "uQ208S1SAvfr"
   },
   "source": [
    "### [연습] 함수를 정의하고 값을 반환해봅시다.\n",
    " \n",
    "> 리스트 두개를 받아 각각 더한 결과를 비교하여 값이 큰 리스트를 반환하는 함수를 만들어주세요.\n",
    "\n",
    "```python\n",
    "my_list_max([10, 3], [5, 9])\n",
    "```\n",
    "---\n",
    "```\n",
    "예시 출력)\n",
    "[5, 9]\n",
    "```\n"
   ]
  },
  {
   "cell_type": "code",
   "execution_count": null,
   "metadata": {
    "colab": {},
    "colab_type": "code",
    "id": "mOAkaifMAvfs"
   },
   "outputs": [],
   "source": [
    "# 아래에 my_list_max 함수를 작성하고 호출하세요"
   ]
  },
  {
   "cell_type": "code",
   "execution_count": null,
   "metadata": {
    "colab": {},
    "colab_type": "code",
    "id": "vjWW3fxHAvf0"
   },
   "outputs": [],
   "source": [
    "def my_list_max(a, b):\n",
    "    if sum(a) >= sum(b):\n",
    "        return a\n",
    "    else:\n",
    "        return b"
   ]
  },
  {
   "cell_type": "code",
   "execution_count": null,
   "metadata": {
    "colab": {
     "base_uri": "https://localhost:8080/",
     "height": 34
    },
    "colab_type": "code",
    "id": "2Id_L-z_Avf8",
    "outputId": "f03d8b90-12f9-4db5-d200-071b4ce52a94"
   },
   "outputs": [
    {
     "data": {
      "text/plain": [
       "[5, 9]"
      ]
     },
     "execution_count": 28,
     "metadata": {
      "tags": []
     },
     "output_type": "execute_result"
    }
   ],
   "source": [
    "# 해당 코드를 통해 올바른 결과가 나오는지 확인하세요.\n",
    "my_list_max([10, 3], [5, 9])"
   ]
  },
  {
   "cell_type": "markdown",
   "metadata": {
    "colab_type": "text",
    "id": "8_pQE3JvAvgE"
   },
   "source": [
    "# 함수의 입력(Input)"
   ]
  },
  {
   "cell_type": "markdown",
   "metadata": {
    "colab_type": "text",
    "id": "_PcPLCQ2AvgF"
   },
   "source": [
    "## 매개변수(parameter) & 인자(argument)\n",
    "\n",
    "### (1) 매개변수(parameter)\n",
    "\n",
    "```python\n",
    "def func(x):\n",
    "      return x + 2\n",
    "```\n",
    "\n",
    "* `x` 는 매개변수(parameter)\n",
    "* 입력을 받아 함수 내부에서 활용할 `변수`라고 생각하면 된다.\n",
    "* 함수의 정의 부분에서 볼 수 있다.\n",
    "\n",
    "\n",
    "### (2) 전달인자(argument)\n",
    "\n",
    "```python\n",
    "func(2)\n",
    "```\n",
    "\n",
    "* `2` 는 (전달)인자(argument)\n",
    "* 실제로 전달되는 `입력값`이라고 생각하면 된다.\n",
    "* 함수를 호출하는 부분에서 볼 수 있다.\n",
    "    \n",
    "> 주로 혼용해서 사용하지만 엄밀하게 따지면 둘은 다르게 구분되어 사용됩니다. 개념적 구분보다 함수가 작동하는 원리를 이해하는게 더 중요합니다."
   ]
  },
  {
   "cell_type": "markdown",
   "metadata": {
    "colab_type": "text",
    "id": "LAIdDpSQAvgG"
   },
   "source": [
    "## 함수의 인자\n",
    "\n",
    "함수는 입력값(input)으로 `인자(argument)`를 넘겨줄 수 있습니다."
   ]
  },
  {
   "cell_type": "markdown",
   "metadata": {
    "colab_type": "text",
    "id": "Co7Z1actAvgH"
   },
   "source": [
    "### 위치 인자 (Positional Arguments)\n",
    "\n",
    "함수는 기본적으로 인자를 위치로 판단합니다."
   ]
  },
  {
   "cell_type": "markdown",
   "metadata": {
    "colab_type": "text",
    "id": "mJo6lqH3AvgI"
   },
   "source": [
    "### [연습] 원기둥의 부피\n",
    "\n",
    "> 원기둥의 반지름(r)과 높이(h)를 받아서 부피를 return하는 함수 `cylinder()`를 작성하세요.\n",
    ">\n",
    "> *원기둥 부피 = 밑면의 넓이 * 높이*"
   ]
  },
  {
   "cell_type": "code",
   "execution_count": null,
   "metadata": {
    "colab": {},
    "colab_type": "code",
    "id": "RlhPWqsVAvgI"
   },
   "outputs": [],
   "source": [
    "def cylinder(radius, height):\n",
    "    area = 3.14 * radius ** 2\n",
    "    volume = area * height #매개변수 명은 구체적으로 쓰는 게 중요!\n",
    "    return volume"
   ]
  },
  {
   "cell_type": "code",
   "execution_count": null,
   "metadata": {
    "colab": {
     "base_uri": "https://localhost:8080/",
     "height": 52
    },
    "colab_type": "code",
    "id": "b00rCLR3AvgT",
    "outputId": "6f8a2cc9-73b0-41d2-ef3c-76a4d872b6b8"
   },
   "outputs": [
    {
     "name": "stdout",
     "output_type": "stream",
     "text": [
      "157.0\n",
      "62.800000000000004\n"
     ]
    }
   ],
   "source": [
    "print(cylinder(5,2))\n",
    "print(cylinder(2,5)) # 순서를 바꾸면 다른 값이 나옵니다."
   ]
  },
  {
   "cell_type": "markdown",
   "metadata": {
    "colab_type": "text",
    "id": "t3gb72d4Avgd"
   },
   "source": [
    "<center>\n",
    "    <img src=\"https://user-images.githubusercontent.com/18046097/61181743-2a1d9400-a665-11e9-8df2-e4856caf16e4.png\", alt=\"function example 02\">\n",
    "</center>"
   ]
  },
  {
   "cell_type": "markdown",
   "metadata": {
    "colab_type": "text",
    "id": "O2NWQSBGAvgf"
   },
   "source": [
    "### 기본 인자 값 (Default Argument Values)\n",
    "\n",
    "함수가 호출될 때, 인자를 지정하지 않아도 기본 값을 설정할 수 있습니다. \n",
    "\n",
    "---\n",
    "\n",
    "**활용법**\n",
    "```python\n",
    "def func(p1=v1):\n",
    "    return p1\n",
    "```"
   ]
  },
  {
   "cell_type": "markdown",
   "metadata": {
    "colab_type": "text",
    "id": "LNtfzdF_Avgg"
   },
   "source": [
    "### [연습] 기본 인자 값 활용\n",
    "\n",
    "> 이름을 받아서 다음과 같이 인사하는 함수 `greeting()`을 작성하세요. 이름이 길동이면, \"길동, 안녕?\" 이름이 없으면 \"익명, 안녕?\" 으로 출력하세요."
   ]
  },
  {
   "cell_type": "code",
   "execution_count": null,
   "metadata": {
    "colab": {},
    "colab_type": "code",
    "id": "001pb76LAvgl"
   },
   "outputs": [],
   "source": [
    "# 아래에 greeting 함수를 작성하세요."
   ]
  },
  {
   "cell_type": "code",
   "execution_count": null,
   "metadata": {
    "colab": {},
    "colab_type": "code",
    "id": "Ue0sBRgHAvg1"
   },
   "outputs": [],
   "source": [
    "def greeting(name='익명'):\n",
    "    return f'{name}, 안녕?' #값이 들어오면 값을 쓰고, 안쓰면 미리 정해놓은 익명으로 쓰겠다."
   ]
  },
  {
   "cell_type": "code",
   "execution_count": null,
   "metadata": {
    "colab": {
     "base_uri": "https://localhost:8080/",
     "height": 35
    },
    "colab_type": "code",
    "id": "7t4jUyJJTDbn",
    "outputId": "81694155-bcfd-4b1e-9ee9-e283b697d21c"
   },
   "outputs": [
    {
     "data": {
      "application/vnd.google.colaboratory.intrinsic": {
       "type": "string"
      },
      "text/plain": [
       "'익명, 안녕?'"
      ]
     },
     "execution_count": 37,
     "metadata": {
      "tags": []
     },
     "output_type": "execute_result"
    }
   ],
   "source": [
    "greeting()"
   ]
  },
  {
   "cell_type": "markdown",
   "metadata": {
    "colab_type": "text",
    "id": "9NmxUEk2Avg-"
   },
   "source": [
    "* 기본 인자 값이 설정되어 있더라도 기존의 함수와 동일하게 호출 가능하다.\n",
    "\n",
    "\n",
    "<center>\n",
    "    <img src=\"https://user-images.githubusercontent.com/18046097/61181744-2a1d9400-a665-11e9-9095-6924ca11122e.png\">\n",
    "</center>"
   ]
  },
  {
   "cell_type": "markdown",
   "metadata": {
    "colab_type": "text",
    "id": "mYmxYKQ_AvhA"
   },
   "source": [
    "* 호출시 인자가 없으면 기본 인자 값이 활용된다.\n",
    "\n",
    "\n",
    "<center>\n",
    "    <img src=\"https://user-images.githubusercontent.com/18046097/61181745-2a1d9400-a665-11e9-95ef-e50e463e1583.png\", alt=\"function example 03\">\n",
    "</center>"
   ]
  },
  {
   "cell_type": "markdown",
   "metadata": {
    "colab_type": "text",
    "id": "s8us4PvNAvhC"
   },
   "source": [
    "**\\*주의\\* 단, 기본 인자값(Default Argument Value)을 가지는 인자 다음에 기본 값이 없는 인자를 사용할 수는 없습니다.**"
   ]
  },
  {
   "cell_type": "code",
   "execution_count": null,
   "metadata": {
    "colab": {},
    "colab_type": "code",
    "id": "umhO4q5UAvhF"
   },
   "outputs": [],
   "source": [
    "# 오류를 확인해봅시다."
   ]
  },
  {
   "cell_type": "code",
   "execution_count": null,
   "metadata": {
    "colab": {
     "base_uri": "https://localhost:8080/",
     "height": 134
    },
    "colab_type": "code",
    "id": "1OgeoaFXAvhP",
    "outputId": "0c9cb1b6-a59f-4a8a-bac1-020ef317fc27"
   },
   "outputs": [
    {
     "ename": "SyntaxError",
     "evalue": "ignored",
     "output_type": "error",
     "traceback": [
      "\u001b[0;36m  File \u001b[0;32m\"<ipython-input-38-648bfb9bac21>\"\u001b[0;36m, line \u001b[0;32m1\u001b[0m\n\u001b[0;31m    def greeting(name = '익명', grade):\u001b[0m\n\u001b[0m                ^\u001b[0m\n\u001b[0;31mSyntaxError\u001b[0m\u001b[0;31m:\u001b[0m non-default argument follows default argument\n"
     ]
    }
   ],
   "source": [
    "def greeting(name = '익명', grade): #grade는 기본값이 없는데, 기본값이 있는 인자 뒤에 이런게 오면 안됨!\n",
    "    return f'{grade}학년 {name}님, 환영합니다.' #따라서 name과 grade의 순서만 바꿔주면 됨.\n",
    "    #결론 = 기본인자는 뒷쪽에 추가해라."
   ]
  },
  {
   "cell_type": "code",
   "execution_count": null,
   "metadata": {
    "colab": {},
    "colab_type": "code",
    "id": "GBZ8QtjzU94m"
   },
   "outputs": [],
   "source": [
    "greeting(4) #이러면 이 4가 name에 넣은건지 grade에 넣은건지 컴퓨터가 확정하지 못함!"
   ]
  },
  {
   "cell_type": "code",
   "execution_count": null,
   "metadata": {
    "colab": {},
    "colab_type": "code",
    "id": "qh14vceuAvhf"
   },
   "outputs": [],
   "source": [
    "# 수정해 봅시다."
   ]
  },
  {
   "cell_type": "code",
   "execution_count": null,
   "metadata": {
    "colab": {},
    "colab_type": "code",
    "id": "Yzm7h2ygAvhr"
   },
   "outputs": [],
   "source": [
    "def greeting(age, grade=4, name='익명'):\n",
    "    return f'{age}세 {grade}학년 {name}님, 환영합니다.'"
   ]
  },
  {
   "cell_type": "code",
   "execution_count": null,
   "metadata": {
    "colab": {
     "base_uri": "https://localhost:8080/",
     "height": 35
    },
    "colab_type": "code",
    "id": "to63r0gZVluQ",
    "outputId": "58fda0f4-7b04-438f-b70a-eb4cdc304cd8"
   },
   "outputs": [
    {
     "data": {
      "application/vnd.google.colaboratory.intrinsic": {
       "type": "string"
      },
      "text/plain": [
       "'48세 3학년 홍길동님, 환영합니다.'"
      ]
     },
     "execution_count": 42,
     "metadata": {
      "tags": []
     },
     "output_type": "execute_result"
    }
   ],
   "source": [
    "greeting(48, 3, '홍길동')"
   ]
  },
  {
   "cell_type": "markdown",
   "metadata": {
    "colab_type": "text",
    "id": "XfBYhAd4Avhv"
   },
   "source": [
    "### 키워드 인자 (Keyword Arguments)\n",
    "\n",
    "키워드 인자는 직접 변수의 이름으로 특정 인자를 전달할 수 있습니다."
   ]
  },
  {
   "cell_type": "code",
   "execution_count": null,
   "metadata": {
    "colab": {},
    "colab_type": "code",
    "id": "JzGrx08hAvhw"
   },
   "outputs": [],
   "source": [
    "# 키워드 인자 예시"
   ]
  },
  {
   "cell_type": "code",
   "execution_count": 9,
   "metadata": {
    "colab": {},
    "colab_type": "code",
    "id": "xAujO2mkAvh5"
   },
   "outputs": [],
   "source": [
    "def greeting(age, name='익명'):\n",
    "    return f'{age}세 {name}님 환영합니다.'"
   ]
  },
  {
   "cell_type": "code",
   "execution_count": null,
   "metadata": {
    "colab": {},
    "colab_type": "code",
    "id": "cypaMXfpAviC"
   },
   "outputs": [],
   "source": [
    "# 호출 순서를 바꿔봅시다."
   ]
  },
  {
   "cell_type": "code",
   "execution_count": 10,
   "metadata": {
    "colab": {
     "base_uri": "https://localhost:8080/",
     "height": 35
    },
    "colab_type": "code",
    "id": "IgK4u_k1AviM",
    "outputId": "95610faa-b2e4-4068-e920-5bc827ff8b92"
   },
   "outputs": [
    {
     "data": {
      "text/plain": [
       "'홍길동세 20님 환영합니다.'"
      ]
     },
     "execution_count": 10,
     "metadata": {},
     "output_type": "execute_result"
    }
   ],
   "source": [
    "greeting('홍길동', 20)"
   ]
  },
  {
   "cell_type": "markdown",
   "metadata": {
    "colab_type": "text",
    "id": "qBJf1tJzAvik"
   },
   "source": [
    "* **단 아래와 같이 `키워드 인자`를 활용한 다음에 `위치 인자`를 활용할 수는 없습니다.**"
   ]
  },
  {
   "cell_type": "code",
   "execution_count": 11,
   "metadata": {
    "colab": {
     "base_uri": "https://localhost:8080/",
     "height": 35
    },
    "colab_type": "code",
    "id": "cmMcIHbRAvil",
    "outputId": "aaea3c57-9629-4470-8b82-cafca08faff9"
   },
   "outputs": [
    {
     "data": {
      "text/plain": [
       "'20세 홍길동님 환영합니다.'"
      ]
     },
     "execution_count": 11,
     "metadata": {},
     "output_type": "execute_result"
    }
   ],
   "source": [
    "greeting(age = 20, name = '홍길동')"
   ]
  },
  {
   "cell_type": "code",
   "execution_count": 12,
   "metadata": {
    "colab": {
     "base_uri": "https://localhost:8080/",
     "height": 35
    },
    "colab_type": "code",
    "id": "lfhS4SmCWkWE",
    "outputId": "2c75cc57-3f2a-4083-fb0c-b16934a2d113"
   },
   "outputs": [
    {
     "data": {
      "text/plain": [
       "'20세 홍길동님 환영합니다.'"
      ]
     },
     "execution_count": 12,
     "metadata": {},
     "output_type": "execute_result"
    }
   ],
   "source": [
    "greeting(20, '홍길동') #위와 같은 의미"
   ]
  },
  {
   "cell_type": "code",
   "execution_count": 13,
   "metadata": {
    "colab": {
     "base_uri": "https://localhost:8080/",
     "height": 35
    },
    "colab_type": "code",
    "id": "D3fY9x5TWsT_",
    "outputId": "23ca0c01-4a54-43ee-f86c-07c94db52c77"
   },
   "outputs": [
    {
     "data": {
      "text/plain": [
       "'20세 홍길동님 환영합니다.'"
      ]
     },
     "execution_count": 13,
     "metadata": {},
     "output_type": "execute_result"
    }
   ],
   "source": [
    "greeting(name = '홍길동', age = 20)"
   ]
  },
  {
   "cell_type": "code",
   "execution_count": null,
   "metadata": {
    "colab": {
     "base_uri": "https://localhost:8080/",
     "height": 151
    },
    "colab_type": "code",
    "id": "cCt0QVRHWzNG",
    "outputId": "13e3099a-abe4-4dc2-e137-c7671ea623d8"
   },
   "outputs": [
    {
     "ename": "SyntaxError",
     "evalue": "ignored",
     "output_type": "error",
     "traceback": [
      "\u001b[0;36m  File \u001b[0;32m\"<ipython-input-52-a501e82afd09>\"\u001b[0;36m, line \u001b[0;32m1\u001b[0m\n\u001b[0;31m    greeting(name='홍길동', 20)\u001b[0m\n\u001b[0m                            \n^\u001b[0m\n\u001b[0;31mSyntaxError\u001b[0m\u001b[0;31m:\u001b[0m positional argument follows keyword argument\n"
     ]
    }
   ],
   "source": [
    "greeting(name='홍길동', 20) #이렇게 쓰면 안된다. 모호한 해석을 나타낼 수 있다."
   ]
  },
  {
   "cell_type": "code",
   "execution_count": 14,
   "metadata": {
    "colab": {
     "base_uri": "https://localhost:8080/",
     "height": 35
    },
    "colab_type": "code",
    "id": "9ZeFRy14W_6m",
    "outputId": "b858f26d-e28f-4b2b-c8bf-5df1a7da8b43"
   },
   "outputs": [
    {
     "data": {
      "text/plain": [
       "'20세 홍길동님 환영합니다.'"
      ]
     },
     "execution_count": 14,
     "metadata": {},
     "output_type": "execute_result"
    }
   ],
   "source": [
    "greeting(20, name='홍길동')"
   ]
  },
  {
   "cell_type": "code",
   "execution_count": 15,
   "metadata": {
    "colab": {
     "base_uri": "https://localhost:8080/",
     "height": 134
    },
    "colab_type": "code",
    "id": "ppdqX0VAXGIS",
    "outputId": "ffb6953c-8287-45ef-e640-a4a6a7d622c7"
   },
   "outputs": [
    {
     "ename": "SyntaxError",
     "evalue": "positional argument follows keyword argument (<ipython-input-15-b28930cffea4>, line 1)",
     "output_type": "error",
     "traceback": [
      "\u001b[1;36m  File \u001b[1;32m\"<ipython-input-15-b28930cffea4>\"\u001b[1;36m, line \u001b[1;32m1\u001b[0m\n\u001b[1;33m    greeting(age=20, '홍길동') # 키워드 인자는 다 쓰던지 혹은 뒤에만 써라!\u001b[0m\n\u001b[1;37m                    ^\u001b[0m\n\u001b[1;31mSyntaxError\u001b[0m\u001b[1;31m:\u001b[0m positional argument follows keyword argument\n"
     ]
    }
   ],
   "source": [
    "greeting(age=20, '홍길동') # 키워드 인자는 다 쓰던지 혹은 뒤에만 써라!"
   ]
  },
  {
   "cell_type": "markdown",
   "metadata": {
    "colab_type": "text",
    "id": "qPG86j6TAvi7"
   },
   "source": [
    "## 정해지지 않은 여러 개의 인자 처리\n"
   ]
  },
  {
   "cell_type": "markdown",
   "metadata": {
    "colab_type": "text",
    "id": "b7dgvgjgAvi9"
   },
   "source": [
    "우리가 주로 활용하는 `print()` 함수는 [파이썬 표준 라이브러리의 내장함수](https://docs.python.org/ko/3.6/library/functions.html) 중 하나이며, 다음과 같이 구성되어있습니다.\n",
    "> <center>\n",
    "    <img src=\"https://user-images.githubusercontent.com/18046097/61181751-2b4ec100-a665-11e9-9a7c-a19a8c445cfa.png\", alt=\"print\">\n",
    "</center>"
   ]
  },
  {
   "cell_type": "code",
   "execution_count": 16,
   "metadata": {
    "colab": {
     "base_uri": "https://localhost:8080/",
     "height": 34
    },
    "colab_type": "code",
    "id": "REC6ABO9Avi_",
    "outputId": "9bf1ca92-edbe-4ec6-cc78-321f6f127269"
   },
   "outputs": [
    {
     "name": "stdout",
     "output_type": "stream",
     "text": [
      "첫번째 인자&두번째 인자&세번째 인자!1 2 3 4 5 6 7 8 9\n"
     ]
    }
   ],
   "source": [
    "print('첫번째 인자', '두번째 인자', '세번째 인자', sep='&', end='!')\n",
    "print(1,2,3,4,5,6,7,8,9)"
   ]
  },
  {
   "cell_type": "markdown",
   "metadata": {
    "colab_type": "text",
    "id": "lVHjamvBAvjH"
   },
   "source": [
    "### 가변(임의) 인자 리스트(Arbitrary Argument Lists)\n",
    "\n",
    "앞서 설명한 `print()`처럼 개수가 정해지지 않은 임의의 인자를 받기 위해서는 가변 인자 리스트`*args`를 활용합니다. \n",
    "\n",
    "가변 인자 리스트는 `tuple` 형태로 처리가 되며, 매개변수에 `*`로 표현합니다. \n",
    "\n",
    "---\n",
    "\n",
    "#### 활용법\n",
    "\n",
    "```python\n",
    "def func(a, b, *args):\n",
    "```\n",
    "> `*args` : 임의의 개수의 위치인자를 받음을 의미\n",
    "> \n",
    "> 보통, 이 가변 인자 리스트는 매개변수 목록의 마지막에 옵니다."
   ]
  },
  {
   "cell_type": "code",
   "execution_count": null,
   "metadata": {
    "colab": {},
    "colab_type": "code",
    "id": "Mc68T18pAvjM"
   },
   "outputs": [],
   "source": [
    "# 가변 인자 예시\n",
    "# print문은 *obejcts를 통해 임의의 숫자의 인자를 모두 처리합니다."
   ]
  },
  {
   "cell_type": "code",
   "execution_count": 17,
   "metadata": {
    "colab": {
     "base_uri": "https://localhost:8080/",
     "height": 34
    },
    "colab_type": "code",
    "id": "KBkdVYLmAvjU",
    "outputId": "375870c0-30a9-417f-b57b-8350726a11c9"
   },
   "outputs": [
    {
     "name": "stdout",
     "output_type": "stream",
     "text": [
      "1 2 3 4 5 6 7 8 9\n"
     ]
    }
   ],
   "source": [
    "print(1,2,3,4,5,6,7,8,9)"
   ]
  },
  {
   "cell_type": "code",
   "execution_count": null,
   "metadata": {
    "colab": {},
    "colab_type": "code",
    "id": "RR26ahEMAvjo"
   },
   "outputs": [],
   "source": [
    "# args는 tuple입니다."
   ]
  },
  {
   "cell_type": "code",
   "execution_count": 20,
   "metadata": {
    "colab": {
     "base_uri": "https://localhost:8080/",
     "height": 134
    },
    "colab_type": "code",
    "id": "ORYU8PhiAvj_",
    "outputId": "c64c1d6f-2073-4c53-ce8a-010e28d1629e"
   },
   "outputs": [
    {
     "name": "stdout",
     "output_type": "stream",
     "text": [
      "2\n",
      "4\n",
      "6\n"
     ]
    }
   ],
   "source": [
    "def func(*args):\n",
    "    for i in args:\n",
    "        if i % 2 == 0:\n",
    "            print(i)\n",
    "\n",
    "func(1, 2, 3, 4 ,5 ,6)"
   ]
  },
  {
   "cell_type": "markdown",
   "metadata": {
    "colab_type": "text",
    "id": "dMrTP5jPAvkQ"
   },
   "source": [
    "### [연습] 가변 인자 리스트를 사용해봅시다.\n",
    "\n",
    "> 정수를 여러 개 받아서 가장 큰 값을 반환(return)하는 함수 `my_max()`를 작성하세요.\n",
    "\n",
    "```python\n",
    "my_max(10, 20, 30, 50)\n",
    "```\n",
    "---\n",
    "```\n",
    "예시출력)\n",
    "50\n",
    "```"
   ]
  },
  {
   "cell_type": "code",
   "execution_count": null,
   "metadata": {
    "colab": {
     "base_uri": "https://localhost:8080/",
     "height": 34
    },
    "colab_type": "code",
    "id": "1lpbFJphAvkS",
    "outputId": "2e7426fa-44a1-4bbe-c82e-8b56a6004ace"
   },
   "outputs": [
    {
     "data": {
      "text/plain": [
       "4"
      ]
     },
     "execution_count": 14,
     "metadata": {
      "tags": []
     },
     "output_type": "execute_result"
    }
   ],
   "source": [
    "max(1, 2, 3, 4)\n",
    "\n",
    "# 아래에 코드를 작성하세요."
   ]
  },
  {
   "cell_type": "code",
   "execution_count": null,
   "metadata": {
    "colab": {},
    "colab_type": "code",
    "id": "b1HQ-ZmdAvkg"
   },
   "outputs": [],
   "source": [
    "import sys\n",
    "\n",
    "def my_max(*args):\n",
    "    max_value = -sys.maxsize\n",
    "    for i in args:\n",
    "        if max_value < i:\n",
    "            max_value = i\n",
    "    return max_value\n"
   ]
  },
  {
   "cell_type": "code",
   "execution_count": null,
   "metadata": {
    "colab": {
     "base_uri": "https://localhost:8080/",
     "height": 34
    },
    "colab_type": "code",
    "id": "YFAFDXTfAvkm",
    "outputId": "43e7e360-4c5a-4853-d70e-c5fadd2e4f65"
   },
   "outputs": [
    {
     "data": {
      "text/plain": [
       "-1"
      ]
     },
     "execution_count": 21,
     "metadata": {
      "tags": []
     },
     "output_type": "execute_result"
    }
   ],
   "source": [
    "# 해당 코드를 통해 올바른 결과가 나오는지 확인하세요.\n",
    "my_max(-1, -2, -3, -4)"
   ]
  },
  {
   "cell_type": "markdown",
   "metadata": {
    "colab_type": "text",
    "id": "4VFktN-YAvky"
   },
   "source": [
    "### 가변(임의) 키워드 인자(Arbitrary Keyword Arguments)\n",
    "\n",
    "정해지지 않은 키워드 인자들은 **`dict`** 형태로 처리가 되며, `**`로 표현합니다. \n",
    "\n",
    "보통 `kwagrs`라는 이름을 사용하며, `**kwargs`를 통해 인자를 받아 처리할 수 있습니다.\n",
    "\n",
    "---\n",
    "\n",
    "#### 활용법\n",
    "\n",
    "```python\n",
    "def func(**kwargs):\n",
    "```\n",
    "> `**kwargs` : 임의의 개수의 키워드 인자를 받음을 의미"
   ]
  },
  {
   "cell_type": "markdown",
   "metadata": {
    "colab_type": "text",
    "id": "nZiLBh2zAvkz"
   },
   "source": [
    "우리가 dictionary를 만들 때 사용할 수 있는 `dict()` 함수는 [파이썬 표준 라이브러리의 내장함수](https://docs.python.org/ko/3.6/library/functions.html) 중 하나이며, 다음과 같이 구성되어 있습니다.\n",
    "> <center>\n",
    "    <img src=\"https://user-images.githubusercontent.com/18046097/61181740-2984fd80-a665-11e9-94cf-7f5ab41873b1.png\", alt=\"dictionary\">\n",
    "</center>"
   ]
  },
  {
   "cell_type": "code",
   "execution_count": null,
   "metadata": {
    "colab": {},
    "colab_type": "code",
    "id": "GpARIG9HAvk0"
   },
   "outputs": [],
   "source": [
    "# 딕셔너리 생성 함수 예시(키워드 인자)"
   ]
  },
  {
   "cell_type": "code",
   "execution_count": null,
   "metadata": {
    "colab": {
     "base_uri": "https://localhost:8080/",
     "height": 34
    },
    "colab_type": "code",
    "id": "PJsMJb3_Avk_",
    "outputId": "028114d1-d36f-4924-b3af-b96c08cdaef1"
   },
   "outputs": [
    {
     "name": "stdout",
     "output_type": "stream",
     "text": [
      "{'한국어': '안녕', '영어': 'hi'}\n"
     ]
    }
   ],
   "source": [
    "#\n",
    "hi = dict(한국어='안녕',영어='hi')\n",
    "print(hi)"
   ]
  },
  {
   "cell_type": "markdown",
   "metadata": {
    "colab_type": "text",
    "id": "AiK8C73_AvlI"
   },
   "source": [
    "### [연습] 정의되지 않은 키워드 인자를 처리\n",
    "\n",
    "> `my_dict()` 함수를 만들어 실제로 dictionary 모습처럼 출력 함수를 작성하세요.\n",
    ">\n",
    ">\n",
    "\n",
    "---\n",
    "\n",
    "```\n",
    "예시 출력)\n",
    "{'한국어': '안녕', '영어': 'hi', '독일어': 'Guten Tag'}\n",
    "```"
   ]
  },
  {
   "cell_type": "code",
   "execution_count": null,
   "metadata": {
    "colab": {},
    "colab_type": "code",
    "id": "9pxkeZMmAvlJ"
   },
   "outputs": [],
   "source": [
    "# 아래에 코드를 작성한 뒤 호출하세요."
   ]
  },
  {
   "cell_type": "code",
   "execution_count": 23,
   "metadata": {
    "colab": {
     "base_uri": "https://localhost:8080/",
     "height": 34
    },
    "colab_type": "code",
    "id": "XsSovVaJAvlV",
    "outputId": "7fc4d56c-fca7-4b70-de76-0fa21f1ff849"
   },
   "outputs": [
    {
     "name": "stdout",
     "output_type": "stream",
     "text": [
      "{'한국어': '안녕', '영어': 'hi', '독일어': 'Guten Tag'}\n"
     ]
    }
   ],
   "source": [
    "def my_dict(**kwargs):\n",
    "    result = '{'\n",
    "    for key in kwargs:\n",
    "        result += f\"'{key}': '{kwargs[key]}', \"\n",
    "    return result[:-2] + '}'\n",
    "\n",
    "result = my_dict(한국어='안녕', 영어='hi', 독일어='Guten Tag')\n",
    "print(result)"
   ]
  },
  {
   "cell_type": "code",
   "execution_count": null,
   "metadata": {
    "colab": {},
    "colab_type": "code",
    "id": "nXoXNDLlAvlh"
   },
   "outputs": [],
   "source": [
    "# 사실은 dict()는 출력이 아니라 딕셔너리를 return 합니다. "
   ]
  },
  {
   "cell_type": "code",
   "execution_count": null,
   "metadata": {
    "colab": {},
    "colab_type": "code",
    "id": "9dOc7da1Avlr"
   },
   "outputs": [],
   "source": [
    "dict(한국어='안녕', 영어='hi', 독일어='Guten Tag')"
   ]
  },
  {
   "cell_type": "code",
   "execution_count": null,
   "metadata": {
    "colab": {},
    "colab_type": "code",
    "id": "P-vt5mDoAvl4"
   },
   "outputs": [],
   "source": [
    "# 딕셔너리를 return 하는 my_fake_dict() 를 작성하세요."
   ]
  },
  {
   "cell_type": "code",
   "execution_count": 22,
   "metadata": {
    "colab": {},
    "colab_type": "code",
    "id": "QH6WBPzxAvmI"
   },
   "outputs": [
    {
     "name": "stdout",
     "output_type": "stream",
     "text": [
      "{'한국어': '안녕', '영어': 'hi', '독일어': 'Guten Tag'}\n"
     ]
    }
   ],
   "source": [
    "def my_fake_dict(**kwargs):\n",
    "    return kwargs\n",
    "\n",
    "result = my_fake_dict(한국어='안녕', 영어='hi', 독일어='Guten Tag')\n",
    "print(result)"
   ]
  }
 ],
 "metadata": {
  "colab": {
   "collapsed_sections": [
    "Co7Z1actAvgH",
    "O2NWQSBGAvgf"
   ],
   "name": "03_function_I.ipynb",
   "provenance": []
  },
  "kernelspec": {
   "display_name": "Python 3",
   "language": "python",
   "name": "python3"
  },
  "language_info": {
   "codemirror_mode": {
    "name": "ipython",
    "version": 3
   },
   "file_extension": ".py",
   "mimetype": "text/x-python",
   "name": "python",
   "nbconvert_exporter": "python",
   "pygments_lexer": "ipython3",
   "version": "3.7.7"
  },
  "toc": {
   "base_numbering": 1,
   "nav_menu": {},
   "number_sections": true,
   "sideBar": true,
   "skip_h1_title": false,
   "title_cell": "Table of Contents",
   "title_sidebar": "Contents",
   "toc_cell": false,
   "toc_position": {},
   "toc_section_display": true,
   "toc_window_display": false
  }
 },
 "nbformat": 4,
 "nbformat_minor": 1
}
