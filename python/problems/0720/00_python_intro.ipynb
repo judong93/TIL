{
  "nbformat": 4,
  "nbformat_minor": 0,
  "metadata": {
    "kernelspec": {
      "display_name": "Python 3",
      "language": "python",
      "name": "python3"
    },
    "language_info": {
      "codemirror_mode": {
        "name": "ipython",
        "version": 3
      },
      "file_extension": ".py",
      "mimetype": "text/x-python",
      "name": "python",
      "nbconvert_exporter": "python",
      "pygments_lexer": "ipython3",
      "version": "3.6.7"
    },
    "toc": {
      "base_numbering": 1,
      "nav_menu": {},
      "number_sections": true,
      "sideBar": true,
      "skip_h1_title": false,
      "title_cell": "Table of Contents",
      "title_sidebar": "Contents",
      "toc_cell": false,
      "toc_position": {},
      "toc_section_display": true,
      "toc_window_display": false
    },
    "colab": {
      "name": "00_python_intro (2).ipynb",
      "provenance": [],
      "collapsed_sections": [
        "GlohRRpbKvp4",
        "tu8q4yTPKvqY",
        "B7hOoogdKvq2",
        "nSWzrI8JKvq3",
        "JdnQj_F4Kvr5",
        "yTodpdGMKvtV",
        "ju3jwBjPKvuM",
        "mUfcFHJTKvvV",
        "EDZZ_WfdKvv4",
        "Sn7SA8-VKvwo",
        "vbRhgATOKvwy",
        "uCt9qa5dKvxP",
        "88JtZ3pLKvyQ",
        "3lmr9t79Kvyt",
        "LW2Br5zMKvy4",
        "F570oWFSKvzC",
        "PFZmJZsaKvzC",
        "wGO_3ZAzKvzg",
        "S8fMRX1RKv0D"
      ]
    }
  },
  "cells": [
    {
      "cell_type": "markdown",
      "metadata": {
        "id": "NLzDR0pMKvZ6",
        "colab_type": "text"
      },
      "source": [
        "**굵은 텍스트**# Python 기초\n",
        "\n",
        "## 개요\n",
        "\n",
        "본 강의 자료는 [Python 공식 Tutorial](https://docs.python.org/3.7/tutorial/index.html)에 근거하여 만들어졌으며, Python 3.7 버전에 해당하는 내용을 담고 있습니다.\n",
        "\n",
        "또한, 파이썬에서 제공하는 스타일 가이드인 [`PEP-8`](https://www.python.org/dev/peps/pep-0008/) 내용을 반영하였습니다. \n",
        "\n",
        "파이썬을 활용하는 다양한 IT기업들은 대내외적으로 본인들의 스타일 가이드를 제공하고 있습니다. \n",
        "\n",
        "* [구글 스타일 가이드](https://github.com/google/styleguide/blob/gh-pages/pyguide.md)\n",
        "* [Tensorflow 스타일 가이드](https://www.tensorflow.org/community/style_guide)\n",
        "\n"
      ]
    },
    {
      "cell_type": "markdown",
      "metadata": {
        "id": "2nQm21xyKvZ8",
        "colab_type": "text"
      },
      "source": [
        "## 기초 문법(Syntax)\n",
        "### 주석(Comment)\n",
        "\n",
        "* 한 줄 주석은 `#`으로 표현한다. \n",
        "\n",
        "* 여러 줄의 주석은 \n",
        "    1. 한 줄 씩 `#`을 사용해서 표현하거나,\n",
        "    2. `\"\"\"` 또는 `'''`(여러줄 문자열, multiline string)으로 표현할 수 있습니다.\n",
        "    (multiline은 주로 함수/클래스를 설명(docstring)하기 위해 활용됩니다.)"
      ]
    },
    {
      "cell_type": "code",
      "metadata": {
        "id": "APtR45XuKvZ-",
        "colab_type": "code",
        "colab": {}
      },
      "source": [
        "# 주석을 연습해봅시다. "
      ],
      "execution_count": null,
      "outputs": []
    },
    {
      "cell_type": "code",
      "metadata": {
        "id": "_eLPT0P5KvaI",
        "colab_type": "code",
        "colab": {}
      },
      "source": [
        "# 이것은 주석입니다."
      ],
      "execution_count": null,
      "outputs": []
    },
    {
      "cell_type": "code",
      "metadata": {
        "id": "Is4HhxTDKvaQ",
        "colab_type": "code",
        "colab": {}
      },
      "source": [
        "# 여러줄 주석을 multiline string을 활용하여 연습해봅시다."
      ],
      "execution_count": null,
      "outputs": []
    },
    {
      "cell_type": "code",
      "metadata": {
        "id": "bTCz5UP0Kvad",
        "colab_type": "code",
        "colab": {
          "base_uri": "https://localhost:8080/",
          "height": 35
        },
        "outputId": "b1032027-4391-494a-9623-a99652307a4b"
      },
      "source": [
        "'''\n",
        "이것은\n",
        "주석\n",
        "입니다\n",
        "\n",
        "'''"
      ],
      "execution_count": null,
      "outputs": [
        {
          "output_type": "execute_result",
          "data": {
            "application/vnd.google.colaboratory.intrinsic": {
              "type": "string"
            },
            "text/plain": [
              "'\\n이것은\\n주석\\n입니다\\n\\n'"
            ]
          },
          "metadata": {
            "tags": []
          },
          "execution_count": 1
        }
      ]
    },
    {
      "cell_type": "markdown",
      "metadata": {
        "id": "9dHf8cRLKvan",
        "colab_type": "text"
      },
      "source": [
        "### 코드 라인\n",
        "* 파이썬 코드는 '1줄에 1문장(statment)'이 원칙이다.\n",
        "\n",
        "* 문장(statement)은 파이썬이 실행 가능(executable)한 최소한의 코드 단위이다. \n",
        "\n",
        "* 기본적으로 파이썬에서는 `;`을 작성하지 않는다.\n",
        "\n",
        "* 한 줄로 표기할때는 `;`을 작성하여 표기할 수 있다. "
      ]
    },
    {
      "cell_type": "code",
      "metadata": {
        "id": "qjjveTLRKvar",
        "colab_type": "code",
        "colab": {}
      },
      "source": [
        "# print문을 두번 써봅시다."
      ],
      "execution_count": null,
      "outputs": []
    },
    {
      "cell_type": "code",
      "metadata": {
        "id": "dEZHCMm0Kva4",
        "colab_type": "code",
        "colab": {
          "base_uri": "https://localhost:8080/",
          "height": 134
        },
        "outputId": "3bc11773-5de7-432f-f682-67c45870a1a2"
      },
      "source": [
        "print('hello')print('ssafy')"
      ],
      "execution_count": null,
      "outputs": [
        {
          "output_type": "error",
          "ename": "SyntaxError",
          "evalue": "ignored",
          "traceback": [
            "\u001b[0;36m  File \u001b[0;32m\"<ipython-input-2-e5e72d6dcdef>\"\u001b[0;36m, line \u001b[0;32m1\u001b[0m\n\u001b[0;31m    print('hello')print('ssafy')\u001b[0m\n\u001b[0m                      ^\u001b[0m\n\u001b[0;31mSyntaxError\u001b[0m\u001b[0;31m:\u001b[0m invalid syntax\n"
          ]
        }
      ]
    },
    {
      "cell_type": "code",
      "metadata": {
        "id": "IjghCc9EKvbA",
        "colab_type": "code",
        "colab": {}
      },
      "source": [
        "# print문을 한줄로 이어서 써봅시다. 오류 메시지를 확인해주세요."
      ],
      "execution_count": null,
      "outputs": []
    },
    {
      "cell_type": "code",
      "metadata": {
        "id": "e3p8h-3zKvbQ",
        "colab_type": "code",
        "colab": {}
      },
      "source": [
        "print('hello')print('ssafy')"
      ],
      "execution_count": null,
      "outputs": []
    },
    {
      "cell_type": "code",
      "metadata": {
        "id": "D-OfEhQhKvba",
        "colab_type": "code",
        "colab": {}
      },
      "source": [
        "# ;을 통해 오류를 해결해봅시다."
      ],
      "execution_count": null,
      "outputs": []
    },
    {
      "cell_type": "code",
      "metadata": {
        "id": "7e-wygP1Kvbk",
        "colab_type": "code",
        "colab": {
          "base_uri": "https://localhost:8080/",
          "height": 52
        },
        "outputId": "336a4364-3f7e-4592-d158-f04adeced6bf"
      },
      "source": [
        "print('hello');print('ssafy') # 좋지 않은 관례"
      ],
      "execution_count": null,
      "outputs": [
        {
          "output_type": "stream",
          "text": [
            "hello\n",
            "ssafy\n"
          ],
          "name": "stdout"
        }
      ]
    },
    {
      "cell_type": "code",
      "metadata": {
        "id": "EWdBZMDVKvb5",
        "colab_type": "code",
        "colab": {}
      },
      "source": [
        "# 하지만 위와 같이 잘 쓰지는 않습니다."
      ],
      "execution_count": null,
      "outputs": []
    },
    {
      "cell_type": "markdown",
      "metadata": {
        "id": "67OkvslvKvcS",
        "colab_type": "text"
      },
      "source": [
        "* 줄을 여러줄 작성할 때는 역슬래시`\\`를 사용하여 아래와 같이 할 수 있다. "
      ]
    },
    {
      "cell_type": "code",
      "metadata": {
        "id": "oefuEXheKvcW",
        "colab_type": "code",
        "colab": {}
      },
      "source": [
        "# print문을 통해 안되는 코드 예시 작성해봅시다."
      ],
      "execution_count": null,
      "outputs": []
    },
    {
      "cell_type": "code",
      "metadata": {
        "id": "8pq9wnaTKvck",
        "colab_type": "code",
        "colab": {
          "base_uri": "https://localhost:8080/",
          "height": 134
        },
        "outputId": "0102f1c8-454a-4b4d-d74f-920c1fe91122"
      },
      "source": [
        "print('\n",
        "hello\n",
        "ssafy\n",
        "')"
      ],
      "execution_count": null,
      "outputs": [
        {
          "output_type": "error",
          "ename": "SyntaxError",
          "evalue": "ignored",
          "traceback": [
            "\u001b[0;36m  File \u001b[0;32m\"<ipython-input-4-2ec010f7446d>\"\u001b[0;36m, line \u001b[0;32m1\u001b[0m\n\u001b[0;31m    print('\u001b[0m\n\u001b[0m           ^\u001b[0m\n\u001b[0;31mSyntaxError\u001b[0m\u001b[0;31m:\u001b[0m EOL while scanning string literal\n"
          ]
        }
      ]
    },
    {
      "cell_type": "code",
      "metadata": {
        "id": "0YWKwOaYKvcz",
        "colab_type": "code",
        "colab": {}
      },
      "source": [
        "# print문을 통해 되는 코드 예시 작성해봅시다."
      ],
      "execution_count": null,
      "outputs": []
    },
    {
      "cell_type": "code",
      "metadata": {
        "id": "t-uvcsMdKvdC",
        "colab_type": "code",
        "colab": {}
      },
      "source": [
        "# 아래와 같은 동작이 가능 하지만 잘 쓰이지는 않습니다."
      ],
      "execution_count": null,
      "outputs": []
    },
    {
      "cell_type": "code",
      "metadata": {
        "id": "uQ6d69VLMpP2",
        "colab_type": "code",
        "colab": {
          "base_uri": "https://localhost:8080/",
          "height": 105
        },
        "outputId": "4aa85098-d20f-4303-f8b3-b30377a22ed0"
      },
      "source": [
        "print('''\n",
        "안녕\n",
        "나는\n",
        "python이야\n",
        "''')"
      ],
      "execution_count": null,
      "outputs": [
        {
          "output_type": "stream",
          "text": [
            "\n",
            "안녕\n",
            "나는\n",
            "python이야\n",
            "\n"
          ],
          "name": "stdout"
        }
      ]
    },
    {
      "cell_type": "code",
      "metadata": {
        "id": "wqWCgXm_KvdR",
        "colab_type": "code",
        "colab": {
          "base_uri": "https://localhost:8080/",
          "height": 34
        },
        "outputId": "d35ff60e-d067-4fbe-fef3-49ac98007fda"
      },
      "source": [
        "print('안녕\\\n",
        "나는\\\n",
        "python이야\\\n",
        "')"
      ],
      "execution_count": null,
      "outputs": [
        {
          "output_type": "stream",
          "text": [
            "안녕나는python이야\n"
          ],
          "name": "stdout"
        }
      ]
    },
    {
      "cell_type": "markdown",
      "metadata": {
        "id": "4NHFmfcGKvdh",
        "colab_type": "text"
      },
      "source": [
        "* `[]` `{}` `()`는 `\\` 없이도 가능하다."
      ]
    },
    {
      "cell_type": "code",
      "metadata": {
        "id": "ECLq5f06Kvdk",
        "colab_type": "code",
        "colab": {}
      },
      "source": [
        "# list를 여러 줄에 걸쳐서 만들어봅시다."
      ],
      "execution_count": null,
      "outputs": []
    },
    {
      "cell_type": "code",
      "metadata": {
        "id": "mUar3GP8Kvdv",
        "colab_type": "code",
        "colab": {
          "base_uri": "https://localhost:8080/",
          "height": 34
        },
        "outputId": "c27e9618-2c81-4064-a63f-13aed1e6f7d8"
      },
      "source": [
        "menu = ['김밥', \n",
        "        '라면',\n",
        "        '떡볶이'\n",
        "]\n",
        "print(menu)"
      ],
      "execution_count": null,
      "outputs": [
        {
          "output_type": "stream",
          "text": [
            "['김밥', '라면', '떡볶이']\n"
          ],
          "name": "stdout"
        }
      ]
    },
    {
      "cell_type": "markdown",
      "metadata": {
        "id": "OGNXQoXOKvd2",
        "colab_type": "text"
      },
      "source": [
        "# 변수(Variable)"
      ]
    },
    {
      "cell_type": "markdown",
      "metadata": {
        "id": "KufINYaFKvd6",
        "colab_type": "text"
      },
      "source": [
        "## 변수 \n",
        "\n",
        "<center><img src=\"https://user-images.githubusercontent.com/18046097/61179855-0c8d0200-a646-11e9-9e9e-2c6df0504296.png\", alt=\"variable\"/></center>"
      ]
    },
    {
      "cell_type": "markdown",
      "metadata": {
        "id": "9fkRGyjHKvd7",
        "colab_type": "text"
      },
      "source": [
        "\n",
        "<center><img src=\"https://user-images.githubusercontent.com/18046097/61179857-13b41000-a646-11e9-9a88-8487df4eaf52.png\", alt=\"box\"/></center>"
      ]
    },
    {
      "cell_type": "markdown",
      "metadata": {
        "id": "pvAOB6TqKvd9",
        "colab_type": "text"
      },
      "source": [
        "### 할당 연산자(Assignment Operator): `=`\n",
        "\n",
        "* 변수는 `=`을 통해 할당(assignment) 된다. \n",
        "\n",
        "* 해당 데이터 타입을 확인하기 위해서는 `type()`을 활용한다.\n",
        "\n",
        "* 해당 값의 메모리 주소를 확인하기 위해서는 `id()`를 활용한다."
      ]
    },
    {
      "cell_type": "code",
      "metadata": {
        "id": "_xiOcTAuKvd-",
        "colab_type": "code",
        "colab": {}
      },
      "source": [
        "# 변수에 값을 할당해봅시다."
      ],
      "execution_count": null,
      "outputs": []
    },
    {
      "cell_type": "code",
      "metadata": {
        "id": "MeJe-TVZKveF",
        "colab_type": "code",
        "colab": {}
      },
      "source": [
        "x = 'ssafy'"
      ],
      "execution_count": null,
      "outputs": []
    },
    {
      "cell_type": "code",
      "metadata": {
        "id": "CgrWQgRoKveO",
        "colab_type": "code",
        "colab": {}
      },
      "source": [
        "# type()을 사용해봅시다."
      ],
      "execution_count": null,
      "outputs": []
    },
    {
      "cell_type": "code",
      "metadata": {
        "id": "r5KoTLsOKveS",
        "colab_type": "code",
        "colab": {
          "base_uri": "https://localhost:8080/",
          "height": 34
        },
        "outputId": "9452f077-c004-4957-f0d5-ebd5cdad5224"
      },
      "source": [
        "type(x)"
      ],
      "execution_count": null,
      "outputs": [
        {
          "output_type": "execute_result",
          "data": {
            "text/plain": [
              "str"
            ]
          },
          "metadata": {
            "tags": []
          },
          "execution_count": 9
        }
      ]
    },
    {
      "cell_type": "code",
      "metadata": {
        "id": "IuE-lLPFKveZ",
        "colab_type": "code",
        "colab": {}
      },
      "source": [
        "# id()를 사용해봅시다."
      ],
      "execution_count": null,
      "outputs": []
    },
    {
      "cell_type": "code",
      "metadata": {
        "id": "e3DcY5arKveg",
        "colab_type": "code",
        "colab": {
          "base_uri": "https://localhost:8080/",
          "height": 34
        },
        "outputId": "3a069295-e336-44cf-ebe4-ff038fc4e3ec"
      },
      "source": [
        "id(x)"
      ],
      "execution_count": null,
      "outputs": [
        {
          "output_type": "execute_result",
          "data": {
            "text/plain": [
              "140578896182720"
            ]
          },
          "metadata": {
            "tags": []
          },
          "execution_count": 10
        }
      ]
    },
    {
      "cell_type": "markdown",
      "metadata": {
        "id": "SedpzRmoKveq",
        "colab_type": "text"
      },
      "source": [
        "* 같은 값을 동시에 할당할 수 있다."
      ]
    },
    {
      "cell_type": "code",
      "metadata": {
        "id": "fjY-VmlkKver",
        "colab_type": "code",
        "colab": {}
      },
      "source": [
        "# 같은 값을 동시에 할당해봅시다."
      ],
      "execution_count": null,
      "outputs": []
    },
    {
      "cell_type": "code",
      "metadata": {
        "id": "H0RKW7lEKvew",
        "colab_type": "code",
        "colab": {
          "base_uri": "https://localhost:8080/",
          "height": 52
        },
        "outputId": "af774dd7-e931-488c-8df5-0bb03c9a5f0d"
      },
      "source": [
        "x = y = 'ssafy'\n",
        "print(x)\n",
        "print(y)"
      ],
      "execution_count": null,
      "outputs": [
        {
          "output_type": "stream",
          "text": [
            "ssafy\n",
            "ssafy\n"
          ],
          "name": "stdout"
        }
      ]
    },
    {
      "cell_type": "markdown",
      "metadata": {
        "id": "y4v2WP3aKve3",
        "colab_type": "text"
      },
      "source": [
        "* 다른 값을 동시에 할당 가능하다."
      ]
    },
    {
      "cell_type": "code",
      "metadata": {
        "id": "Kou21SO4Kve5",
        "colab_type": "code",
        "colab": {}
      },
      "source": [
        "# 동시에 두개의 변수에 값 두개를 할당해봅시다."
      ],
      "execution_count": null,
      "outputs": []
    },
    {
      "cell_type": "code",
      "metadata": {
        "id": "ajvcCNW5KvfA",
        "colab_type": "code",
        "colab": {
          "base_uri": "https://localhost:8080/",
          "height": 52
        },
        "outputId": "55bafc71-cf99-4625-a8eb-9ed18b46b5fa"
      },
      "source": [
        "a, b = 2020, 4\n",
        "print(a)\n",
        "print(b)"
      ],
      "execution_count": null,
      "outputs": [
        {
          "output_type": "stream",
          "text": [
            "2020\n",
            "4\n"
          ],
          "name": "stdout"
        }
      ]
    },
    {
      "cell_type": "code",
      "metadata": {
        "id": "G4GxPMA-KvfE",
        "colab_type": "code",
        "colab": {}
      },
      "source": [
        "# 변수의 개수가 더 많을 때 오류를 알아봅시다."
      ],
      "execution_count": null,
      "outputs": []
    },
    {
      "cell_type": "code",
      "metadata": {
        "id": "rXK9Dl6QKvfM",
        "colab_type": "code",
        "colab": {
          "base_uri": "https://localhost:8080/",
          "height": 169
        },
        "outputId": "9a73bea1-8d64-4362-bdf4-ed267cb56654"
      },
      "source": [
        "a, b, c = 10, 20"
      ],
      "execution_count": null,
      "outputs": [
        {
          "output_type": "error",
          "ename": "ValueError",
          "evalue": "ignored",
          "traceback": [
            "\u001b[0;31m---------------------------------------------------------------------------\u001b[0m",
            "\u001b[0;31mValueError\u001b[0m                                Traceback (most recent call last)",
            "\u001b[0;32m<ipython-input-15-9892a2d31303>\u001b[0m in \u001b[0;36m<module>\u001b[0;34m()\u001b[0m\n\u001b[0;32m----> 1\u001b[0;31m \u001b[0ma\u001b[0m\u001b[0;34m,\u001b[0m \u001b[0mb\u001b[0m\u001b[0;34m,\u001b[0m \u001b[0mc\u001b[0m \u001b[0;34m=\u001b[0m \u001b[0;36m10\u001b[0m\u001b[0;34m,\u001b[0m \u001b[0;36m20\u001b[0m\u001b[0;34m\u001b[0m\u001b[0;34m\u001b[0m\u001b[0m\n\u001b[0m",
            "\u001b[0;31mValueError\u001b[0m: not enough values to unpack (expected 3, got 2)"
          ]
        }
      ]
    },
    {
      "cell_type": "code",
      "metadata": {
        "id": "Uky57QdKKvfW",
        "colab_type": "code",
        "colab": {}
      },
      "source": [
        "# 변수의 개수가 더 적을 때 오류를 알아봅시다."
      ],
      "execution_count": null,
      "outputs": []
    },
    {
      "cell_type": "code",
      "metadata": {
        "id": "SHieCX6OKvfd",
        "colab_type": "code",
        "colab": {
          "base_uri": "https://localhost:8080/",
          "height": 169
        },
        "outputId": "551df99e-9cdf-4bd2-e3c0-68e181c4755c"
      },
      "source": [
        "a, b = 10, 20, 30"
      ],
      "execution_count": null,
      "outputs": [
        {
          "output_type": "error",
          "ename": "ValueError",
          "evalue": "ignored",
          "traceback": [
            "\u001b[0;31m---------------------------------------------------------------------------\u001b[0m",
            "\u001b[0;31mValueError\u001b[0m                                Traceback (most recent call last)",
            "\u001b[0;32m<ipython-input-16-b30cef953ab6>\u001b[0m in \u001b[0;36m<module>\u001b[0;34m()\u001b[0m\n\u001b[0;32m----> 1\u001b[0;31m \u001b[0ma\u001b[0m\u001b[0;34m,\u001b[0m \u001b[0mb\u001b[0m \u001b[0;34m=\u001b[0m \u001b[0;36m10\u001b[0m\u001b[0;34m,\u001b[0m \u001b[0;36m20\u001b[0m\u001b[0;34m,\u001b[0m \u001b[0;36m30\u001b[0m\u001b[0;34m\u001b[0m\u001b[0;34m\u001b[0m\u001b[0m\n\u001b[0m",
            "\u001b[0;31mValueError\u001b[0m: too many values to unpack (expected 2)"
          ]
        }
      ]
    },
    {
      "cell_type": "markdown",
      "metadata": {
        "id": "Pu2GCnLGKvfj",
        "colab_type": "text"
      },
      "source": [
        "* 이를 활용하면 서로 값을 바꾸고 싶은 경우 아래와 같이 활용 가능하다."
      ]
    },
    {
      "cell_type": "code",
      "metadata": {
        "id": "_6cZ3zdwKvfl",
        "colab_type": "code",
        "colab": {}
      },
      "source": [
        "# 변수 x와 y의 값을 바꿔봅시다."
      ],
      "execution_count": null,
      "outputs": []
    },
    {
      "cell_type": "code",
      "metadata": {
        "id": "Mn0lkJVqKvfs",
        "colab_type": "code",
        "colab": {
          "base_uri": "https://localhost:8080/",
          "height": 52
        },
        "outputId": "28ce4ac0-54ff-42a6-ee49-11e98e6b87fa"
      },
      "source": [
        "a, b = 10, 20\n",
        "print(a)\n",
        "print(b)"
      ],
      "execution_count": null,
      "outputs": [
        {
          "output_type": "stream",
          "text": [
            "10\n",
            "20\n"
          ],
          "name": "stdout"
        }
      ]
    },
    {
      "cell_type": "code",
      "metadata": {
        "id": "ndDu_5glN4ne",
        "colab_type": "code",
        "colab": {
          "base_uri": "https://localhost:8080/",
          "height": 52
        },
        "outputId": "e9b991d8-a56c-41d7-b3a0-0a36c25fe9bc"
      },
      "source": [
        "a, b = b, a\n",
        "print(a)\n",
        "print(b)"
      ],
      "execution_count": null,
      "outputs": [
        {
          "output_type": "stream",
          "text": [
            "20\n",
            "10\n"
          ],
          "name": "stdout"
        }
      ]
    },
    {
      "cell_type": "markdown",
      "metadata": {
        "id": "IkNbqvwEKvf0",
        "colab_type": "text"
      },
      "source": [
        "### 식별자(Identifiers)\n",
        "\n",
        "파이썬에서 식별자는 변수, 함수, 모듈, 클래스 등을 식별하는데 사용되는 이름(name)입니다. \n",
        "\n",
        "* 식별자의 이름은 영문알파벳(대문자와 소문자), 밑줄(_), 숫자로 구성된다.\n",
        "* 첫 글자에 숫자가 올 수 없다.\n",
        "* 길이에 제한이 없다.\n",
        "* 대소문자(case)를 구별한다.\n",
        "* 아래의 예약어는 사용할 수 없다. \n",
        "\n",
        "```\n",
        "False, None, True, and, as, assert, break, class, continue, def, del, elif, else, except, finally, for, from, global, if, import, in, is, lambda, nonlocal, not, or, pass, raise, return, try, while, with, yield\n",
        "```"
      ]
    },
    {
      "cell_type": "code",
      "metadata": {
        "id": "RmA-oz8ZKvf3",
        "colab_type": "code",
        "colab": {}
      },
      "source": [
        "# 예약어들을 직접 확인해봅시다."
      ],
      "execution_count": null,
      "outputs": []
    },
    {
      "cell_type": "code",
      "metadata": {
        "id": "9qhslXglOE6V",
        "colab_type": "code",
        "colab": {
          "base_uri": "https://localhost:8080/",
          "height": 54
        },
        "outputId": "e861581a-85d8-410a-e48d-a55aee289b6e"
      },
      "source": [
        "import keyword\n",
        "print(keyword.kwlist)"
      ],
      "execution_count": null,
      "outputs": [
        {
          "output_type": "stream",
          "text": [
            "['False', 'None', 'True', 'and', 'as', 'assert', 'break', 'class', 'continue', 'def', 'del', 'elif', 'else', 'except', 'finally', 'for', 'from', 'global', 'if', 'import', 'in', 'is', 'lambda', 'nonlocal', 'not', 'or', 'pass', 'raise', 'return', 'try', 'while', 'with', 'yield']\n"
          ],
          "name": "stdout"
        }
      ]
    },
    {
      "cell_type": "code",
      "metadata": {
        "id": "hyZnLDTqKvgI",
        "colab_type": "code",
        "colab": {}
      },
      "source": [
        "# import 구문은 모듈파트에서 다시 알아봅시다.\n",
        "import = 'ssafy'"
      ],
      "execution_count": null,
      "outputs": []
    },
    {
      "cell_type": "markdown",
      "metadata": {
        "id": "EyhsPkw9KvgT",
        "colab_type": "text"
      },
      "source": [
        "*  내장함수나 모듈 등의 이름으로도 만들면 안된다."
      ]
    },
    {
      "cell_type": "code",
      "metadata": {
        "id": "PqdH0G5NKvgV",
        "colab_type": "code",
        "colab": {}
      },
      "source": [
        "# 내장함수의 이름을 사용하면 어떤일이 일어나는지 확인해봅시다."
      ],
      "execution_count": null,
      "outputs": []
    },
    {
      "cell_type": "code",
      "metadata": {
        "id": "cNSTJ04xKvgm",
        "colab_type": "code",
        "colab": {}
      },
      "source": [
        "# print는 값을 출력해주는 내장함수(Built-in function)입니다.\n",
        "print = 'hi'"
      ],
      "execution_count": null,
      "outputs": []
    },
    {
      "cell_type": "code",
      "metadata": {
        "id": "FMEesytuKvg6",
        "colab_type": "code",
        "colab": {
          "base_uri": "https://localhost:8080/",
          "height": 204
        },
        "outputId": "2d0f28be-b3af-421e-e903-c664e03d3143"
      },
      "source": [
        "# 예시로 print에 값을 할당해보고, 오류를 확인해봅시다.\n",
        "# print은 이제 'hi'라는 값으로 인식되기 때문에 이전의 기능을 수행하지 못합니다.\n",
        "print(print)"
      ],
      "execution_count": null,
      "outputs": [
        {
          "output_type": "error",
          "ename": "TypeError",
          "evalue": "ignored",
          "traceback": [
            "\u001b[0;31m---------------------------------------------------------------------------\u001b[0m",
            "\u001b[0;31mTypeError\u001b[0m                                 Traceback (most recent call last)",
            "\u001b[0;32m<ipython-input-24-a6dfcfcd0e8d>\u001b[0m in \u001b[0;36m<module>\u001b[0;34m()\u001b[0m\n\u001b[1;32m      1\u001b[0m \u001b[0;31m# 예시로 print에 값을 할당해보고, 오류를 확인해봅시다.\u001b[0m\u001b[0;34m\u001b[0m\u001b[0;34m\u001b[0m\u001b[0;34m\u001b[0m\u001b[0m\n\u001b[1;32m      2\u001b[0m \u001b[0;31m# print은 이제 'hi'라는 값으로 인식되기 때문에 이전의 기능을 수행하지 못합니다.\u001b[0m\u001b[0;34m\u001b[0m\u001b[0;34m\u001b[0m\u001b[0;34m\u001b[0m\u001b[0m\n\u001b[0;32m----> 3\u001b[0;31m \u001b[0mprint\u001b[0m\u001b[0;34m(\u001b[0m\u001b[0mprint\u001b[0m\u001b[0;34m)\u001b[0m\u001b[0;34m\u001b[0m\u001b[0;34m\u001b[0m\u001b[0m\n\u001b[0m",
            "\u001b[0;31mTypeError\u001b[0m: 'str' object is not callable"
          ]
        }
      ]
    },
    {
      "cell_type": "code",
      "metadata": {
        "id": "zP38XiUFKvhS",
        "colab_type": "code",
        "colab": {}
      },
      "source": [
        "# 뒤에서 진행될 코드에 영향이 갈 수 있기 때문에 방금 생성한 print를 삭제합니다.\n",
        "del print"
      ],
      "execution_count": null,
      "outputs": []
    },
    {
      "cell_type": "code",
      "metadata": {
        "id": "vuGYiVfdOyXN",
        "colab_type": "code",
        "colab": {
          "base_uri": "https://localhost:8080/",
          "height": 34
        },
        "outputId": "c7b72f84-403b-495c-ac3b-b28c87812f99"
      },
      "source": [
        "print('hello')"
      ],
      "execution_count": null,
      "outputs": [
        {
          "output_type": "stream",
          "text": [
            "hello\n"
          ],
          "name": "stdout"
        }
      ]
    },
    {
      "cell_type": "markdown",
      "metadata": {
        "id": "MQBot8DnKvhi",
        "colab_type": "text"
      },
      "source": [
        "# 데이터 타입(Data Type)\n",
        "\n",
        "- **숫자**(Number) 타입\n",
        "- **글자**(String) 타입\n",
        "- **참/거짓**(Boolean) 타입\n"
      ]
    },
    {
      "cell_type": "markdown",
      "metadata": {
        "id": "8KXhnMcZKvhr",
        "colab_type": "text"
      },
      "source": [
        "## 숫자(Number) 타입\n",
        "[python doc 숫자 형](https://docs.python.org/ko/3.7/library/stdtypes.html#numeric-types-int-float-complex)\n",
        "\n"
      ]
    },
    {
      "cell_type": "markdown",
      "metadata": {
        "id": "fHAlCjGgKvht",
        "colab_type": "text"
      },
      "source": [
        "###  (1) `int` (정수, ingteger)\n",
        "\n",
        "모든 정수는 `int`로 표현됩니다.\n",
        "\n",
        "파이썬 3.x 버전에서는 `long` 타입은 없고 모두 `int` 타입으로 표기 됩니다.\n",
        "\n",
        "* python 3.x에서 long은 없어졌다.\n",
        "* 보통 프로그래밍 언어 및 파이썬 2.x에서의 long은 OS 기준 32/64비트이다.\n",
        "* 파이썬 3.x에서는 모두 int로 통합되었다.\n",
        "\n",
        "8진수 : `0o` / 2진수 : `0b` / 16진수: `0x` 로도 표현 가능합니다. "
      ]
    },
    {
      "cell_type": "code",
      "metadata": {
        "id": "ePvk5NFLKvhw",
        "colab_type": "code",
        "colab": {}
      },
      "source": [
        "# 변수에 정수를 넣고 해당 변수의 type을 알아봅시다."
      ],
      "execution_count": null,
      "outputs": []
    },
    {
      "cell_type": "code",
      "metadata": {
        "id": "aCUGdXVIKvh4",
        "colab_type": "code",
        "colab": {
          "base_uri": "https://localhost:8080/",
          "height": 34
        },
        "outputId": "38d35c1e-7d92-428e-bd00-177eca748638"
      },
      "source": [
        "x = 1\n",
        "type(x)"
      ],
      "execution_count": null,
      "outputs": [
        {
          "output_type": "execute_result",
          "data": {
            "text/plain": [
              "int"
            ]
          },
          "metadata": {
            "tags": []
          },
          "execution_count": 27
        }
      ]
    },
    {
      "cell_type": "markdown",
      "metadata": {
        "id": "N0VDi8R-KviH",
        "colab_type": "text"
      },
      "source": [
        "**파이썬에서 표현할 수 있는 가장 큰 수**\n",
        "* 파이썬에서 가장 큰 숫자를 활용하기 위해 sys 모듈을 불러온다.\n",
        "* 파이썬은 기존 C 계열 프로그래밍 언어와 다르게 정수 자료형(integer)에서 오버플로우가 없다.\n",
        "* arbitrary-precision arithmetic를 사용하기 때문이다. \n",
        "\n",
        "> **오버플로우(overflow)**\n",
        "- 데이터 타입 별로 사용할 수 있는 메모리의 크기가 제한되어 있다.\n",
        "- 표현할 수 있는 수의 범위를 넘어가는 연산을 하게 되면, 기대했던 값이 출력되지 않는 현상, 즉 메모리가 차고 넘쳐 흐르는 현상\n",
        "\n",
        "> **arbitrary-precision arithmetic**\n",
        "- [파이썬에서 아주 큰 정수를 표현할 때 사용하는 메모리의 크기 변화](https://mortada.net/can-integer-operations-overflow-in-python.html)\n",
        "- 사용할 수 있는 메모리양이 정해져 있는 기존의 방식과 달리, 현재 남아있는 만큼의 가용 메모리를 모두 수 표현에 끌어다 쓸 수 있는 형태\n",
        "- 특정 값을 나타내는데 4바이트가 부족하다면 5바이트, 더 부족하면 6바이트까지 사용할 수 있게 유동적으로 운용\n"
      ]
    },
    {
      "cell_type": "code",
      "metadata": {
        "id": "OdJTdOr9KviM",
        "colab_type": "code",
        "colab": {}
      },
      "source": [
        "# n진수를 만들어보고, 출력해봅시다."
      ],
      "execution_count": null,
      "outputs": []
    },
    {
      "cell_type": "code",
      "metadata": {
        "id": "maCxU90SPPJk",
        "colab_type": "code",
        "colab": {
          "base_uri": "https://localhost:8080/",
          "height": 70
        },
        "outputId": "ec15da61-35d4-4eba-ac06-5c0573c3be8d"
      },
      "source": [
        "binary_number = 0b10\n",
        "print(binary_number)\n",
        "\n",
        "octal_number = 0o10\n",
        "print(octal_number)\n",
        "\n",
        "hexademical = 0x10\n",
        "print(hexademical)"
      ],
      "execution_count": null,
      "outputs": [
        {
          "output_type": "stream",
          "text": [
            "2\n",
            "8\n",
            "16\n"
          ],
          "name": "stdout"
        }
      ]
    },
    {
      "cell_type": "code",
      "metadata": {
        "id": "wFyiMWIiKviU",
        "colab_type": "code",
        "colab": {
          "base_uri": "https://localhost:8080/",
          "height": 34
        },
        "outputId": "4fdc2833-1365-4727-ccc3-e8f815856a1d"
      },
      "source": [
        "import sys\n",
        "print(sys.maxsize * sys.maxsize)"
      ],
      "execution_count": null,
      "outputs": [
        {
          "output_type": "stream",
          "text": [
            "85070591730234615847396907784232501249\n"
          ],
          "name": "stdout"
        }
      ]
    },
    {
      "cell_type": "markdown",
      "metadata": {
        "id": "TpI8QiXoKvih",
        "colab_type": "text"
      },
      "source": [
        "### (2) `float` (부동소수점, 실수, floating point number)\n",
        "\n",
        "실수는 `float`로 표현됩니다. \n",
        "\n",
        "다만, 실수를 컴퓨터가 표현하는 과정에서 부동소수점을 사용하며, 항상 같은 값으로 일치되지 않습니다. (floating point rounding error)\n",
        "\n",
        "이는 컴퓨터가 2진수(비트)를 통해 숫자를 표현하는 과정에서 생기는 오류이며, 대부분의 경우는 중요하지 않으나 값을 같은지 비교하는 과정에서 문제가 발생할 수 있습니다."
      ]
    },
    {
      "cell_type": "code",
      "metadata": {
        "id": "Mjyzs65OKvii",
        "colab_type": "code",
        "colab": {}
      },
      "source": [
        "# 변수에 실수를 넣고 해당 변수의 type을 알아봅시다."
      ],
      "execution_count": null,
      "outputs": []
    },
    {
      "cell_type": "code",
      "metadata": {
        "id": "HCCCzofGKvio",
        "colab_type": "code",
        "colab": {
          "base_uri": "https://localhost:8080/",
          "height": 34
        },
        "outputId": "890a7200-205f-4ebb-f997-d168d88c22ba"
      },
      "source": [
        "b = 3.14\n",
        "type(b)"
      ],
      "execution_count": null,
      "outputs": [
        {
          "output_type": "execute_result",
          "data": {
            "text/plain": [
              "float"
            ]
          },
          "metadata": {
            "tags": []
          },
          "execution_count": 37
        }
      ]
    },
    {
      "cell_type": "markdown",
      "metadata": {
        "id": "WT5YSe1VKviw",
        "colab_type": "text"
      },
      "source": [
        "#### 컴퓨터식 지수 표현 방식\n",
        "* e를 사용할 수도 있다. (e와 E 둘 중 어느 것을 사용해도 무방)"
      ]
    },
    {
      "cell_type": "code",
      "metadata": {
        "id": "8LMemQ3aKvix",
        "colab_type": "code",
        "colab": {}
      },
      "source": [
        "# 컴퓨터식 지수 표현 방식을 사용해봅시다."
      ],
      "execution_count": null,
      "outputs": []
    },
    {
      "cell_type": "code",
      "metadata": {
        "id": "OLJ6Fh0oKvi5",
        "colab_type": "code",
        "colab": {
          "base_uri": "https://localhost:8080/",
          "height": 34
        },
        "outputId": "73b878d7-1866-46e8-9a6c-12880bf7430f"
      },
      "source": [
        "b = 314e-2\n",
        "print(b)"
      ],
      "execution_count": null,
      "outputs": [
        {
          "output_type": "stream",
          "text": [
            "3.14\n"
          ],
          "name": "stdout"
        }
      ]
    },
    {
      "cell_type": "markdown",
      "metadata": {
        "id": "8WBwI_dmKvjC",
        "colab_type": "text"
      },
      "source": [
        "#### 실수의 연산\n",
        "* 실수의 경우 실제로 값을 처리하기 위해서는 조심할 필요가 있다."
      ]
    },
    {
      "cell_type": "code",
      "metadata": {
        "id": "-1gZeBQrKvjH",
        "colab_type": "code",
        "colab": {}
      },
      "source": [
        "# 실수의 덧셈을 해봅시다."
      ],
      "execution_count": null,
      "outputs": []
    },
    {
      "cell_type": "code",
      "metadata": {
        "id": "GRvmOIhrKvjO",
        "colab_type": "code",
        "colab": {
          "base_uri": "https://localhost:8080/",
          "height": 34
        },
        "outputId": "36d1a567-9203-4143-a939-92db5e7e6a81"
      },
      "source": [
        "3.5 + 3.2"
      ],
      "execution_count": null,
      "outputs": [
        {
          "output_type": "execute_result",
          "data": {
            "text/plain": [
              "6.7"
            ]
          },
          "metadata": {
            "tags": []
          },
          "execution_count": 39
        }
      ]
    },
    {
      "cell_type": "code",
      "metadata": {
        "id": "Rm2LHoZVKvjZ",
        "colab_type": "code",
        "colab": {}
      },
      "source": [
        "# 실수의 뺄셈을 해봅시다."
      ],
      "execution_count": null,
      "outputs": []
    },
    {
      "cell_type": "code",
      "metadata": {
        "id": "0pqyNH89Kvje",
        "colab_type": "code",
        "colab": {
          "base_uri": "https://localhost:8080/",
          "height": 34
        },
        "outputId": "c9a51323-a5c2-4353-b5c4-c84cbe883fae"
      },
      "source": [
        "3.5 - 3.2"
      ],
      "execution_count": null,
      "outputs": [
        {
          "output_type": "execute_result",
          "data": {
            "text/plain": [
              "0.2999999999999998"
            ]
          },
          "metadata": {
            "tags": []
          },
          "execution_count": 40
        }
      ]
    },
    {
      "cell_type": "code",
      "metadata": {
        "id": "0N7rUM8ZKvjk",
        "colab_type": "code",
        "colab": {}
      },
      "source": [
        "# 우리가 원하는대로 반올림을 해봅시다.\n",
        "# round() 는 0~4는 내림, 5는 동일하게 작동하지 않고 반올림 방식에 따라 다릅니다.\n",
        "# 짝수에서 5는 내림 / 홀수에서 5는 올림"
      ],
      "execution_count": null,
      "outputs": []
    },
    {
      "cell_type": "code",
      "metadata": {
        "id": "StkVRfdvKvju",
        "colab_type": "code",
        "colab": {
          "base_uri": "https://localhost:8080/",
          "height": 34
        },
        "outputId": "8ac08bef-b6cd-4708-a905-b4bc668716e6"
      },
      "source": [
        "round(3.5 - 3.2, 2) == 0.3"
      ],
      "execution_count": null,
      "outputs": [
        {
          "output_type": "execute_result",
          "data": {
            "text/plain": [
              "True"
            ]
          },
          "metadata": {
            "tags": []
          },
          "execution_count": 43
        }
      ]
    },
    {
      "cell_type": "code",
      "metadata": {
        "id": "IPIEMifeKvjy",
        "colab_type": "code",
        "colab": {}
      },
      "source": [
        "# 두 개의 값이 같은지 확인해봅시다."
      ],
      "execution_count": null,
      "outputs": []
    },
    {
      "cell_type": "code",
      "metadata": {
        "id": "_XM5WsG1Kvj4",
        "colab_type": "code",
        "colab": {
          "base_uri": "https://localhost:8080/",
          "height": 52
        },
        "outputId": "e4178d16-a324-411d-81a7-df3435849e8d"
      },
      "source": [
        "print(3.5 - 3.2)\n",
        "print(0.3)"
      ],
      "execution_count": null,
      "outputs": [
        {
          "output_type": "stream",
          "text": [
            "0.2999999999999998\n",
            "0.3\n"
          ],
          "name": "stdout"
        }
      ]
    },
    {
      "cell_type": "markdown",
      "metadata": {
        "id": "uWLXY-SbKvkM",
        "colab_type": "text"
      },
      "source": [
        "* 따라서 다음과 같은 방법으로 처리 할 수 있다. (이외에 다양한 방법이 있음)"
      ]
    },
    {
      "cell_type": "code",
      "metadata": {
        "id": "IXkPCtKwKvkN",
        "colab_type": "code",
        "colab": {}
      },
      "source": [
        "# 1. 기본적인 처리방법을 알아봅시다."
      ],
      "execution_count": null,
      "outputs": []
    },
    {
      "cell_type": "code",
      "metadata": {
        "id": "zYgkrUEqKvkU",
        "colab_type": "code",
        "colab": {
          "base_uri": "https://localhost:8080/",
          "height": 34
        },
        "outputId": "e8cafb05-32b8-471d-9a86-c635d941d70d"
      },
      "source": [
        "a = 3.5 - 3.2\n",
        "b = 0.3\n",
        "\n",
        "a == b"
      ],
      "execution_count": null,
      "outputs": [
        {
          "output_type": "execute_result",
          "data": {
            "text/plain": [
              "False"
            ]
          },
          "metadata": {
            "tags": []
          },
          "execution_count": 47
        }
      ]
    },
    {
      "cell_type": "code",
      "metadata": {
        "id": "2ZFXo70OKvkd",
        "colab_type": "code",
        "colab": {}
      },
      "source": [
        "# 2. sys 모듈을 통해 처리하는 방법을 알아봅시다.\n",
        "# `epsilon` 은 부동소수점 연산에서 반올림을 함으로써 발생하는 오차 상환"
      ],
      "execution_count": null,
      "outputs": []
    },
    {
      "cell_type": "code",
      "metadata": {
        "id": "V8SKEuXmKvki",
        "colab_type": "code",
        "colab": {
          "base_uri": "https://localhost:8080/",
          "height": 52
        },
        "outputId": "54ebda8d-96a0-4f54-e1df-1ce353f79081"
      },
      "source": [
        "import sys\n",
        "print(sys.float_info.epsilon)\n",
        "\n",
        "abs(a - b) <= sys.float_info.epsilon"
      ],
      "execution_count": null,
      "outputs": [
        {
          "output_type": "stream",
          "text": [
            "2.220446049250313e-16\n"
          ],
          "name": "stdout"
        },
        {
          "output_type": "execute_result",
          "data": {
            "text/plain": [
              "True"
            ]
          },
          "metadata": {
            "tags": []
          },
          "execution_count": 48
        }
      ]
    },
    {
      "cell_type": "code",
      "metadata": {
        "id": "Kaz9EtJKKvko",
        "colab_type": "code",
        "colab": {}
      },
      "source": [
        "# 3. python 3.5부터 활용 가능한 math 모듈을 통해 처리하는 법을 알아봅시다."
      ],
      "execution_count": null,
      "outputs": []
    },
    {
      "cell_type": "code",
      "metadata": {
        "id": "YIFrXwnOKvkx",
        "colab_type": "code",
        "colab": {
          "base_uri": "https://localhost:8080/",
          "height": 34
        },
        "outputId": "05dfc893-464c-4097-c580-78412f666ac1"
      },
      "source": [
        "import math\n",
        "math.isclose(a, b)  #실전에서 가장 많이 쓸 것임."
      ],
      "execution_count": null,
      "outputs": [
        {
          "output_type": "execute_result",
          "data": {
            "text/plain": [
              "True"
            ]
          },
          "metadata": {
            "tags": []
          },
          "execution_count": 49
        }
      ]
    },
    {
      "cell_type": "markdown",
      "metadata": {
        "id": "F5dCmxtGKvk2",
        "colab_type": "text"
      },
      "source": [
        "### (3) `complex` (복소수, complex number)\n",
        "\n",
        "각각 실수로 표현되는 실수부와 허수부를 가집니다.\n",
        "\n",
        "복소수는 허수부를 `j`로 표현합니다."
      ]
    },
    {
      "cell_type": "code",
      "metadata": {
        "id": "LLYTPS97Kvk3",
        "colab_type": "code",
        "colab": {}
      },
      "source": [
        "# 변수에 복소수를 넣고 해당 변수의 type을 알아봅시다."
      ],
      "execution_count": null,
      "outputs": []
    },
    {
      "cell_type": "code",
      "metadata": {
        "id": "F54AKgO5Kvk8",
        "colab_type": "code",
        "colab": {
          "base_uri": "https://localhost:8080/",
          "height": 34
        },
        "outputId": "fc033bcf-eee3-44a7-894b-4a8e9f2d42a0"
      },
      "source": [
        "a = 3 + 4j\n",
        "type(a)"
      ],
      "execution_count": null,
      "outputs": [
        {
          "output_type": "execute_result",
          "data": {
            "text/plain": [
              "complex"
            ]
          },
          "metadata": {
            "tags": []
          },
          "execution_count": 50
        }
      ]
    },
    {
      "cell_type": "code",
      "metadata": {
        "id": "qr8DG9sdKvlB",
        "colab_type": "code",
        "colab": {}
      },
      "source": [
        "# 문자열을 복소수로 변환해봅시다."
      ],
      "execution_count": null,
      "outputs": []
    },
    {
      "cell_type": "code",
      "metadata": {
        "id": "x1gw6MlpKvlH",
        "colab_type": "code",
        "colab": {
          "base_uri": "https://localhost:8080/",
          "height": 34
        },
        "outputId": "efd11ffa-745c-4d98-9293-9b682acc8494"
      },
      "source": [
        "b = complex('3+4j')\n",
        "type(b)"
      ],
      "execution_count": null,
      "outputs": [
        {
          "output_type": "execute_result",
          "data": {
            "text/plain": [
              "complex"
            ]
          },
          "metadata": {
            "tags": []
          },
          "execution_count": 55
        }
      ]
    },
    {
      "cell_type": "code",
      "metadata": {
        "id": "vtfejyK1Kvld",
        "colab_type": "code",
        "colab": {}
      },
      "source": [
        "# 문자열을 변환할 때, 문자열은 중앙의 + 또는 - 연산자 주위에 공백을 포함해서는 안 됩니다."
      ],
      "execution_count": null,
      "outputs": []
    },
    {
      "cell_type": "code",
      "metadata": {
        "id": "uWYJtH1tKvlj",
        "colab_type": "code",
        "colab": {
          "base_uri": "https://localhost:8080/",
          "height": 186
        },
        "outputId": "55178743-f6a0-4d1d-b708-eb8d2bb6874c"
      },
      "source": [
        "c = complex('3 + 4j')\n",
        "print(c)\n"
      ],
      "execution_count": null,
      "outputs": [
        {
          "output_type": "error",
          "ename": "ValueError",
          "evalue": "ignored",
          "traceback": [
            "\u001b[0;31m---------------------------------------------------------------------------\u001b[0m",
            "\u001b[0;31mValueError\u001b[0m                                Traceback (most recent call last)",
            "\u001b[0;32m<ipython-input-54-d572515c13a3>\u001b[0m in \u001b[0;36m<module>\u001b[0;34m()\u001b[0m\n\u001b[0;32m----> 1\u001b[0;31m \u001b[0mc\u001b[0m \u001b[0;34m=\u001b[0m \u001b[0mcomplex\u001b[0m\u001b[0;34m(\u001b[0m\u001b[0;34m'3 + 4j'\u001b[0m\u001b[0;34m)\u001b[0m\u001b[0;34m\u001b[0m\u001b[0;34m\u001b[0m\u001b[0m\n\u001b[0m\u001b[1;32m      2\u001b[0m \u001b[0mprint\u001b[0m\u001b[0;34m(\u001b[0m\u001b[0mc\u001b[0m\u001b[0;34m)\u001b[0m\u001b[0;34m\u001b[0m\u001b[0;34m\u001b[0m\u001b[0m\n",
            "\u001b[0;31mValueError\u001b[0m: complex() arg is a malformed string"
          ]
        }
      ]
    },
    {
      "cell_type": "markdown",
      "metadata": {
        "id": "TDDuHPTpKvlu",
        "colab_type": "text"
      },
      "source": [
        "## 문자(String) 타입\n",
        "\n",
        "### 기본 활용법\n",
        "\n",
        "* 문자열은 Single quotes(`'`)나 Double quotes(`\"`)을 활용하여 표현 가능하다.\n",
        "\n",
        "    - 작은따옴표: `'\"큰\" 따옴표를 담을 수 있습니다'`\n",
        "\n",
        "    - 큰따옴표: `\"'작은' 따옴표를 담을 수 있습니다\"`\n",
        "\n",
        "    - 삼중 따옴표: `'''세 개의 작은따옴표'''`, `\"\"\"세 개의 큰따옴표\"\"\"`\n",
        "\n",
        "\n",
        "* 단, 문자열을 묶을 때 동일한 문장부호를 활용해야하며, `PEP-8`에서는 **하나의 문장부호를 선택**하여 유지하도록 하고 있다. \n",
        "(Pick a rule and Stick to it)"
      ]
    },
    {
      "cell_type": "code",
      "metadata": {
        "id": "bfv8VyJVKvlv",
        "colab_type": "code",
        "colab": {}
      },
      "source": [
        "# 변수에 문자열을 넣고 출력해봅시다."
      ],
      "execution_count": null,
      "outputs": []
    },
    {
      "cell_type": "code",
      "metadata": {
        "id": "T5tNscrnKvl1",
        "colab_type": "code",
        "colab": {
          "base_uri": "https://localhost:8080/",
          "height": 34
        },
        "outputId": "e5ad2a62-de4e-4670-f3b4-61f51e6e5a32"
      },
      "source": [
        "greeting = 'hello'\n",
        "type(greeting)"
      ],
      "execution_count": null,
      "outputs": [
        {
          "output_type": "execute_result",
          "data": {
            "text/plain": [
              "str"
            ]
          },
          "metadata": {
            "tags": []
          },
          "execution_count": 57
        }
      ]
    },
    {
      "cell_type": "code",
      "metadata": {
        "id": "z-rXOP0MKvl6",
        "colab_type": "code",
        "colab": {}
      },
      "source": [
        "# 사용자에게 받은 입력은 기본적으로 str입니다."
      ],
      "execution_count": null,
      "outputs": []
    },
    {
      "cell_type": "code",
      "metadata": {
        "id": "TtTFO2VxKvmB",
        "colab_type": "code",
        "colab": {
          "base_uri": "https://localhost:8080/",
          "height": 52
        },
        "outputId": "52ef98e5-bcad-4f13-9bd9-7886fbc31ae3"
      },
      "source": [
        "number = input('숫자를 입력해 주세요: ')\n",
        "print(int(number) * 2)"
      ],
      "execution_count": null,
      "outputs": [
        {
          "output_type": "stream",
          "text": [
            "숫자를 입력해 주세요: 4\n",
            "8\n"
          ],
          "name": "stdout"
        }
      ]
    },
    {
      "cell_type": "markdown",
      "metadata": {
        "id": "H9gUGqwsKvmG",
        "colab_type": "text"
      },
      "source": [
        "#### 따옴표 사용\n",
        "\n",
        "문자열 안에 문장부호(`'`, `\"`)가 사용될 경우 이스케이프 문자(`\\`)를 활용 가능 합니다. "
      ]
    },
    {
      "cell_type": "code",
      "metadata": {
        "id": "_27DGevUKvmH",
        "colab_type": "code",
        "colab": {}
      },
      "source": [
        "# 문자열 안에 문장부호를 활용해서 오류를 확인해봅시다."
      ],
      "execution_count": null,
      "outputs": []
    },
    {
      "cell_type": "code",
      "metadata": {
        "id": "QQJj3ZJaKvmN",
        "colab_type": "code",
        "colab": {
          "base_uri": "https://localhost:8080/",
          "height": 35
        },
        "outputId": "715f8026-76e3-4dbe-d67f-0f93c368b3ba"
      },
      "source": [
        "\"he's cool\"\n",
        "\"그의 이름은 \\\"ssafy\\\"였다.\""
      ],
      "execution_count": 2,
      "outputs": [
        {
          "output_type": "execute_result",
          "data": {
            "application/vnd.google.colaboratory.intrinsic": {
              "type": "string"
            },
            "text/plain": [
              "'그의 이름은 \"ssafy\"였다.'"
            ]
          },
          "metadata": {
            "tags": []
          },
          "execution_count": 2
        }
      ]
    },
    {
      "cell_type": "code",
      "metadata": {
        "id": "OX7UYXr6KvmU",
        "colab_type": "code",
        "colab": {}
      },
      "source": [
        "# 오류를 이스케이프 문자와 서로 다른 문장부호를 통해 해결해봅시다."
      ],
      "execution_count": null,
      "outputs": []
    },
    {
      "cell_type": "code",
      "metadata": {
        "id": "KU5vqpezKvma",
        "colab_type": "code",
        "colab": {
          "base_uri": "https://localhost:8080/",
          "height": 134
        },
        "outputId": "4e9c6cbd-76cb-419c-835a-b36d0be7032c"
      },
      "source": [
        "\"그의 이름은 \"ssafy\"였다.\""
      ],
      "execution_count": 3,
      "outputs": [
        {
          "output_type": "error",
          "ename": "SyntaxError",
          "evalue": "ignored",
          "traceback": [
            "\u001b[0;36m  File \u001b[0;32m\"<ipython-input-3-ae4aa98c6548>\"\u001b[0;36m, line \u001b[0;32m1\u001b[0m\n\u001b[0;31m    \"그의 이름은 \"ssafy\"였다.\"\u001b[0m\n\u001b[0m                 ^\u001b[0m\n\u001b[0;31mSyntaxError\u001b[0m\u001b[0;31m:\u001b[0m invalid syntax\n"
          ]
        }
      ]
    },
    {
      "cell_type": "markdown",
      "metadata": {
        "id": "gW0ZAqTVKvmf",
        "colab_type": "text"
      },
      "source": [
        "여러줄에 걸쳐있는 문장은 다음과 같이 표현 가능합니다.\n",
        "\n",
        "* `PEP-8`에 따르면 이 경우에는 반드시 `\"\"\"`를 사용하도록 되어 있다."
      ]
    },
    {
      "cell_type": "code",
      "metadata": {
        "id": "juHxjgq7Kvmg",
        "colab_type": "code",
        "colab": {}
      },
      "source": [
        "# 여러줄을 출력해봅시다."
      ],
      "execution_count": null,
      "outputs": []
    },
    {
      "cell_type": "code",
      "metadata": {
        "id": "zQmgnsq0Kvmm",
        "colab_type": "code",
        "colab": {}
      },
      "source": [
        "print(\"\"\"\n",
        "이건\n",
        "여러줄에 걸친\n",
        "문자열이다\n",
        "\"\"\")"
      ],
      "execution_count": null,
      "outputs": []
    },
    {
      "cell_type": "code",
      "metadata": {
        "id": "DvaX7FSoKvmx",
        "colab_type": "code",
        "colab": {}
      },
      "source": [
        "# 문자열은 + 연산자로 이어붙이고, * 연산자로 반복시킬 수 있습니다."
      ],
      "execution_count": null,
      "outputs": []
    },
    {
      "cell_type": "code",
      "metadata": {
        "id": "mIq7OTNYKvm3",
        "colab_type": "code",
        "colab": {
          "base_uri": "https://localhost:8080/",
          "height": 35
        },
        "outputId": "4b3c4ce0-053a-4424-e0be-0b00e0445955"
      },
      "source": [
        "'hello' + 'ssafy'"
      ],
      "execution_count": 4,
      "outputs": [
        {
          "output_type": "execute_result",
          "data": {
            "application/vnd.google.colaboratory.intrinsic": {
              "type": "string"
            },
            "text/plain": [
              "'hellossafy'"
            ]
          },
          "metadata": {
            "tags": []
          },
          "execution_count": 4
        }
      ]
    },
    {
      "cell_type": "code",
      "metadata": {
        "id": "wJYclCtVKvm_",
        "colab_type": "code",
        "colab": {}
      },
      "source": [
        "# 변수화해서도 사용가능합니다."
      ],
      "execution_count": null,
      "outputs": []
    },
    {
      "cell_type": "code",
      "metadata": {
        "id": "M6LKDJfWKvnI",
        "colab_type": "code",
        "colab": {}
      },
      "source": [
        ""
      ],
      "execution_count": null,
      "outputs": []
    },
    {
      "cell_type": "code",
      "metadata": {
        "id": "yfKtMADcKvnN",
        "colab_type": "code",
        "colab": {}
      },
      "source": [
        "# 두 개 이상의 문자열이 연속해서 나타나면 자동으로 이어 붙여집니다."
      ],
      "execution_count": null,
      "outputs": []
    },
    {
      "cell_type": "code",
      "metadata": {
        "id": "mdB0xdA_KvnS",
        "colab_type": "code",
        "colab": {}
      },
      "source": [
        ""
      ],
      "execution_count": null,
      "outputs": []
    },
    {
      "cell_type": "markdown",
      "metadata": {
        "id": "HOCgbddlKvnY",
        "colab_type": "text"
      },
      "source": [
        "### 이스케이프 시퀀스\n",
        "\n",
        "문자열을 활용하는 경우 특수문자 혹은 조작을 하기 위하여 사용되는 것으로 `\\`를 활용하여 이를 구분합니다. \n",
        "\n",
        "|<center>예약문자</center>|내용(의미)|\n",
        "|:--------:|:--------:|\n",
        "|\\n|줄 바꿈|\n",
        "|\\t|탭|\n",
        "|\\r|캐리지리턴|\n",
        "|\\0|널(Null)|\n",
        "|\\\\\\\\ |`\\`|\n",
        "|\\\\'|단일인용부호(`'`)|\n",
        "|\\\\\"|이중인용부호(`\"`)|"
      ]
    },
    {
      "cell_type": "code",
      "metadata": {
        "id": "TGrmtQfSKvnd",
        "colab_type": "code",
        "colab": {}
      },
      "source": [
        "# 이스케이프 문자열을 조합하여 프린트해봅시다."
      ],
      "execution_count": null,
      "outputs": []
    },
    {
      "cell_type": "code",
      "metadata": {
        "id": "rEPZI4K9Kvnk",
        "colab_type": "code",
        "colab": {
          "base_uri": "https://localhost:8080/",
          "height": 70
        },
        "outputId": "b91099b5-a5fa-4d78-f722-0c85dd1e7fe3"
      },
      "source": [
        "print('안녕\\n나는\\nPython\\t이야')"
      ],
      "execution_count": 7,
      "outputs": [
        {
          "output_type": "stream",
          "text": [
            "안녕\n",
            "나는\n",
            "Python\t이야\n"
          ],
          "name": "stdout"
        }
      ]
    },
    {
      "cell_type": "code",
      "metadata": {
        "id": "xO42XZfSKvnp",
        "colab_type": "code",
        "colab": {}
      },
      "source": [
        "# print를 하는 과정에서도 이스케이프 문자열을 활용 가능합니다."
      ],
      "execution_count": null,
      "outputs": []
    },
    {
      "cell_type": "code",
      "metadata": {
        "id": "25BNhXheKvnu",
        "colab_type": "code",
        "colab": {
          "base_uri": "https://localhost:8080/",
          "height": 34
        },
        "outputId": "9e865f71-2256-47f4-acea-e41723456671"
      },
      "source": [
        "print(\"이건 \\\"python\\\"입니다.\")"
      ],
      "execution_count": 8,
      "outputs": [
        {
          "output_type": "stream",
          "text": [
            "이건 \"python\"입니다.\n"
          ],
          "name": "stdout"
        }
      ]
    },
    {
      "cell_type": "code",
      "metadata": {
        "id": "a6I7szclKvn5",
        "colab_type": "code",
        "colab": {}
      },
      "source": [
        "# 물론, end 옵션은 이스케이프 문자열이 아닌 다른 것도 가능합니다."
      ],
      "execution_count": null,
      "outputs": []
    },
    {
      "cell_type": "code",
      "metadata": {
        "id": "Tubxd-0jKvn9",
        "colab_type": "code",
        "colab": {
          "base_uri": "https://localhost:8080/",
          "height": 34
        },
        "outputId": "7808c714-eb27-4a42-870d-17d41431e950"
      },
      "source": [
        "print('hello', end='')\n",
        "print('ssafy')"
      ],
      "execution_count": 9,
      "outputs": [
        {
          "output_type": "stream",
          "text": [
            "hellossafy\n"
          ],
          "name": "stdout"
        }
      ]
    },
    {
      "cell_type": "markdown",
      "metadata": {
        "id": "QZD7KsaxKvoD",
        "colab_type": "text"
      },
      "source": [
        "### String interpolation \n",
        "\n",
        "* `%-formatting` \n",
        "\n",
        "* [`str.format()` ](https://pyformat.info/)\n",
        "\n",
        "* [`f-strings`](https://www.python.org/dev/peps/pep-0498/) : 파이썬 3.6 이후 버전에서 지원"
      ]
    },
    {
      "cell_type": "code",
      "metadata": {
        "id": "cc21APyNKvoE",
        "colab_type": "code",
        "colab": {}
      },
      "source": [
        "# name 변수에 이름을 입력해봅시다."
      ],
      "execution_count": null,
      "outputs": []
    },
    {
      "cell_type": "code",
      "metadata": {
        "id": "mvRd3GupKvoI",
        "colab_type": "code",
        "colab": {}
      },
      "source": [
        "name = 'tom'"
      ],
      "execution_count": 11,
      "outputs": []
    },
    {
      "cell_type": "code",
      "metadata": {
        "id": "L1V2k4v9KvoT",
        "colab_type": "code",
        "colab": {}
      },
      "source": [
        "# %-formatting을 활용해봅시다."
      ],
      "execution_count": null,
      "outputs": []
    },
    {
      "cell_type": "code",
      "metadata": {
        "id": "VVHho01WKvoY",
        "colab_type": "code",
        "colab": {
          "base_uri": "https://localhost:8080/",
          "height": 34
        },
        "outputId": "9a68ab2b-6003-44f5-f5fc-83e868b6f4a8"
      },
      "source": [
        "print('내 이름은 %s 입니다' % name)"
      ],
      "execution_count": 12,
      "outputs": [
        {
          "output_type": "stream",
          "text": [
            "내 이름은 tom 입니다\n"
          ],
          "name": "stdout"
        }
      ]
    },
    {
      "cell_type": "code",
      "metadata": {
        "id": "qatk8bFAKvof",
        "colab_type": "code",
        "colab": {}
      },
      "source": [
        "# str.format()을 활용해봅시다."
      ],
      "execution_count": null,
      "outputs": []
    },
    {
      "cell_type": "code",
      "metadata": {
        "id": "FRKT2Lp5Kvon",
        "colab_type": "code",
        "colab": {
          "base_uri": "https://localhost:8080/",
          "height": 34
        },
        "outputId": "9464fa49-d435-4425-8f13-b8b78a838edf"
      },
      "source": [
        "print('내 이름은 {}입니다'.format(name))"
      ],
      "execution_count": 13,
      "outputs": [
        {
          "output_type": "stream",
          "text": [
            "내 이름은 tom입니다\n"
          ],
          "name": "stdout"
        }
      ]
    },
    {
      "cell_type": "code",
      "metadata": {
        "id": "nBuuyafSKvou",
        "colab_type": "code",
        "colab": {}
      },
      "source": [
        "# f-string을 활용해봅시다."
      ],
      "execution_count": null,
      "outputs": []
    },
    {
      "cell_type": "code",
      "metadata": {
        "id": "0vhG-lHMKvoz",
        "colab_type": "code",
        "colab": {
          "base_uri": "https://localhost:8080/",
          "height": 34
        },
        "outputId": "84ec5acf-0b0b-4a95-b3d2-a21d04dc451e"
      },
      "source": [
        "print(f'내 이름은 {name}입니다.')"
      ],
      "execution_count": 14,
      "outputs": [
        {
          "output_type": "stream",
          "text": [
            "내 이름은 tom입니다.\n"
          ],
          "name": "stdout"
        }
      ]
    },
    {
      "cell_type": "code",
      "metadata": {
        "id": "n2_u6nXqKvo6",
        "colab_type": "code",
        "colab": {}
      },
      "source": [
        "# 여러줄 문자열에서도 사용 가능합니다."
      ],
      "execution_count": null,
      "outputs": []
    },
    {
      "cell_type": "code",
      "metadata": {
        "id": "QmzRY0f-KvpE",
        "colab_type": "code",
        "colab": {
          "base_uri": "https://localhost:8080/",
          "height": 87
        },
        "outputId": "ec0bdae2-90c0-413d-ed79-45e6de1fd9a7"
      },
      "source": [
        "print(f'''\n",
        "내 이름은\n",
        "{name}입니다.\n",
        "''')"
      ],
      "execution_count": 15,
      "outputs": [
        {
          "output_type": "stream",
          "text": [
            "\n",
            "내 이름은\n",
            "tom입니다.\n",
            "\n"
          ],
          "name": "stdout"
        }
      ]
    },
    {
      "cell_type": "markdown",
      "metadata": {
        "id": "dKuw8u7aKvpT",
        "colab_type": "text"
      },
      "source": [
        "* f-strings에서는 형식을 지정할 수 있다."
      ]
    },
    {
      "cell_type": "code",
      "metadata": {
        "id": "eCtTVhXiKvpU",
        "colab_type": "code",
        "colab": {}
      },
      "source": [
        "# 다양한 형식을 활용하기 위해 datetime 모듈로 오늘을 표현해봅시다."
      ],
      "execution_count": null,
      "outputs": []
    },
    {
      "cell_type": "code",
      "metadata": {
        "id": "-pSqPi8aKvpY",
        "colab_type": "code",
        "colab": {
          "base_uri": "https://localhost:8080/",
          "height": 34
        },
        "outputId": "4db60720-bdef-4ceb-e2be-2a3f9d4e32c9"
      },
      "source": [
        "import datetime\n",
        "now = datetime.datetime.now()\n",
        "print(now)"
      ],
      "execution_count": 17,
      "outputs": [
        {
          "output_type": "stream",
          "text": [
            "2020-07-22 12:34:38.634496\n"
          ],
          "name": "stdout"
        }
      ]
    },
    {
      "cell_type": "code",
      "metadata": {
        "id": "AMNa3bzoKvpd",
        "colab_type": "code",
        "colab": {}
      },
      "source": [
        "# interpolation에서 출력형식을 지정할 수 있습니다."
      ],
      "execution_count": null,
      "outputs": []
    },
    {
      "cell_type": "code",
      "metadata": {
        "id": "aFj-alx9Kvpi",
        "colab_type": "code",
        "colab": {
          "base_uri": "https://localhost:8080/",
          "height": 35
        },
        "outputId": "78842989-ec75-4b5a-f883-adbf86e8d635"
      },
      "source": [
        "f'오늘은 {now:%Y} 이번달은 {now:%m} 오늘은 {now:%d}'"
      ],
      "execution_count": 23,
      "outputs": [
        {
          "output_type": "execute_result",
          "data": {
            "application/vnd.google.colaboratory.intrinsic": {
              "type": "string"
            },
            "text/plain": [
              "'오늘은 2020 이번달은 07 오늘은 22'"
            ]
          },
          "metadata": {
            "tags": []
          },
          "execution_count": 23
        }
      ]
    },
    {
      "cell_type": "markdown",
      "metadata": {
        "id": "rypO2eVRKvpp",
        "colab_type": "text"
      },
      "source": [
        "* f-strings에서는 연산과 출력형식 지정도 가능하다."
      ]
    },
    {
      "cell_type": "code",
      "metadata": {
        "id": "edgf2dLmKvpq",
        "colab_type": "code",
        "colab": {}
      },
      "source": [
        "# string interpolation을 통해 출력형식 지정 뿐만 아니라, 연산도 가능합니다."
      ],
      "execution_count": null,
      "outputs": []
    },
    {
      "cell_type": "code",
      "metadata": {
        "id": "_XCx12yMKvp0",
        "colab_type": "code",
        "colab": {
          "base_uri": "https://localhost:8080/",
          "height": 34
        },
        "outputId": "8fe09ae7-1a4a-4ff6-f8ba-496b46edbb6d"
      },
      "source": [
        "pi = 3.141592\n",
        "r = 10\n",
        "print(f'{pi:.3}')"
      ],
      "execution_count": 25,
      "outputs": [
        {
          "output_type": "stream",
          "text": [
            "3.14\n"
          ],
          "name": "stdout"
        }
      ]
    },
    {
      "cell_type": "markdown",
      "metadata": {
        "id": "GlohRRpbKvp4",
        "colab_type": "text"
      },
      "source": [
        "## 참/거짓(Boolean) 타입\n",
        "\n",
        "파이썬에는 `True`와 `False`로 이뤄진 `bool` 타입이 있습니다.\n",
        "\n",
        "비교/논리 연산을 수행 등에서 활용됩니다.\n",
        "\n",
        "다음은 `False`로 변환됩니다.\n",
        "```\n",
        "0, 0.0, (), [], {}, '', None\n",
        "```"
      ]
    },
    {
      "cell_type": "code",
      "metadata": {
        "id": "fgWEs86AKvp5",
        "colab_type": "code",
        "colab": {}
      },
      "source": [
        "# True와 False의 타입들을 알아봅시다."
      ],
      "execution_count": null,
      "outputs": []
    },
    {
      "cell_type": "code",
      "metadata": {
        "id": "nDijlR2mKvqH",
        "colab_type": "code",
        "colab": {}
      },
      "source": [
        ""
      ],
      "execution_count": null,
      "outputs": []
    },
    {
      "cell_type": "code",
      "metadata": {
        "id": "-hfR1xRsKvqO",
        "colab_type": "code",
        "colab": {}
      },
      "source": [
        "# 다양한 True, False 상황들을 확인해봅시다.\n",
        "# 형변환(Type Conversion)에서 추가적으로 다루는 내용입니다."
      ],
      "execution_count": null,
      "outputs": []
    },
    {
      "cell_type": "code",
      "metadata": {
        "id": "prxV1nDuKvqT",
        "colab_type": "code",
        "colab": {}
      },
      "source": [
        ""
      ],
      "execution_count": null,
      "outputs": []
    },
    {
      "cell_type": "markdown",
      "metadata": {
        "id": "tu8q4yTPKvqY",
        "colab_type": "text"
      },
      "source": [
        "### `None` 타입\n",
        "\n",
        "파이썬에서는 값이 없음을 표현하기 위해 `None` 타입이 존재합니다."
      ]
    },
    {
      "cell_type": "code",
      "metadata": {
        "id": "foMOBmKkKvqZ",
        "colab_type": "code",
        "colab": {}
      },
      "source": [
        "# None의 타입을 알아봅시다."
      ],
      "execution_count": null,
      "outputs": []
    },
    {
      "cell_type": "code",
      "metadata": {
        "id": "-pelt0vxKvqe",
        "colab_type": "code",
        "colab": {}
      },
      "source": [
        ""
      ],
      "execution_count": null,
      "outputs": []
    },
    {
      "cell_type": "code",
      "metadata": {
        "id": "DasmQWN0Kvqm",
        "colab_type": "code",
        "colab": {}
      },
      "source": [
        "# 변수에 저장해서 확인해봅시다."
      ],
      "execution_count": null,
      "outputs": []
    },
    {
      "cell_type": "code",
      "metadata": {
        "id": "rN6lwWtzKvqy",
        "colab_type": "code",
        "colab": {}
      },
      "source": [
        ""
      ],
      "execution_count": null,
      "outputs": []
    },
    {
      "cell_type": "markdown",
      "metadata": {
        "id": "B7hOoogdKvq2",
        "colab_type": "text"
      },
      "source": [
        "## 형변환(Type conversion, Typecasting)\n",
        "\n",
        "파이썬에서 데이터타입은 서로 변환할 수 있습니다.\n",
        "\n",
        "- 암시적 형변환\n",
        "- 명시적 형변환"
      ]
    },
    {
      "cell_type": "markdown",
      "metadata": {
        "id": "nSWzrI8JKvq3",
        "colab_type": "text"
      },
      "source": [
        "### 암시적 형변환(Implicit Type Conversion)\n",
        "\n",
        "사용자가 의도하지 않았지만, 파이썬 내부적으로 자동으로 형변환 하는 경우입니다.\n",
        "아래의 상황에서만 가능합니다.\n",
        "* bool\n",
        "* Numbers (int, float, complex)"
      ]
    },
    {
      "cell_type": "code",
      "metadata": {
        "id": "LR9N2AuNKvq4",
        "colab_type": "code",
        "colab": {}
      },
      "source": [
        "# boolean과 integer는 더할 수 있을까요?"
      ],
      "execution_count": null,
      "outputs": []
    },
    {
      "cell_type": "code",
      "metadata": {
        "id": "vaWPAEpMKvq9",
        "colab_type": "code",
        "colab": {}
      },
      "source": [
        ""
      ],
      "execution_count": null,
      "outputs": []
    },
    {
      "cell_type": "code",
      "metadata": {
        "id": "-QfIW6AmKvrA",
        "colab_type": "code",
        "colab": {}
      },
      "source": [
        "# int, float, complex를 각각 변수에 대입해봅시다."
      ],
      "execution_count": null,
      "outputs": []
    },
    {
      "cell_type": "code",
      "metadata": {
        "id": "PKKTedZhKvrN",
        "colab_type": "code",
        "colab": {}
      },
      "source": [
        ""
      ],
      "execution_count": null,
      "outputs": []
    },
    {
      "cell_type": "code",
      "metadata": {
        "id": "zDwSDhtHKvrg",
        "colab_type": "code",
        "colab": {}
      },
      "source": [
        "# int와 float를 더해봅시다. 그 결과의 type은 무엇일까요?"
      ],
      "execution_count": null,
      "outputs": []
    },
    {
      "cell_type": "code",
      "metadata": {
        "id": "GhzxyKa7Kvrl",
        "colab_type": "code",
        "colab": {}
      },
      "source": [
        ""
      ],
      "execution_count": null,
      "outputs": []
    },
    {
      "cell_type": "code",
      "metadata": {
        "id": "Y-tXGXsBKvrs",
        "colab_type": "code",
        "colab": {}
      },
      "source": [
        "# int와 complex를 더해봅시다. 그 결과의 type은 무엇일까요?"
      ],
      "execution_count": null,
      "outputs": []
    },
    {
      "cell_type": "code",
      "metadata": {
        "id": "0cznTdD2Kvr0",
        "colab_type": "code",
        "colab": {}
      },
      "source": [
        ""
      ],
      "execution_count": null,
      "outputs": []
    },
    {
      "cell_type": "markdown",
      "metadata": {
        "id": "JdnQj_F4Kvr5",
        "colab_type": "text"
      },
      "source": [
        "### 명시적 형변환(Explicit Type Conversion)\n",
        "위의 상황을 제외하고는 모두 명시적으로 형 변환을 해주어야합니다.\n",
        "\n",
        "* string -> intger  : 형식에 맞는 숫자만 가능\n",
        "* integer -> string : 모두 가능\n",
        "\n",
        "암시적 형변환이 되는 모든 경우도 명시적으로 형변환이 가능합니다.\n",
        "\n",
        "* `int()` : string, float를 int로 변환\n",
        "* `float()` : string, int를 float로 변환\n",
        "* `str()` : int, float, list, tuple, dictionary를 문자열로 변환\n",
        "\n",
        "`list()`, `tuple()` 등은 다음 챕터에서 배울 예정입니다."
      ]
    },
    {
      "cell_type": "code",
      "metadata": {
        "id": "MuBleBLlKvr5",
        "colab_type": "code",
        "colab": {}
      },
      "source": [
        "# integer와 string 사이의 관계는 명시적으로 형변환을 해줘야만 합니다."
      ],
      "execution_count": null,
      "outputs": []
    },
    {
      "cell_type": "code",
      "metadata": {
        "id": "WRME8Me0Kvr_",
        "colab_type": "code",
        "colab": {}
      },
      "source": [
        ""
      ],
      "execution_count": null,
      "outputs": []
    },
    {
      "cell_type": "code",
      "metadata": {
        "id": "rAPe4LdJKvsF",
        "colab_type": "code",
        "colab": {}
      },
      "source": [
        "# string 3을 integer로 변환해봅시다."
      ],
      "execution_count": null,
      "outputs": []
    },
    {
      "cell_type": "code",
      "metadata": {
        "id": "FQZCaaFDKvsO",
        "colab_type": "code",
        "colab": {}
      },
      "source": [
        ""
      ],
      "execution_count": null,
      "outputs": []
    },
    {
      "cell_type": "code",
      "metadata": {
        "id": "NTRMkvD-KvsY",
        "colab_type": "code",
        "colab": {}
      },
      "source": [
        "# string 3.5를 float로 변환해봅시다."
      ],
      "execution_count": null,
      "outputs": []
    },
    {
      "cell_type": "code",
      "metadata": {
        "id": "FDPuWoZ-Kvsf",
        "colab_type": "code",
        "colab": {}
      },
      "source": [
        ""
      ],
      "execution_count": null,
      "outputs": []
    },
    {
      "cell_type": "code",
      "metadata": {
        "id": "35w2KQFdKvsv",
        "colab_type": "code",
        "colab": {}
      },
      "source": [
        "# string은 글자가 숫자일때만 형변환이 가능합니다."
      ],
      "execution_count": null,
      "outputs": []
    },
    {
      "cell_type": "code",
      "metadata": {
        "id": "oID36u24Kvsz",
        "colab_type": "code",
        "colab": {}
      },
      "source": [
        ""
      ],
      "execution_count": null,
      "outputs": []
    },
    {
      "cell_type": "code",
      "metadata": {
        "id": "Bg4E3a83Kvs9",
        "colab_type": "code",
        "colab": {}
      },
      "source": [
        "# string 3.5를 int로 변환할 수는 없습니다."
      ],
      "execution_count": null,
      "outputs": []
    },
    {
      "cell_type": "code",
      "metadata": {
        "id": "9tO6GftLKvtC",
        "colab_type": "code",
        "colab": {}
      },
      "source": [
        ""
      ],
      "execution_count": null,
      "outputs": []
    },
    {
      "cell_type": "code",
      "metadata": {
        "id": "Agjju0znKvtL",
        "colab_type": "code",
        "colab": {}
      },
      "source": [
        "# float 3.5는 int로 변환이 가능합니다."
      ],
      "execution_count": null,
      "outputs": []
    },
    {
      "cell_type": "code",
      "metadata": {
        "id": "lnMyv2XRKvtQ",
        "colab_type": "code",
        "colab": {}
      },
      "source": [
        ""
      ],
      "execution_count": null,
      "outputs": []
    },
    {
      "cell_type": "markdown",
      "metadata": {
        "id": "v2d1hCIqKvtU",
        "colab_type": "text"
      },
      "source": [
        "# 연산자(Operator)\n",
        "\n",
        "- 산술 연산자\n",
        "- 비교 연산자\n",
        "- 논리 연산자\n",
        "- 복합 연산자\n",
        "- 기타 연산자"
      ]
    },
    {
      "cell_type": "markdown",
      "metadata": {
        "id": "yTodpdGMKvtV",
        "colab_type": "text"
      },
      "source": [
        "## 산술 연산자\n",
        "Python에서는 기본적인 사칙연산이 가능합니다. \n",
        "\n",
        "|연산자|내용|\n",
        "|----|---|\n",
        "|+|덧셈|\n",
        "|-|뺄셈|\n",
        "|\\*|곱셈|\n",
        "|/|나눗셈|\n",
        "|//|몫|\n",
        "|%|나머지(modulo)|\n",
        "|\\*\\*|거듭제곱|\n",
        "\n",
        "- 나눗셈 (`/`) 은 항상 float를 돌려준다.\n",
        "- 정수 나눗셈 으로 (소수부 없이) 정수 결과를 얻으려면 `//` 연산자를 사용한다.\n"
      ]
    },
    {
      "cell_type": "code",
      "metadata": {
        "id": "vXx5bmpJKvtW",
        "colab_type": "code",
        "colab": {}
      },
      "source": [
        "# 2의 1000승을 확인해봅시다."
      ],
      "execution_count": null,
      "outputs": []
    },
    {
      "cell_type": "code",
      "metadata": {
        "id": "O9aXoQNKKvtg",
        "colab_type": "code",
        "colab": {}
      },
      "source": [
        ""
      ],
      "execution_count": null,
      "outputs": []
    },
    {
      "cell_type": "code",
      "metadata": {
        "id": "wBPVpRqoKvtl",
        "colab_type": "code",
        "colab": {}
      },
      "source": [
        "# 나눗셈과 관련된 산술연산자를 활용해봅시다."
      ],
      "execution_count": null,
      "outputs": []
    },
    {
      "cell_type": "code",
      "metadata": {
        "id": "_Ehp-buOKvtp",
        "colab_type": "code",
        "colab": {}
      },
      "source": [
        ""
      ],
      "execution_count": null,
      "outputs": []
    },
    {
      "cell_type": "code",
      "metadata": {
        "id": "Jsu9igWLKvtu",
        "colab_type": "code",
        "colab": {}
      },
      "source": [
        "# divmod는 나눗셈과 관련된 함수입니다."
      ],
      "execution_count": null,
      "outputs": []
    },
    {
      "cell_type": "code",
      "metadata": {
        "id": "lB5tvdvTKvt2",
        "colab_type": "code",
        "colab": {}
      },
      "source": [
        ""
      ],
      "execution_count": null,
      "outputs": []
    },
    {
      "cell_type": "code",
      "metadata": {
        "id": "gDMXxVIFKvt-",
        "colab_type": "code",
        "colab": {}
      },
      "source": [
        "# 음수 양수 표현도 해봅시다."
      ],
      "execution_count": null,
      "outputs": []
    },
    {
      "cell_type": "code",
      "metadata": {
        "id": "ETg6-yXVKvuG",
        "colab_type": "code",
        "colab": {}
      },
      "source": [
        ""
      ],
      "execution_count": null,
      "outputs": []
    },
    {
      "cell_type": "markdown",
      "metadata": {
        "id": "ju3jwBjPKvuM",
        "colab_type": "text"
      },
      "source": [
        "## 비교 연산자\n",
        "\n",
        "우리가 수학에서 배운 연산자와 동일하게 값을 비교할 수 있습니다.\n",
        "\n",
        "|연산자|내용|\n",
        "|----|---|\n",
        "|`<`|미만|\n",
        "|`<=`|이하|\n",
        "|`>`|초과|\n",
        "|`>=`|이상|\n",
        "|`==`|같음|\n",
        "|`!=`|같지않음|\n",
        "|`is`|객체 아이덴티티|\n",
        "|`is not`|부정된 객체 아이덴티티|\n"
      ]
    },
    {
      "cell_type": "code",
      "metadata": {
        "id": "Us-p_cckKvuO",
        "colab_type": "code",
        "colab": {}
      },
      "source": [
        "# 숫자의 대소관계를 비교해봅시다."
      ],
      "execution_count": null,
      "outputs": []
    },
    {
      "cell_type": "code",
      "metadata": {
        "id": "7KoTuuDCKvud",
        "colab_type": "code",
        "colab": {}
      },
      "source": [
        ""
      ],
      "execution_count": null,
      "outputs": []
    },
    {
      "cell_type": "code",
      "metadata": {
        "id": "bV-fodIAKvui",
        "colab_type": "code",
        "colab": {}
      },
      "source": [
        "# 다른 숫자인지 확인해봅시다."
      ],
      "execution_count": null,
      "outputs": []
    },
    {
      "cell_type": "code",
      "metadata": {
        "id": "vIf_r57NKvum",
        "colab_type": "code",
        "colab": {}
      },
      "source": [
        ""
      ],
      "execution_count": null,
      "outputs": []
    },
    {
      "cell_type": "code",
      "metadata": {
        "id": "GmTW0IfdKvuw",
        "colab_type": "code",
        "colab": {}
      },
      "source": [
        "# 같은 숫자인지 확인해봅시다."
      ],
      "execution_count": null,
      "outputs": []
    },
    {
      "cell_type": "code",
      "metadata": {
        "id": "2bIeaXVwKvu0",
        "colab_type": "code",
        "colab": {}
      },
      "source": [
        ""
      ],
      "execution_count": null,
      "outputs": []
    },
    {
      "cell_type": "code",
      "metadata": {
        "id": "JqPnC6xFKvu8",
        "colab_type": "code",
        "colab": {}
      },
      "source": [
        "# 문자열도 같은지 확인해봅시다."
      ],
      "execution_count": null,
      "outputs": []
    },
    {
      "cell_type": "code",
      "metadata": {
        "id": "YNr8NTcnKvvH",
        "colab_type": "code",
        "colab": {}
      },
      "source": [
        ""
      ],
      "execution_count": null,
      "outputs": []
    },
    {
      "cell_type": "markdown",
      "metadata": {
        "id": "mUfcFHJTKvvV",
        "colab_type": "text"
      },
      "source": [
        "## 논리 연산자\n",
        "\n",
        "|연산자|내용|\n",
        "|---|---|\n",
        "|a and b|a와 b 모두 True시만 True|\n",
        "|a or b|a 와 b 모두 False시만 False|\n",
        "|not a|True -> False, False -> True|\n",
        "\n",
        "우리가 보통 알고 있는 `&` `|`은 파이썬에서 비트 연산자입니다."
      ]
    },
    {
      "cell_type": "code",
      "metadata": {
        "id": "td1IRbh9KvvW",
        "colab_type": "code",
        "colab": {}
      },
      "source": [
        "# and과 관련해서 모든 case를 출력해봅시다."
      ],
      "execution_count": null,
      "outputs": []
    },
    {
      "cell_type": "code",
      "metadata": {
        "id": "AFitG6NmKvvd",
        "colab_type": "code",
        "colab": {}
      },
      "source": [
        ""
      ],
      "execution_count": null,
      "outputs": []
    },
    {
      "cell_type": "code",
      "metadata": {
        "id": "cq0MWj7BKvvi",
        "colab_type": "code",
        "colab": {}
      },
      "source": [
        "# or과 관련해서 모든 case를 출력해봅시다."
      ],
      "execution_count": null,
      "outputs": []
    },
    {
      "cell_type": "code",
      "metadata": {
        "id": "ZNluA2UbKvvn",
        "colab_type": "code",
        "colab": {}
      },
      "source": [
        ""
      ],
      "execution_count": null,
      "outputs": []
    },
    {
      "cell_type": "code",
      "metadata": {
        "id": "ANMvkYP0Kvvu",
        "colab_type": "code",
        "colab": {}
      },
      "source": [
        "# not을 활용해봅시다."
      ],
      "execution_count": null,
      "outputs": []
    },
    {
      "cell_type": "code",
      "metadata": {
        "id": "iuiHYJRtKvvz",
        "colab_type": "code",
        "colab": {}
      },
      "source": [
        ""
      ],
      "execution_count": null,
      "outputs": []
    },
    {
      "cell_type": "markdown",
      "metadata": {
        "id": "91BPTMKQKvv3",
        "colab_type": "text"
      },
      "source": [
        "* 파이썬에서 and는 a가 거짓이면 a를 리턴하고, 참이면 b를 리턴한다.\n",
        "* 파이썬에서 or은 a가 참이면 a를 리턴하고, 거짓이면 b를 리턴한다."
      ]
    },
    {
      "cell_type": "markdown",
      "metadata": {
        "id": "EDZZ_WfdKvv4",
        "colab_type": "text"
      },
      "source": [
        "### 단축평가\n",
        "* 첫 번째 값이 확실할 때, 두 번째 값은 확인 하지 않음\n",
        "* 조건문에서 뒷 부분을 판단하지 않아도 되기 때문에 속도 향상"
      ]
    },
    {
      "cell_type": "code",
      "metadata": {
        "id": "Cg6Ubz9aKvv6",
        "colab_type": "code",
        "colab": {}
      },
      "source": [
        "vowels = 'aeiou'"
      ],
      "execution_count": null,
      "outputs": []
    },
    {
      "cell_type": "code",
      "metadata": {
        "scrolled": false,
        "id": "h9xDoFOMKvv-",
        "colab_type": "code",
        "colab": {}
      },
      "source": [
        ""
      ],
      "execution_count": null,
      "outputs": []
    },
    {
      "cell_type": "code",
      "metadata": {
        "scrolled": false,
        "id": "H9hUr2_gKvwE",
        "colab_type": "code",
        "colab": {}
      },
      "source": [
        ""
      ],
      "execution_count": null,
      "outputs": []
    },
    {
      "cell_type": "code",
      "metadata": {
        "id": "CJJvaHsrKvwI",
        "colab_type": "code",
        "colab": {}
      },
      "source": [
        ""
      ],
      "execution_count": null,
      "outputs": []
    },
    {
      "cell_type": "code",
      "metadata": {
        "id": "rGLLUpmMKvwN",
        "colab_type": "code",
        "colab": {}
      },
      "source": [
        ""
      ],
      "execution_count": null,
      "outputs": []
    },
    {
      "cell_type": "markdown",
      "metadata": {
        "id": "kvgHmFLiKvwS",
        "colab_type": "text"
      },
      "source": [
        "- `and` 는 둘 다 True일 경우만 True이기 때문에 첫번째 값이 True라도 두번째 값을 확인해야 하기 때문에 'b'가 반환된다.\n",
        "- `or` 는 하나만 True라도 True이기 때문에 True를 만나면 해당 값을 바로 반환한다."
      ]
    },
    {
      "cell_type": "code",
      "metadata": {
        "id": "63kU7ibXKvwS",
        "colab_type": "code",
        "colab": {}
      },
      "source": [
        "# and의 단축평가(short-circuit evaluation)에 대해서 알아봅시다."
      ],
      "execution_count": null,
      "outputs": []
    },
    {
      "cell_type": "code",
      "metadata": {
        "id": "-fxQS9asKvwX",
        "colab_type": "code",
        "colab": {}
      },
      "source": [
        ""
      ],
      "execution_count": null,
      "outputs": []
    },
    {
      "cell_type": "code",
      "metadata": {
        "id": "e14CV3Y-Kvwc",
        "colab_type": "code",
        "colab": {}
      },
      "source": [
        "# or의 단축평가(short-circuit evaluation)에 대해서 알아봅시다."
      ],
      "execution_count": null,
      "outputs": []
    },
    {
      "cell_type": "code",
      "metadata": {
        "id": "Y6faqH4LKvwi",
        "colab_type": "code",
        "colab": {}
      },
      "source": [
        ""
      ],
      "execution_count": null,
      "outputs": []
    },
    {
      "cell_type": "markdown",
      "metadata": {
        "id": "Sn7SA8-VKvwo",
        "colab_type": "text"
      },
      "source": [
        "## 복합 연산자\n",
        "\n",
        "복합 연산자는 연산과 대입이 함께 이뤄집니다. \n",
        "\n",
        "가장 많이 활용되는 경우는 반복문을 통해서 개수를 카운트하거나 할 때 활용됩니다.\n",
        "\n",
        "|연산자|내용|\n",
        "|----|---|\n",
        "|a += b|a = a + b|\n",
        "|a -= b|a = a - b|\n",
        "|a \\*= b|a = a \\* b|\n",
        "|a /= b|a = a / b|\n",
        "|a //= b|a = a // b|\n",
        "|a %= b|a = a % b|\n",
        "|a \\*\\*= b|a = a ** b|"
      ]
    },
    {
      "cell_type": "code",
      "metadata": {
        "id": "hL0XRnIqKvwp",
        "colab_type": "code",
        "colab": {}
      },
      "source": [
        "# 복합연산자는 이럴 때 사용됩니다."
      ],
      "execution_count": null,
      "outputs": []
    },
    {
      "cell_type": "code",
      "metadata": {
        "id": "07IHTwsOKvwu",
        "colab_type": "code",
        "colab": {}
      },
      "source": [
        ""
      ],
      "execution_count": null,
      "outputs": []
    },
    {
      "cell_type": "markdown",
      "metadata": {
        "id": "vbRhgATOKvwy",
        "colab_type": "text"
      },
      "source": [
        "## 기타 주요 연산자\n",
        "\n",
        "### Concatenation\n",
        "\n",
        "숫자가 아닌 자료형은 `+` 연산자를 통해 합칠 수 있습니다."
      ]
    },
    {
      "cell_type": "code",
      "metadata": {
        "id": "k_JOyxhIKvwy",
        "colab_type": "code",
        "colab": {}
      },
      "source": [
        "# 문자열을 더해봅시다.(합쳐봅시다.)"
      ],
      "execution_count": null,
      "outputs": []
    },
    {
      "cell_type": "code",
      "metadata": {
        "id": "-PCm1oVbKvw5",
        "colab_type": "code",
        "colab": {}
      },
      "source": [
        ""
      ],
      "execution_count": null,
      "outputs": []
    },
    {
      "cell_type": "code",
      "metadata": {
        "id": "v7KEdBKpKvw-",
        "colab_type": "code",
        "colab": {}
      },
      "source": [
        "# list를 더해봅시다.(합쳐봅시다.)"
      ],
      "execution_count": null,
      "outputs": []
    },
    {
      "cell_type": "code",
      "metadata": {
        "id": "89fmdrpXKvxL",
        "colab_type": "code",
        "colab": {}
      },
      "source": [
        ""
      ],
      "execution_count": null,
      "outputs": []
    },
    {
      "cell_type": "markdown",
      "metadata": {
        "id": "uCt9qa5dKvxP",
        "colab_type": "text"
      },
      "source": [
        "### Containment Test\n",
        "\n",
        "`in` 연산자를 통해 요소가 속해있는지 여부를 확인할 수 있습니다."
      ]
    },
    {
      "cell_type": "code",
      "metadata": {
        "id": "y_T9f4m5KvxR",
        "colab_type": "code",
        "colab": {}
      },
      "source": [
        "# 문자열안에 특정한 문자가 있는지 확인해봅시다."
      ],
      "execution_count": null,
      "outputs": []
    },
    {
      "cell_type": "code",
      "metadata": {
        "id": "IU12741qKvxm",
        "colab_type": "code",
        "colab": {}
      },
      "source": [
        ""
      ],
      "execution_count": null,
      "outputs": []
    },
    {
      "cell_type": "code",
      "metadata": {
        "id": "N2z78BSTKvxq",
        "colab_type": "code",
        "colab": {}
      },
      "source": [
        "# list안에 특정한 원소가 있는지 확인해봅시다."
      ],
      "execution_count": null,
      "outputs": []
    },
    {
      "cell_type": "code",
      "metadata": {
        "id": "yXoLUjvjKvx5",
        "colab_type": "code",
        "colab": {}
      },
      "source": [
        ""
      ],
      "execution_count": null,
      "outputs": []
    },
    {
      "cell_type": "code",
      "metadata": {
        "id": "2xvDVjl6KvyG",
        "colab_type": "code",
        "colab": {}
      },
      "source": [
        "# range안에 특정한 원소가 있는지 확인해봅시다."
      ],
      "execution_count": null,
      "outputs": []
    },
    {
      "cell_type": "code",
      "metadata": {
        "id": "uATEV17nKvyJ",
        "colab_type": "code",
        "colab": {}
      },
      "source": [
        ""
      ],
      "execution_count": null,
      "outputs": []
    },
    {
      "cell_type": "markdown",
      "metadata": {
        "id": "88JtZ3pLKvyQ",
        "colab_type": "text"
      },
      "source": [
        "### Identity\n",
        "\n",
        "`is` 연산자를 통해 동일한 object인지 확인할 수 있습니다. (OOP 파트에서 다시 학습하게 됩니다.)"
      ]
    },
    {
      "cell_type": "code",
      "metadata": {
        "id": "fRfbXgqkKvyQ",
        "colab_type": "code",
        "colab": {}
      },
      "source": [
        "# 파이썬에서 -5 부터 256 까지의 id는 동일합니다."
      ],
      "execution_count": null,
      "outputs": []
    },
    {
      "cell_type": "code",
      "metadata": {
        "id": "bfcXE8lzKvyf",
        "colab_type": "code",
        "colab": {}
      },
      "source": [
        ""
      ],
      "execution_count": null,
      "outputs": []
    },
    {
      "cell_type": "code",
      "metadata": {
        "id": "qiZVO-h6Kvyn",
        "colab_type": "code",
        "colab": {}
      },
      "source": [
        "# 257 이루의 id 는 다릅니다."
      ],
      "execution_count": null,
      "outputs": []
    },
    {
      "cell_type": "code",
      "metadata": {
        "id": "z-F6fBpyKvyr",
        "colab_type": "code",
        "colab": {}
      },
      "source": [
        ""
      ],
      "execution_count": null,
      "outputs": []
    },
    {
      "cell_type": "markdown",
      "metadata": {
        "id": "3lmr9t79Kvyt",
        "colab_type": "text"
      },
      "source": [
        "### Indexing/Slicing\n",
        "`[]`를 통한 값을 접근하고, `[:]`을 통해 리스트를 슬라이싱할 수 있습니다. (Container 파트에서 자세하게 학습합니다.)"
      ]
    },
    {
      "cell_type": "code",
      "metadata": {
        "id": "o-V1zKxXKvyt",
        "colab_type": "code",
        "colab": {}
      },
      "source": [
        "# 문자열을 인덱싱을 통해 값에 접근해봅시다."
      ],
      "execution_count": null,
      "outputs": []
    },
    {
      "cell_type": "code",
      "metadata": {
        "id": "K31BjZC7Kvy1",
        "colab_type": "code",
        "colab": {}
      },
      "source": [
        ""
      ],
      "execution_count": null,
      "outputs": []
    },
    {
      "cell_type": "markdown",
      "metadata": {
        "id": "LW2Br5zMKvy4",
        "colab_type": "text"
      },
      "source": [
        "## 연산자 우선순위\n",
        "\n",
        "0. `()`을 통한 grouping\n",
        "\n",
        "1. Slicing\n",
        "\n",
        "2. Indexing\n",
        "\n",
        "3. 제곱연산자\n",
        "    `**`\n",
        "\n",
        "4. 단항연산자 \n",
        "    `+`, `-` (음수/양수 부호)\n",
        "\n",
        "5. 산술연산자\n",
        "    `*`, `/`, `%`\n",
        "    \n",
        "6. 산술연산자\n",
        "    `+`, `-`\n",
        " \n",
        "7. 비교연산자, `in`, `is`\n",
        "\n",
        "8. `not`\n",
        "\n",
        "9. `and` \n",
        "\n",
        "10. `or`"
      ]
    },
    {
      "cell_type": "code",
      "metadata": {
        "id": "tl63yB9VKvy5",
        "colab_type": "code",
        "colab": {}
      },
      "source": [
        "# 우선순위를 확인해봅시다."
      ],
      "execution_count": null,
      "outputs": []
    },
    {
      "cell_type": "code",
      "metadata": {
        "id": "PHbA7xHbKvy-",
        "colab_type": "code",
        "colab": {}
      },
      "source": [
        ""
      ],
      "execution_count": null,
      "outputs": []
    },
    {
      "cell_type": "markdown",
      "metadata": {
        "id": "F570oWFSKvzC",
        "colab_type": "text"
      },
      "source": [
        "### [참고] 표현식(Expression) & 문장(Statement)\n"
      ]
    },
    {
      "cell_type": "markdown",
      "metadata": {
        "id": "PFZmJZsaKvzC",
        "colab_type": "text"
      },
      "source": [
        "### 표현식(Expression)\n",
        "\n",
        "> 표현식 => `evaluate` => 값\n",
        "\n",
        "* 하나의 값(value)으로 환원(reduce)될 수 있는 문장\n",
        "* `식별자`, `값`(리터럴), `연산자`로 구성됩니다.\n",
        "* 표현식을 만드는 문법(syntax)은 일반적인 (중위표기) 수식의 규칙과 유사합니다.\n",
        "* [참고] [표현식(Expression) 문법 관련 공식문서](https://docs.python.org/3/reference/expressions.html)"
      ]
    },
    {
      "cell_type": "code",
      "metadata": {
        "id": "ncTU7Ar0KvzD",
        "colab_type": "code",
        "colab": {}
      },
      "source": [
        "# 하나의 값(value)도 표현식(expression)이 될 수 있습니다."
      ],
      "execution_count": null,
      "outputs": []
    },
    {
      "cell_type": "code",
      "metadata": {
        "id": "qlf8v6GsKvzF",
        "colab_type": "code",
        "colab": {}
      },
      "source": [
        ""
      ],
      "execution_count": null,
      "outputs": []
    },
    {
      "cell_type": "code",
      "metadata": {
        "id": "HsLnTsIDKvzI",
        "colab_type": "code",
        "colab": {}
      },
      "source": [
        "# 표현식은 하나의 값으로 평가(evaluate)될 수 있어야 합니다. 그러면 할당문(assignment statement)은 표현식일까요?"
      ],
      "execution_count": null,
      "outputs": []
    },
    {
      "cell_type": "code",
      "metadata": {
        "id": "hmgQL2IMKvzO",
        "colab_type": "code",
        "colab": {}
      },
      "source": [
        ""
      ],
      "execution_count": null,
      "outputs": []
    },
    {
      "cell_type": "code",
      "metadata": {
        "id": "HOi5itWfKvzS",
        "colab_type": "code",
        "colab": {}
      },
      "source": [
        "# 식별자가 값이 할당되어 있는 경우 수식의 일부가 될 수 있습니다."
      ],
      "execution_count": null,
      "outputs": []
    },
    {
      "cell_type": "code",
      "metadata": {
        "id": "pCNiC5xOKvzV",
        "colab_type": "code",
        "colab": {}
      },
      "source": [
        ""
      ],
      "execution_count": null,
      "outputs": []
    },
    {
      "cell_type": "code",
      "metadata": {
        "id": "a1fnAWMeKvzZ",
        "colab_type": "code",
        "colab": {}
      },
      "source": [
        "# 표현식을 만드는 문법(syntax)은 일반적인 (중위표기) 수식의 규칙과 유사합니다. 아래와 같은 문장은 표현식이 될 수 없습니다."
      ],
      "execution_count": null,
      "outputs": []
    },
    {
      "cell_type": "code",
      "metadata": {
        "id": "-CbvXL3iKvzc",
        "colab_type": "code",
        "colab": {}
      },
      "source": [
        ""
      ],
      "execution_count": null,
      "outputs": []
    },
    {
      "cell_type": "markdown",
      "metadata": {
        "id": "wGO_3ZAzKvzg",
        "colab_type": "text"
      },
      "source": [
        "### 문장(Statement)\n",
        "\n",
        "* 파이썬이 실행 가능한 최소한의 코드 단위 (a syntatic unit of programming)"
      ]
    },
    {
      "cell_type": "code",
      "metadata": {
        "id": "X2ig3EIwKvzh",
        "colab_type": "code",
        "colab": {}
      },
      "source": [
        "# 하나의 값(value)도 문장이 될 수 있습니다."
      ],
      "execution_count": null,
      "outputs": []
    },
    {
      "cell_type": "code",
      "metadata": {
        "id": "LM8s-5xaKvzk",
        "colab_type": "code",
        "colab": {}
      },
      "source": [
        ""
      ],
      "execution_count": null,
      "outputs": []
    },
    {
      "cell_type": "code",
      "metadata": {
        "id": "Aht2_rrUKvzv",
        "colab_type": "code",
        "colab": {}
      },
      "source": [
        "# 표현식(expression)도 문장이 될 수 있습니다."
      ],
      "execution_count": null,
      "outputs": []
    },
    {
      "cell_type": "code",
      "metadata": {
        "id": "6US1z86cKvz0",
        "colab_type": "code",
        "colab": {}
      },
      "source": [
        ""
      ],
      "execution_count": null,
      "outputs": []
    },
    {
      "cell_type": "code",
      "metadata": {
        "id": "LXujTHddKvz3",
        "colab_type": "code",
        "colab": {}
      },
      "source": [
        "# 실행 가능(executable)해야 하기 때문에 아래의 코드는 문장이 될 수 없습니다."
      ],
      "execution_count": null,
      "outputs": []
    },
    {
      "cell_type": "code",
      "metadata": {
        "id": "LEMGWQJdKvz8",
        "colab_type": "code",
        "colab": {}
      },
      "source": [
        ""
      ],
      "execution_count": null,
      "outputs": []
    },
    {
      "cell_type": "markdown",
      "metadata": {
        "id": "S8fMRX1RKv0D",
        "colab_type": "text"
      },
      "source": [
        "### 문장과 표현식의 관계\n",
        "\n",
        "<center><img width=\"600\" height=\"300\" src=\"https://user-images.githubusercontent.com/9452521/87619771-f41f5e00-c757-11ea-9e4b-1f76e4ca0981.png\", alt=\"variable\"/></center>"
      ]
    },
    {
      "cell_type": "markdown",
      "metadata": {
        "id": "gMDyshZxKv0E",
        "colab_type": "text"
      },
      "source": [
        "# 정리\n",
        "\n",
        "## 변수(Variable)와 자료형(Data Type)\n",
        "\n",
        "<center><img width=800 height=400 src=\"https://user-images.githubusercontent.com/9452521/87640197-55a7f280-c781-11ea-9cff-19c022ce704a.png\", alt=\"variable\"/></center>\n"
      ]
    }
  ]
}